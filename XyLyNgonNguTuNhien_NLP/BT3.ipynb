{
  "cells": [
    {
      "cell_type": "code",
      "execution_count": 70,
      "metadata": {
        "colab": {
          "base_uri": "https://localhost:8080/"
        },
        "outputId": "96a79d60-1d00-426f-bfe1-4ba41e644b9d",
        "id": "a8572c92-5510-422b-a974-913b756479a9"
      },
      "outputs": [
        {
          "output_type": "stream",
          "name": "stderr",
          "text": [
            "[nltk_data] Downloading package punkt to /root/nltk_data...\n",
            "[nltk_data]   Package punkt is already up-to-date!\n",
            "[nltk_data] Downloading package punkt_tab to /root/nltk_data...\n",
            "[nltk_data]   Package punkt_tab is already up-to-date!\n"
          ]
        }
      ],
      "source": [
        "from typing import List, Tuple, Dict\n",
        "import numpy as np\n",
        "import nltk\n",
        "from nltk.tokenize import word_tokenize\n",
        "from collections import Counter\n",
        "\n",
        "# Ensure necessary NLTK tokenizer models are available\n",
        "nltk.download(\"punkt\")\n",
        "nltk.download('punkt_tab')\n",
        "\n",
        "class Tokenizer:\n",
        "    def __init__(self, tokenize_type: str = \"basic\", lowercase: bool = False):\n",
        "        self.lowercase = lowercase\n",
        "        self.type = tokenize_type\n",
        "        self.vocab = []  # Empty vocabulary list\n",
        "\n",
        "    def basicTokenize(self, string: str) -> List[str]:\n",
        "        # Tokenizes input string by splitting on whitespace\n",
        "        ### BEGIN SOLUTION\n",
        "        return string.split()\n",
        "        ### END SOLUTION\n",
        "\n",
        "    def nltkTokenize(self, string: str) -> List[str]:\n",
        "        # Tokenizes input string using NLTK's word tokenizer\n",
        "        ### BEGIN SOLUTION\n",
        "        return word_tokenize(string)\n",
        "        ### END SOLUTION\n",
        "\n",
        "    def tokenize(self, string: str) -> List[str]:\n",
        "        # Tokenizes string and updates vocabulary with unique words\n",
        "        if self.lowercase:\n",
        "            string = string.lower()\n",
        "        tokens = self.basicTokenize(string) if self.type == \"basic\" else self.nltkTokenize(string)\n",
        "        self.vocab += [w for w in set(tokens) if w not in self.vocab]\n",
        "        return tokens\n",
        "\n",
        "    def countTopWords(self, words: List[str], k: int) -> List[Tuple[str, int]]:\n",
        "        # Returns the top k most common words\n",
        "        ### BEGIN SOLUTION\n",
        "        word_counts = Counter(words)\n",
        "        return word_counts.most_common(k)\n",
        "        ### END SOLUTION"
      ],
      "id": "a8572c92-5510-422b-a974-913b756479a9"
    },
    {
      "cell_type": "code",
      "execution_count": 71,
      "metadata": {
        "id": "521b1876-66e6-497c-9e2e-da849afe9b20"
      },
      "outputs": [],
      "source": [
        "class BiGramLanguageModel:\n",
        "    def __init__(self, vocab: List[str], smoothing: str = None, smoothing_param: float = None): pass\n",
        "    def computeBigramProb(self): pass\n",
        "    def computeBigramProbAddAlpha(self, alpha: float = 0.001): pass\n",
        "    def train(self, corpus: List[str]): pass\n",
        "    def test(self, corpus: List[str]) -> float: pass"
      ],
      "id": "521b1876-66e6-497c-9e2e-da849afe9b20"
    },
    {
      "cell_type": "code",
      "execution_count": 72,
      "metadata": {
        "id": "782d4a24-a4dd-4642-9bae-d13a348dde1f"
      },
      "outputs": [],
      "source": [
        "def bigram_init(self, vocab, smoothing=None, smoothing_param=None):\n",
        "    self.vocab = vocab\n",
        "    self.token_to_idx = {word: i for i, word in enumerate(vocab)}\n",
        "    self.smoothing = smoothing\n",
        "    self.smoothing_param = smoothing_param\n",
        "    self.bi_counts = None\n",
        "    self.bi_prob = None\n",
        "    assert smoothing is None or smoothing_param is not None, \"Smoothing parameters must be set correctly.\""
      ],
      "id": "782d4a24-a4dd-4642-9bae-d13a348dde1f"
    },
    {
      "cell_type": "code",
      "execution_count": 73,
      "metadata": {
        "id": "575b688b-9ea9-4730-a3fb-3941afe94c62"
      },
      "outputs": [],
      "source": [
        "def bigram_compute_prob(self):\n",
        "    ### BEGIN SOLUTION\n",
        "    self.bi_prob = np.zeros_like(self.bi_counts)\n",
        "    for i in range(len(self.vocab)):\n",
        "        row_sum = self.bi_counts[i].sum()\n",
        "        if row_sum > 0:\n",
        "            self.bi_prob[i] = self.bi_counts[i] / row_sum\n",
        "        else:\n",
        "            self.bi_prob[i] = 0.0\n",
        "\n",
        "\n",
        "\n",
        "\n",
        "    ### END SOLUTION"
      ],
      "id": "575b688b-9ea9-4730-a3fb-3941afe94c62"
    },
    {
      "cell_type": "code",
      "execution_count": 74,
      "metadata": {
        "id": "d7b68c06-98ec-4010-afcd-cb0cd7061a3a"
      },
      "outputs": [],
      "source": [
        "def bigram_compute_prob_add_alpha(self, alpha=1e-3):\n",
        "    self.bi_prob = np.zeros_like(self.bi_counts)\n",
        "    for i in range(len(self.vocab)):\n",
        "        row_sum = self.bi_counts[i].sum()\n",
        "        denominator = row_sum + alpha * len(self.vocab)\n",
        "        self.bi_prob[i] = (self.bi_counts[i] + alpha) / denominator"
      ],
      "id": "d7b68c06-98ec-4010-afcd-cb0cd7061a3a"
    },
    {
      "cell_type": "code",
      "execution_count": 75,
      "metadata": {
        "id": "d7d6ac80-c137-429e-bedf-e1e9c4a4a511"
      },
      "outputs": [],
      "source": [
        "def bigram_train(self, corpus):\n",
        "    self.bi_counts = np.zeros((len(self.vocab), len(self.vocab)), dtype=float)\n",
        "    corpus_indices = [self.token_to_idx[w] for w in corpus]\n",
        "    for i in range(len(corpus_indices) - 1):\n",
        "        self.bi_counts[corpus_indices[i]][corpus_indices[i + 1]] += 1\n",
        "    if self.smoothing == \"addAlpha\":\n",
        "        self.computeBigramProbAddAlpha(self.smoothing_param)\n",
        "    else:\n",
        "        self.computeBigramProb()"
      ],
      "id": "d7d6ac80-c137-429e-bedf-e1e9c4a4a511"
    },
    {
      "cell_type": "code",
      "execution_count": 76,
      "metadata": {
        "id": "478cbaa0-c7e9-4b27-933c-5777ebf59f17"
      },
      "outputs": [],
      "source": [
        "def bigram_test(self, corpus):\n",
        "    logprob = 0.0\n",
        "    eps = 1e-10\n",
        "    corpus_indices = [self.token_to_idx[w] for w in corpus]\n",
        "    for i in range(len(corpus_indices) - 1):\n",
        "        prob = self.bi_prob[corpus_indices[i], corpus_indices[i + 1]]\n",
        "        logprob += np.log(prob + eps)\n",
        "    logprob /= len(corpus_indices) - 1\n",
        "    return np.exp(-logprob)"
      ],
      "id": "478cbaa0-c7e9-4b27-933c-5777ebf59f17"
    },
    {
      "cell_type": "code",
      "execution_count": 77,
      "metadata": {
        "id": "24f88e99-8a0b-474e-859f-0cf4a00ab224"
      },
      "outputs": [],
      "source": [
        "BiGramLanguageModel.__init__ = bigram_init\n",
        "BiGramLanguageModel.computeBigramProb = bigram_compute_prob\n",
        "BiGramLanguageModel.computeBigramProbAddAlpha = bigram_compute_prob_add_alpha\n",
        "BiGramLanguageModel.train = bigram_train\n",
        "BiGramLanguageModel.test = bigram_test"
      ],
      "id": "24f88e99-8a0b-474e-859f-0cf4a00ab224"
    },
    {
      "cell_type": "code",
      "execution_count": 78,
      "metadata": {
        "id": "6eb2b81f-1abd-4ac5-9efa-7000edde1433"
      },
      "outputs": [],
      "source": [
        "def readCorpus(filename: str, tokenizer: Tokenizer) -> List[str]:\n",
        "    # Reads and tokenizes the corpus from a file\n",
        "    with open(filename, 'r', encoding='utf-8') as f:\n",
        "        text = f.read()\n",
        "    return tokenizer.tokenize(text)"
      ],
      "id": "6eb2b81f-1abd-4ac5-9efa-7000edde1433"
    },
    {
      "cell_type": "code",
      "execution_count": 79,
      "metadata": {
        "id": "50428e45-c601-47e4-8bb6-70235aa72b57"
      },
      "outputs": [],
      "source": [
        "def runLanguageModel(train_corpus: List[str], val_corpus: List[str], tokenizer: Tokenizer, smoothing_type: str = None, smoothing_param: float = 0.0) -> Dict[str, float]:\n",
        "    # Trains and tests the language model, returning key metrics\n",
        "    lm = BiGramLanguageModel(tokenizer.vocab, smoothing=smoothing_type, smoothing_param=smoothing_param)\n",
        "    lm.train(train_corpus)\n",
        "    return {\"train_ppl\": lm.test(train_corpus), \"val_ppl\": lm.test(val_corpus)}"
      ],
      "id": "50428e45-c601-47e4-8bb6-70235aa72b57"
    },
    {
      "cell_type": "code",
      "execution_count": 80,
      "metadata": {
        "id": "74763a55-e845-452e-ac98-7757d55f8312"
      },
      "outputs": [],
      "source": [
        "# Initialize tokenizers with basic and NLTK options, both set to lowercase.\n",
        "basic_tokenizer = Tokenizer(tokenize_type='basic', lowercase=True)\n",
        "nltk_tokenizer = Tokenizer(tokenize_type='nltk', lowercase=True)"
      ],
      "id": "74763a55-e845-452e-ac98-7757d55f8312"
    },
    {
      "cell_type": "code",
      "execution_count": 81,
      "metadata": {
        "id": "d8fc9bd6-f119-4bfc-9340-3a6401580383"
      },
      "outputs": [],
      "source": [
        "# Read and tokenize the training and validation corpora using the basic tokenizer.\n",
        "train_corpus = readCorpus('./data/train.txt', basic_tokenizer)\n",
        "val_corpus = readCorpus('./data/val.txt', basic_tokenizer)\n",
        "\n",
        "# Example of using the NLTK tokenizer for comparison (unused in final results).\n",
        "train_corpus_nltk = readCorpus('./data/train.txt', nltk_tokenizer)\n",
        "val_corpus_nltk = readCorpus('./data/val.txt', nltk_tokenizer)"
      ],
      "id": "d8fc9bd6-f119-4bfc-9340-3a6401580383"
    },
    {
      "cell_type": "code",
      "execution_count": 82,
      "metadata": {
        "colab": {
          "base_uri": "https://localhost:8080/"
        },
        "outputId": "04d15d33-1124-408a-c98e-0e54892f1bb2",
        "id": "f56f8525-94a3-4d3f-8e91-9d96941428ba"
      },
      "outputs": [
        {
          "output_type": "execute_result",
          "data": {
            "text/plain": [
              "[('unk', 61019),\n",
              " ('the', 45302),\n",
              " ('of', 25379),\n",
              " ('and', 18067),\n",
              " ('to', 16515),\n",
              " ('a', 14371),\n",
              " ('in', 14231),\n",
              " ('is', 7466),\n",
              " ('that', 6484),\n",
              " ('for', 6434)]"
            ]
          },
          "metadata": {},
          "execution_count": 82
        }
      ],
      "source": [
        "# Get top 10 frequent words and counts from train_corpus with basic_tokenizer.\n",
        "### BEGIN PUBLIC TESTS\n",
        "basic_tokenizer.countTopWords(train_corpus, k=10)\n",
        "### END PUBLIC TESTS"
      ],
      "id": "f56f8525-94a3-4d3f-8e91-9d96941428ba"
    },
    {
      "cell_type": "code",
      "execution_count": 83,
      "metadata": {
        "colab": {
          "base_uri": "https://localhost:8080/"
        },
        "outputId": "2cfcef37-8e13-4640-eaa9-4cf2bac6feca",
        "id": "bb5d2730-1690-4115-b982-c4b4fb2ed4a4"
      },
      "outputs": [
        {
          "output_type": "execute_result",
          "data": {
            "text/plain": [
              "[('unk', 61019),\n",
              " ('the', 45885),\n",
              " ('of', 25427),\n",
              " (',', 23570),\n",
              " ('and', 18346),\n",
              " ('.', 17532),\n",
              " ('to', 16606),\n",
              " ('a', 14721),\n",
              " ('in', 14358),\n",
              " ('is', 7702)]"
            ]
          },
          "metadata": {},
          "execution_count": 83
        }
      ],
      "source": [
        "# Get top 10 frequent words and counts from train_corpus_nltk with nltk_tokenizer.\n",
        "### BEGIN PUBLIC TESTS\n",
        "nltk_tokenizer.countTopWords(train_corpus_nltk, k=10)\n",
        "### END PUBLIC TESTS"
      ],
      "id": "bb5d2730-1690-4115-b982-c4b4fb2ed4a4"
    },
    {
      "cell_type": "code",
      "execution_count": 84,
      "metadata": {
        "colab": {
          "base_uri": "https://localhost:8080/"
        },
        "outputId": "2ff03d40-5a67-4c0c-b9c6-088094a7c293",
        "id": "3647c104-4d8b-4d9f-9863-d27d2b0c4631"
      },
      "outputs": [
        {
          "output_type": "execute_result",
          "data": {
            "text/plain": [
              "{'train_ppl': np.float64(69.87840111738812),\n",
              " 'val_ppl': np.float64(58435.97213541714)}"
            ]
          },
          "metadata": {},
          "execution_count": 84
        }
      ],
      "source": [
        "# Run the language model with the basic tokenizer and without smoothing.\n",
        "### BEGIN PUBLIC TESTS\n",
        "runLanguageModel(train_corpus, val_corpus,\n",
        "                 tokenizer=basic_tokenizer)\n",
        "### END PUBLIC TESTS"
      ],
      "id": "3647c104-4d8b-4d9f-9863-d27d2b0c4631"
    },
    {
      "cell_type": "code",
      "execution_count": 85,
      "metadata": {
        "colab": {
          "base_uri": "https://localhost:8080/"
        },
        "outputId": "88b29f88-204e-4878-b46d-33b69db964c9",
        "id": "d8b24f9d-3e00-4160-8e67-64a92ee56c7e"
      },
      "outputs": [
        {
          "output_type": "execute_result",
          "data": {
            "text/plain": [
              "{'train_ppl': np.float64(69.68966075535424),\n",
              " 'val_ppl': np.float64(9285.574606771734)}"
            ]
          },
          "metadata": {},
          "execution_count": 85
        }
      ],
      "source": [
        "# Run the language model with the nltk tokenizer and without smoothing.\n",
        "### BEGIN PUBLIC TESTS\n",
        "runLanguageModel(train_corpus_nltk, val_corpus_nltk,\n",
        "                 tokenizer=nltk_tokenizer)\n",
        "### END PUBLIC TESTS"
      ],
      "id": "d8b24f9d-3e00-4160-8e67-64a92ee56c7e"
    },
    {
      "cell_type": "code",
      "execution_count": 86,
      "metadata": {
        "colab": {
          "base_uri": "https://localhost:8080/"
        },
        "outputId": "4b9d48ca-6430-4b7d-b5a0-9668d25011b9",
        "id": "cd009e10-a330-4619-a84b-947948ac16c0"
      },
      "outputs": [
        {
          "output_type": "execute_result",
          "data": {
            "text/plain": [
              "{'train_ppl': np.float64(74.15013253687664),\n",
              " 'val_ppl': np.float64(2216.4589207208182)}"
            ]
          },
          "metadata": {},
          "execution_count": 86
        }
      ],
      "source": [
        "# Run the language model with the basic tokenizer and with smoothing.\n",
        "runLanguageModel(train_corpus, val_corpus,\n",
        "                 tokenizer=basic_tokenizer, smoothing_type='addAlpha', smoothing_param=10e-5)"
      ],
      "id": "cd009e10-a330-4619-a84b-947948ac16c0"
    },
    {
      "cell_type": "code",
      "execution_count": 87,
      "metadata": {
        "colab": {
          "base_uri": "https://localhost:8080/"
        },
        "outputId": "e70c8faa-3ddf-44c7-b6be-624e0051eb91",
        "id": "9b8bc0a6-773d-4c2f-a909-712111593f6f"
      },
      "outputs": [
        {
          "output_type": "execute_result",
          "data": {
            "text/plain": [
              "{'train_ppl': np.float64(71.60376054214575),\n",
              " 'val_ppl': np.float64(914.026630299532)}"
            ]
          },
          "metadata": {},
          "execution_count": 87
        }
      ],
      "source": [
        "# Run the language model with the nltk tokenizer and with smoothing.\n",
        "runLanguageModel(train_corpus_nltk, val_corpus_nltk,\n",
        "                 tokenizer=nltk_tokenizer, smoothing_type='addAlpha', smoothing_param=10e-5)"
      ],
      "id": "9b8bc0a6-773d-4c2f-a909-712111593f6f"
    }
  ],
  "metadata": {
    "colab": {
      "provenance": []
    },
    "kernelspec": {
      "display_name": "Python 3 (ipykernel)",
      "language": "python",
      "name": "python3"
    },
    "language_info": {
      "codemirror_mode": {
        "name": "ipython",
        "version": 3
      },
      "file_extension": ".py",
      "mimetype": "text/x-python",
      "name": "python",
      "nbconvert_exporter": "python",
      "pygments_lexer": "ipython3",
      "version": "3.10.12"
    }
  },
  "nbformat": 4,
  "nbformat_minor": 5
}