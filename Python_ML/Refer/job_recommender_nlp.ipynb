{
  "metadata": {
    "kernelspec": {
      "language": "python",
      "display_name": "Python 3",
      "name": "python3"
    },
    "language_info": {
      "name": "python",
      "version": "3.11.11",
      "mimetype": "text/x-python",
      "codemirror_mode": {
        "name": "ipython",
        "version": 3
      },
      "pygments_lexer": "ipython3",
      "nbconvert_exporter": "python",
      "file_extension": ".py"
    },
    "kaggle": {
      "accelerator": "none",
      "dataSources": [
        {
          "sourceId": 2508632,
          "sourceType": "datasetVersion",
          "datasetId": 1519260
        },
        {
          "sourceId": 9200871,
          "sourceType": "datasetVersion",
          "datasetId": 3680745
        }
      ],
      "dockerImageVersionId": 31040,
      "isInternetEnabled": false,
      "language": "python",
      "sourceType": "notebook",
      "isGpuEnabled": false
    },
    "colab": {
      "provenance": []
    },
    "widgets": {
      "application/vnd.jupyter.widget-state+json": {
        "f2394c1396e64ccc8ad1c308edb17259": {
          "model_module": "@jupyter-widgets/controls",
          "model_name": "HBoxModel",
          "model_module_version": "1.5.0",
          "state": {
            "_dom_classes": [],
            "_model_module": "@jupyter-widgets/controls",
            "_model_module_version": "1.5.0",
            "_model_name": "HBoxModel",
            "_view_count": null,
            "_view_module": "@jupyter-widgets/controls",
            "_view_module_version": "1.5.0",
            "_view_name": "HBoxView",
            "box_style": "",
            "children": [
              "IPY_MODEL_df901121cb2348589ba968ba73f30f6b",
              "IPY_MODEL_80fad9e757c04ea9b19847e89e9ef727",
              "IPY_MODEL_e2a47d93a4ff451ea95168168c42fa33"
            ],
            "layout": "IPY_MODEL_fa4319e1cf3845f48122ac1ac9f9d49a"
          }
        },
        "df901121cb2348589ba968ba73f30f6b": {
          "model_module": "@jupyter-widgets/controls",
          "model_name": "HTMLModel",
          "model_module_version": "1.5.0",
          "state": {
            "_dom_classes": [],
            "_model_module": "@jupyter-widgets/controls",
            "_model_module_version": "1.5.0",
            "_model_name": "HTMLModel",
            "_view_count": null,
            "_view_module": "@jupyter-widgets/controls",
            "_view_module_version": "1.5.0",
            "_view_name": "HTMLView",
            "description": "",
            "description_tooltip": null,
            "layout": "IPY_MODEL_ca9d71cd03754b43a5e294f16b293b8f",
            "placeholder": "​",
            "style": "IPY_MODEL_abc49755e57c41658c2006d0a2435556",
            "value": "Batches: 100%"
          }
        },
        "80fad9e757c04ea9b19847e89e9ef727": {
          "model_module": "@jupyter-widgets/controls",
          "model_name": "FloatProgressModel",
          "model_module_version": "1.5.0",
          "state": {
            "_dom_classes": [],
            "_model_module": "@jupyter-widgets/controls",
            "_model_module_version": "1.5.0",
            "_model_name": "FloatProgressModel",
            "_view_count": null,
            "_view_module": "@jupyter-widgets/controls",
            "_view_module_version": "1.5.0",
            "_view_name": "ProgressView",
            "bar_style": "success",
            "description": "",
            "description_tooltip": null,
            "layout": "IPY_MODEL_c8f9f11a47be42edb28d4f6b8a9e7200",
            "max": 32,
            "min": 0,
            "orientation": "horizontal",
            "style": "IPY_MODEL_d44c895c513a4eba8a002426867e98f3",
            "value": 32
          }
        },
        "e2a47d93a4ff451ea95168168c42fa33": {
          "model_module": "@jupyter-widgets/controls",
          "model_name": "HTMLModel",
          "model_module_version": "1.5.0",
          "state": {
            "_dom_classes": [],
            "_model_module": "@jupyter-widgets/controls",
            "_model_module_version": "1.5.0",
            "_model_name": "HTMLModel",
            "_view_count": null,
            "_view_module": "@jupyter-widgets/controls",
            "_view_module_version": "1.5.0",
            "_view_name": "HTMLView",
            "description": "",
            "description_tooltip": null,
            "layout": "IPY_MODEL_2980ee5448f140a9a97e289720dca6a8",
            "placeholder": "​",
            "style": "IPY_MODEL_3ee5b70985cd4e2c95b17c61d552bbd9",
            "value": " 32/32 [02:09&lt;00:00,  2.64s/it]"
          }
        },
        "fa4319e1cf3845f48122ac1ac9f9d49a": {
          "model_module": "@jupyter-widgets/base",
          "model_name": "LayoutModel",
          "model_module_version": "1.2.0",
          "state": {
            "_model_module": "@jupyter-widgets/base",
            "_model_module_version": "1.2.0",
            "_model_name": "LayoutModel",
            "_view_count": null,
            "_view_module": "@jupyter-widgets/base",
            "_view_module_version": "1.2.0",
            "_view_name": "LayoutView",
            "align_content": null,
            "align_items": null,
            "align_self": null,
            "border": null,
            "bottom": null,
            "display": null,
            "flex": null,
            "flex_flow": null,
            "grid_area": null,
            "grid_auto_columns": null,
            "grid_auto_flow": null,
            "grid_auto_rows": null,
            "grid_column": null,
            "grid_gap": null,
            "grid_row": null,
            "grid_template_areas": null,
            "grid_template_columns": null,
            "grid_template_rows": null,
            "height": null,
            "justify_content": null,
            "justify_items": null,
            "left": null,
            "margin": null,
            "max_height": null,
            "max_width": null,
            "min_height": null,
            "min_width": null,
            "object_fit": null,
            "object_position": null,
            "order": null,
            "overflow": null,
            "overflow_x": null,
            "overflow_y": null,
            "padding": null,
            "right": null,
            "top": null,
            "visibility": null,
            "width": null
          }
        },
        "ca9d71cd03754b43a5e294f16b293b8f": {
          "model_module": "@jupyter-widgets/base",
          "model_name": "LayoutModel",
          "model_module_version": "1.2.0",
          "state": {
            "_model_module": "@jupyter-widgets/base",
            "_model_module_version": "1.2.0",
            "_model_name": "LayoutModel",
            "_view_count": null,
            "_view_module": "@jupyter-widgets/base",
            "_view_module_version": "1.2.0",
            "_view_name": "LayoutView",
            "align_content": null,
            "align_items": null,
            "align_self": null,
            "border": null,
            "bottom": null,
            "display": null,
            "flex": null,
            "flex_flow": null,
            "grid_area": null,
            "grid_auto_columns": null,
            "grid_auto_flow": null,
            "grid_auto_rows": null,
            "grid_column": null,
            "grid_gap": null,
            "grid_row": null,
            "grid_template_areas": null,
            "grid_template_columns": null,
            "grid_template_rows": null,
            "height": null,
            "justify_content": null,
            "justify_items": null,
            "left": null,
            "margin": null,
            "max_height": null,
            "max_width": null,
            "min_height": null,
            "min_width": null,
            "object_fit": null,
            "object_position": null,
            "order": null,
            "overflow": null,
            "overflow_x": null,
            "overflow_y": null,
            "padding": null,
            "right": null,
            "top": null,
            "visibility": null,
            "width": null
          }
        },
        "abc49755e57c41658c2006d0a2435556": {
          "model_module": "@jupyter-widgets/controls",
          "model_name": "DescriptionStyleModel",
          "model_module_version": "1.5.0",
          "state": {
            "_model_module": "@jupyter-widgets/controls",
            "_model_module_version": "1.5.0",
            "_model_name": "DescriptionStyleModel",
            "_view_count": null,
            "_view_module": "@jupyter-widgets/base",
            "_view_module_version": "1.2.0",
            "_view_name": "StyleView",
            "description_width": ""
          }
        },
        "c8f9f11a47be42edb28d4f6b8a9e7200": {
          "model_module": "@jupyter-widgets/base",
          "model_name": "LayoutModel",
          "model_module_version": "1.2.0",
          "state": {
            "_model_module": "@jupyter-widgets/base",
            "_model_module_version": "1.2.0",
            "_model_name": "LayoutModel",
            "_view_count": null,
            "_view_module": "@jupyter-widgets/base",
            "_view_module_version": "1.2.0",
            "_view_name": "LayoutView",
            "align_content": null,
            "align_items": null,
            "align_self": null,
            "border": null,
            "bottom": null,
            "display": null,
            "flex": null,
            "flex_flow": null,
            "grid_area": null,
            "grid_auto_columns": null,
            "grid_auto_flow": null,
            "grid_auto_rows": null,
            "grid_column": null,
            "grid_gap": null,
            "grid_row": null,
            "grid_template_areas": null,
            "grid_template_columns": null,
            "grid_template_rows": null,
            "height": null,
            "justify_content": null,
            "justify_items": null,
            "left": null,
            "margin": null,
            "max_height": null,
            "max_width": null,
            "min_height": null,
            "min_width": null,
            "object_fit": null,
            "object_position": null,
            "order": null,
            "overflow": null,
            "overflow_x": null,
            "overflow_y": null,
            "padding": null,
            "right": null,
            "top": null,
            "visibility": null,
            "width": null
          }
        },
        "d44c895c513a4eba8a002426867e98f3": {
          "model_module": "@jupyter-widgets/controls",
          "model_name": "ProgressStyleModel",
          "model_module_version": "1.5.0",
          "state": {
            "_model_module": "@jupyter-widgets/controls",
            "_model_module_version": "1.5.0",
            "_model_name": "ProgressStyleModel",
            "_view_count": null,
            "_view_module": "@jupyter-widgets/base",
            "_view_module_version": "1.2.0",
            "_view_name": "StyleView",
            "bar_color": null,
            "description_width": ""
          }
        },
        "2980ee5448f140a9a97e289720dca6a8": {
          "model_module": "@jupyter-widgets/base",
          "model_name": "LayoutModel",
          "model_module_version": "1.2.0",
          "state": {
            "_model_module": "@jupyter-widgets/base",
            "_model_module_version": "1.2.0",
            "_model_name": "LayoutModel",
            "_view_count": null,
            "_view_module": "@jupyter-widgets/base",
            "_view_module_version": "1.2.0",
            "_view_name": "LayoutView",
            "align_content": null,
            "align_items": null,
            "align_self": null,
            "border": null,
            "bottom": null,
            "display": null,
            "flex": null,
            "flex_flow": null,
            "grid_area": null,
            "grid_auto_columns": null,
            "grid_auto_flow": null,
            "grid_auto_rows": null,
            "grid_column": null,
            "grid_gap": null,
            "grid_row": null,
            "grid_template_areas": null,
            "grid_template_columns": null,
            "grid_template_rows": null,
            "height": null,
            "justify_content": null,
            "justify_items": null,
            "left": null,
            "margin": null,
            "max_height": null,
            "max_width": null,
            "min_height": null,
            "min_width": null,
            "object_fit": null,
            "object_position": null,
            "order": null,
            "overflow": null,
            "overflow_x": null,
            "overflow_y": null,
            "padding": null,
            "right": null,
            "top": null,
            "visibility": null,
            "width": null
          }
        },
        "3ee5b70985cd4e2c95b17c61d552bbd9": {
          "model_module": "@jupyter-widgets/controls",
          "model_name": "DescriptionStyleModel",
          "model_module_version": "1.5.0",
          "state": {
            "_model_module": "@jupyter-widgets/controls",
            "_model_module_version": "1.5.0",
            "_model_name": "DescriptionStyleModel",
            "_view_count": null,
            "_view_module": "@jupyter-widgets/base",
            "_view_module_version": "1.2.0",
            "_view_name": "StyleView",
            "description_width": ""
          }
        },
        "f808cce6421749dbb4745e145553842f": {
          "model_module": "@jupyter-widgets/controls",
          "model_name": "HBoxModel",
          "model_module_version": "1.5.0",
          "state": {
            "_dom_classes": [],
            "_model_module": "@jupyter-widgets/controls",
            "_model_module_version": "1.5.0",
            "_model_name": "HBoxModel",
            "_view_count": null,
            "_view_module": "@jupyter-widgets/controls",
            "_view_module_version": "1.5.0",
            "_view_name": "HBoxView",
            "box_style": "",
            "children": [
              "IPY_MODEL_085389e29ac34ef0ba60ca815073fae2",
              "IPY_MODEL_74676a504b2043fba6edcd7dd668c957",
              "IPY_MODEL_6efce07c822e434b866aafd9d81d9c96"
            ],
            "layout": "IPY_MODEL_5f57bfd308924e0bbb5f1812cc87e37f"
          }
        },
        "085389e29ac34ef0ba60ca815073fae2": {
          "model_module": "@jupyter-widgets/controls",
          "model_name": "HTMLModel",
          "model_module_version": "1.5.0",
          "state": {
            "_dom_classes": [],
            "_model_module": "@jupyter-widgets/controls",
            "_model_module_version": "1.5.0",
            "_model_name": "HTMLModel",
            "_view_count": null,
            "_view_module": "@jupyter-widgets/controls",
            "_view_module_version": "1.5.0",
            "_view_name": "HTMLView",
            "description": "",
            "description_tooltip": null,
            "layout": "IPY_MODEL_384ffda6bb4e4724b7c0a400158ceed4",
            "placeholder": "​",
            "style": "IPY_MODEL_1849960013174db19e97a428a717a047",
            "value": "Batches: 100%"
          }
        },
        "74676a504b2043fba6edcd7dd668c957": {
          "model_module": "@jupyter-widgets/controls",
          "model_name": "FloatProgressModel",
          "model_module_version": "1.5.0",
          "state": {
            "_dom_classes": [],
            "_model_module": "@jupyter-widgets/controls",
            "_model_module_version": "1.5.0",
            "_model_name": "FloatProgressModel",
            "_view_count": null,
            "_view_module": "@jupyter-widgets/controls",
            "_view_module_version": "1.5.0",
            "_view_name": "ProgressView",
            "bar_style": "success",
            "description": "",
            "description_tooltip": null,
            "layout": "IPY_MODEL_f33bc827157c469bb9a4015402886b43",
            "max": 32,
            "min": 0,
            "orientation": "horizontal",
            "style": "IPY_MODEL_372c131d8bbe4d3fafa5fe47943c8a33",
            "value": 32
          }
        },
        "6efce07c822e434b866aafd9d81d9c96": {
          "model_module": "@jupyter-widgets/controls",
          "model_name": "HTMLModel",
          "model_module_version": "1.5.0",
          "state": {
            "_dom_classes": [],
            "_model_module": "@jupyter-widgets/controls",
            "_model_module_version": "1.5.0",
            "_model_name": "HTMLModel",
            "_view_count": null,
            "_view_module": "@jupyter-widgets/controls",
            "_view_module_version": "1.5.0",
            "_view_name": "HTMLView",
            "description": "",
            "description_tooltip": null,
            "layout": "IPY_MODEL_a4a8384717394847a292347866ebee4d",
            "placeholder": "​",
            "style": "IPY_MODEL_3bc473460596472b8058239e522478fe",
            "value": " 32/32 [02:11&lt;00:00,  3.33s/it]"
          }
        },
        "5f57bfd308924e0bbb5f1812cc87e37f": {
          "model_module": "@jupyter-widgets/base",
          "model_name": "LayoutModel",
          "model_module_version": "1.2.0",
          "state": {
            "_model_module": "@jupyter-widgets/base",
            "_model_module_version": "1.2.0",
            "_model_name": "LayoutModel",
            "_view_count": null,
            "_view_module": "@jupyter-widgets/base",
            "_view_module_version": "1.2.0",
            "_view_name": "LayoutView",
            "align_content": null,
            "align_items": null,
            "align_self": null,
            "border": null,
            "bottom": null,
            "display": null,
            "flex": null,
            "flex_flow": null,
            "grid_area": null,
            "grid_auto_columns": null,
            "grid_auto_flow": null,
            "grid_auto_rows": null,
            "grid_column": null,
            "grid_gap": null,
            "grid_row": null,
            "grid_template_areas": null,
            "grid_template_columns": null,
            "grid_template_rows": null,
            "height": null,
            "justify_content": null,
            "justify_items": null,
            "left": null,
            "margin": null,
            "max_height": null,
            "max_width": null,
            "min_height": null,
            "min_width": null,
            "object_fit": null,
            "object_position": null,
            "order": null,
            "overflow": null,
            "overflow_x": null,
            "overflow_y": null,
            "padding": null,
            "right": null,
            "top": null,
            "visibility": null,
            "width": null
          }
        },
        "384ffda6bb4e4724b7c0a400158ceed4": {
          "model_module": "@jupyter-widgets/base",
          "model_name": "LayoutModel",
          "model_module_version": "1.2.0",
          "state": {
            "_model_module": "@jupyter-widgets/base",
            "_model_module_version": "1.2.0",
            "_model_name": "LayoutModel",
            "_view_count": null,
            "_view_module": "@jupyter-widgets/base",
            "_view_module_version": "1.2.0",
            "_view_name": "LayoutView",
            "align_content": null,
            "align_items": null,
            "align_self": null,
            "border": null,
            "bottom": null,
            "display": null,
            "flex": null,
            "flex_flow": null,
            "grid_area": null,
            "grid_auto_columns": null,
            "grid_auto_flow": null,
            "grid_auto_rows": null,
            "grid_column": null,
            "grid_gap": null,
            "grid_row": null,
            "grid_template_areas": null,
            "grid_template_columns": null,
            "grid_template_rows": null,
            "height": null,
            "justify_content": null,
            "justify_items": null,
            "left": null,
            "margin": null,
            "max_height": null,
            "max_width": null,
            "min_height": null,
            "min_width": null,
            "object_fit": null,
            "object_position": null,
            "order": null,
            "overflow": null,
            "overflow_x": null,
            "overflow_y": null,
            "padding": null,
            "right": null,
            "top": null,
            "visibility": null,
            "width": null
          }
        },
        "1849960013174db19e97a428a717a047": {
          "model_module": "@jupyter-widgets/controls",
          "model_name": "DescriptionStyleModel",
          "model_module_version": "1.5.0",
          "state": {
            "_model_module": "@jupyter-widgets/controls",
            "_model_module_version": "1.5.0",
            "_model_name": "DescriptionStyleModel",
            "_view_count": null,
            "_view_module": "@jupyter-widgets/base",
            "_view_module_version": "1.2.0",
            "_view_name": "StyleView",
            "description_width": ""
          }
        },
        "f33bc827157c469bb9a4015402886b43": {
          "model_module": "@jupyter-widgets/base",
          "model_name": "LayoutModel",
          "model_module_version": "1.2.0",
          "state": {
            "_model_module": "@jupyter-widgets/base",
            "_model_module_version": "1.2.0",
            "_model_name": "LayoutModel",
            "_view_count": null,
            "_view_module": "@jupyter-widgets/base",
            "_view_module_version": "1.2.0",
            "_view_name": "LayoutView",
            "align_content": null,
            "align_items": null,
            "align_self": null,
            "border": null,
            "bottom": null,
            "display": null,
            "flex": null,
            "flex_flow": null,
            "grid_area": null,
            "grid_auto_columns": null,
            "grid_auto_flow": null,
            "grid_auto_rows": null,
            "grid_column": null,
            "grid_gap": null,
            "grid_row": null,
            "grid_template_areas": null,
            "grid_template_columns": null,
            "grid_template_rows": null,
            "height": null,
            "justify_content": null,
            "justify_items": null,
            "left": null,
            "margin": null,
            "max_height": null,
            "max_width": null,
            "min_height": null,
            "min_width": null,
            "object_fit": null,
            "object_position": null,
            "order": null,
            "overflow": null,
            "overflow_x": null,
            "overflow_y": null,
            "padding": null,
            "right": null,
            "top": null,
            "visibility": null,
            "width": null
          }
        },
        "372c131d8bbe4d3fafa5fe47943c8a33": {
          "model_module": "@jupyter-widgets/controls",
          "model_name": "ProgressStyleModel",
          "model_module_version": "1.5.0",
          "state": {
            "_model_module": "@jupyter-widgets/controls",
            "_model_module_version": "1.5.0",
            "_model_name": "ProgressStyleModel",
            "_view_count": null,
            "_view_module": "@jupyter-widgets/base",
            "_view_module_version": "1.2.0",
            "_view_name": "StyleView",
            "bar_color": null,
            "description_width": ""
          }
        },
        "a4a8384717394847a292347866ebee4d": {
          "model_module": "@jupyter-widgets/base",
          "model_name": "LayoutModel",
          "model_module_version": "1.2.0",
          "state": {
            "_model_module": "@jupyter-widgets/base",
            "_model_module_version": "1.2.0",
            "_model_name": "LayoutModel",
            "_view_count": null,
            "_view_module": "@jupyter-widgets/base",
            "_view_module_version": "1.2.0",
            "_view_name": "LayoutView",
            "align_content": null,
            "align_items": null,
            "align_self": null,
            "border": null,
            "bottom": null,
            "display": null,
            "flex": null,
            "flex_flow": null,
            "grid_area": null,
            "grid_auto_columns": null,
            "grid_auto_flow": null,
            "grid_auto_rows": null,
            "grid_column": null,
            "grid_gap": null,
            "grid_row": null,
            "grid_template_areas": null,
            "grid_template_columns": null,
            "grid_template_rows": null,
            "height": null,
            "justify_content": null,
            "justify_items": null,
            "left": null,
            "margin": null,
            "max_height": null,
            "max_width": null,
            "min_height": null,
            "min_width": null,
            "object_fit": null,
            "object_position": null,
            "order": null,
            "overflow": null,
            "overflow_x": null,
            "overflow_y": null,
            "padding": null,
            "right": null,
            "top": null,
            "visibility": null,
            "width": null
          }
        },
        "3bc473460596472b8058239e522478fe": {
          "model_module": "@jupyter-widgets/controls",
          "model_name": "DescriptionStyleModel",
          "model_module_version": "1.5.0",
          "state": {
            "_model_module": "@jupyter-widgets/controls",
            "_model_module_version": "1.5.0",
            "_model_name": "DescriptionStyleModel",
            "_view_count": null,
            "_view_module": "@jupyter-widgets/base",
            "_view_module_version": "1.2.0",
            "_view_name": "StyleView",
            "description_width": ""
          }
        }
      }
    }
  },
  "nbformat_minor": 0,
  "nbformat": 4,
  "cells": [
    {
      "cell_type": "markdown",
      "source": [
        "# Introduction\n",
        "\n",
        "> This project investigates the application of **embeddings to improve the effectiveness of job matching platforms**, addressing the limitations of traditional keyword-based search methods.\n",
        "## Problem Definition\n",
        "\n",
        "*   **Inefficient & Biased:** Keyword-based job searches are inefficient, often overlooking qualified candidates whose resumes don't perfectly match job descriptions. This can perpetuate bias and limit diversity in hiring.\n",
        "\n",
        "*   **Hidden Talent:**  Many talented individuals are hidden from employers because their resumes don't contain the exact keywords used in job postings.\n",
        "\n",
        "## Value Proposition\n",
        "\n",
        "This project showcases an AI-powered job matching system that uses embeddings to:\n",
        "\n",
        "*   **Surface the Best Matches:** GGo beyond keywords to understand the true meaning of job descriptions and resumes, leading to more relevant matches for both job seekers and employers.\n",
        "*   **Improve Efficiency:** Save time and effort for both parties by quickly identifying the most promising candidates.\n",
        "*   **Promote Diversity:** Mitigate bias by considering a wider range of qualified candidates.\n",
        "\n",
        "## Scope\n",
        "\n",
        "This demo focuses on:\n",
        "\n",
        "*   Building a job recommendation engine using Sentence-BERT embeddings, supporting both job seekers (resume-based job recommendations) and recruiters (JD-based candidate recommendations).\n",
        "*   Illustrating core concepts of embedding generation and similarity matching.\n",
        "*   Processing a larger dataset (1,000 job postings, 1,000 resumes) to fit Kaggle's free tier, with scalability testing.\n",
        "*   Adding evaluation (manual validation, average similarity) and visualization (similarity score distribution).\n",
        "\n",
        "## Out-of-Scope\n",
        "\n",
        "*   Comparison of different embedding models.\n",
        "*   Integration with vector databases.\n",
        "*   In-depth data analysis."
      ],
      "metadata": {
        "id": "ZI6flYmw6rS5"
      }
    },
    {
      "cell_type": "markdown",
      "source": [
        "# Data Extraction and Preparation\n",
        "\n",
        "> High-quality data is the foundation of any successful AI project. This section outlines the steps involved in acquiring, preparing, and transforming the job posting and resume data for our AI-powered matching system.\n",
        "\n",
        "## Data Sources\n",
        "\n",
        "*   **Job Postings:** We'll use a publicly available dataset of [LinkedIn job postings](https://www.kaggle.com/datasets/arshkon/linkedin-job-postings). This dataset provides a realistic snapshot of the current job market.\n",
        "*   **Resumes:** We'll use a publicly available dataset of [resumes](https://www.kaggle.com/datasets/snehaanbhawal/resume-dataset). This dataset includes resumes from a diverse range of professionals across various industries.\n",
        "\n",
        "## Data Preprocessing\n",
        "\n",
        "To ensure our AI model can effectively analyze and understand the data, we'll perform the following preprocessing steps:\n",
        "\n",
        "*   **Data Cleaning:** Handle missing values and inconsistencies to improve data quality.\n",
        "*   **Text Normalization:** Standardize text fields (e.g., convert to lowercase, lemmatize using `spaCy`, remove punctuation) to reduce noise and improve matching accuracy.\n",
        "*   **Feature Engineering:** Create a single, consolidated text field for each job posting and resume by combining key features like job title, description, and skills. Additionally, extract structured features (skills and domains) using predefined lists for better matching.\n",
        "*   **Output Saving:** Save preprocessed data as `cleaned_data.csv` for downstream use."
      ],
      "metadata": {
        "id": "UMp5VOQ_6rS7"
      }
    },
    {
      "cell_type": "markdown",
      "source": [
        "# Import Libraries and Install Dependecies"
      ],
      "metadata": {
        "id": "P1WiwHcO6rS8"
      }
    },
    {
      "cell_type": "markdown",
      "source": [
        "### Install Sentence-Transformers"
      ],
      "metadata": {
        "id": "yI3Q9wBN6rS8"
      }
    },
    {
      "cell_type": "code",
      "source": [
        "# Install the sentence-transformers library required for Sentence-BERT embeddings\n",
        "!pip install -U sentence-transformers"
      ],
      "metadata": {
        "trusted": true,
        "execution": {
          "iopub.status.busy": "2025-05-23T19:47:02.231168Z",
          "iopub.execute_input": "2025-05-23T19:47:02.231524Z",
          "iopub.status.idle": "2025-05-23T19:47:06.608696Z",
          "shell.execute_reply.started": "2025-05-23T19:47:02.231499Z",
          "shell.execute_reply": "2025-05-23T19:47:06.607502Z"
        },
        "colab": {
          "base_uri": "https://localhost:8080/"
        },
        "id": "L-fbFFbA6rS9",
        "outputId": "2e9cb85a-4aa3-4bdf-f138-24b6788146c2"
      },
      "outputs": [
        {
          "output_type": "stream",
          "name": "stdout",
          "text": [
            "Requirement already satisfied: sentence-transformers in /usr/local/lib/python3.11/dist-packages (5.1.0)\n",
            "Requirement already satisfied: transformers<5.0.0,>=4.41.0 in /usr/local/lib/python3.11/dist-packages (from sentence-transformers) (4.55.0)\n",
            "Requirement already satisfied: tqdm in /usr/local/lib/python3.11/dist-packages (from sentence-transformers) (4.67.1)\n",
            "Requirement already satisfied: torch>=1.11.0 in /usr/local/lib/python3.11/dist-packages (from sentence-transformers) (2.6.0+cu124)\n",
            "Requirement already satisfied: scikit-learn in /usr/local/lib/python3.11/dist-packages (from sentence-transformers) (1.6.1)\n",
            "Requirement already satisfied: scipy in /usr/local/lib/python3.11/dist-packages (from sentence-transformers) (1.16.1)\n",
            "Requirement already satisfied: huggingface-hub>=0.20.0 in /usr/local/lib/python3.11/dist-packages (from sentence-transformers) (0.34.3)\n",
            "Requirement already satisfied: Pillow in /usr/local/lib/python3.11/dist-packages (from sentence-transformers) (11.3.0)\n",
            "Requirement already satisfied: typing_extensions>=4.5.0 in /usr/local/lib/python3.11/dist-packages (from sentence-transformers) (4.14.1)\n",
            "Requirement already satisfied: filelock in /usr/local/lib/python3.11/dist-packages (from huggingface-hub>=0.20.0->sentence-transformers) (3.18.0)\n",
            "Requirement already satisfied: fsspec>=2023.5.0 in /usr/local/lib/python3.11/dist-packages (from huggingface-hub>=0.20.0->sentence-transformers) (2025.3.0)\n",
            "Requirement already satisfied: packaging>=20.9 in /usr/local/lib/python3.11/dist-packages (from huggingface-hub>=0.20.0->sentence-transformers) (25.0)\n",
            "Requirement already satisfied: pyyaml>=5.1 in /usr/local/lib/python3.11/dist-packages (from huggingface-hub>=0.20.0->sentence-transformers) (6.0.2)\n",
            "Requirement already satisfied: requests in /usr/local/lib/python3.11/dist-packages (from huggingface-hub>=0.20.0->sentence-transformers) (2.32.3)\n",
            "Requirement already satisfied: hf-xet<2.0.0,>=1.1.3 in /usr/local/lib/python3.11/dist-packages (from huggingface-hub>=0.20.0->sentence-transformers) (1.1.7)\n",
            "Requirement already satisfied: networkx in /usr/local/lib/python3.11/dist-packages (from torch>=1.11.0->sentence-transformers) (3.5)\n",
            "Requirement already satisfied: jinja2 in /usr/local/lib/python3.11/dist-packages (from torch>=1.11.0->sentence-transformers) (3.1.6)\n",
            "Requirement already satisfied: nvidia-cuda-nvrtc-cu12==12.4.127 in /usr/local/lib/python3.11/dist-packages (from torch>=1.11.0->sentence-transformers) (12.4.127)\n",
            "Requirement already satisfied: nvidia-cuda-runtime-cu12==12.4.127 in /usr/local/lib/python3.11/dist-packages (from torch>=1.11.0->sentence-transformers) (12.4.127)\n",
            "Requirement already satisfied: nvidia-cuda-cupti-cu12==12.4.127 in /usr/local/lib/python3.11/dist-packages (from torch>=1.11.0->sentence-transformers) (12.4.127)\n",
            "Requirement already satisfied: nvidia-cudnn-cu12==9.1.0.70 in /usr/local/lib/python3.11/dist-packages (from torch>=1.11.0->sentence-transformers) (9.1.0.70)\n",
            "Requirement already satisfied: nvidia-cublas-cu12==12.4.5.8 in /usr/local/lib/python3.11/dist-packages (from torch>=1.11.0->sentence-transformers) (12.4.5.8)\n",
            "Requirement already satisfied: nvidia-cufft-cu12==11.2.1.3 in /usr/local/lib/python3.11/dist-packages (from torch>=1.11.0->sentence-transformers) (11.2.1.3)\n",
            "Requirement already satisfied: nvidia-curand-cu12==10.3.5.147 in /usr/local/lib/python3.11/dist-packages (from torch>=1.11.0->sentence-transformers) (10.3.5.147)\n",
            "Requirement already satisfied: nvidia-cusolver-cu12==11.6.1.9 in /usr/local/lib/python3.11/dist-packages (from torch>=1.11.0->sentence-transformers) (11.6.1.9)\n",
            "Requirement already satisfied: nvidia-cusparse-cu12==12.3.1.170 in /usr/local/lib/python3.11/dist-packages (from torch>=1.11.0->sentence-transformers) (12.3.1.170)\n",
            "Requirement already satisfied: nvidia-cusparselt-cu12==0.6.2 in /usr/local/lib/python3.11/dist-packages (from torch>=1.11.0->sentence-transformers) (0.6.2)\n",
            "Requirement already satisfied: nvidia-nccl-cu12==2.21.5 in /usr/local/lib/python3.11/dist-packages (from torch>=1.11.0->sentence-transformers) (2.21.5)\n",
            "Requirement already satisfied: nvidia-nvtx-cu12==12.4.127 in /usr/local/lib/python3.11/dist-packages (from torch>=1.11.0->sentence-transformers) (12.4.127)\n",
            "Requirement already satisfied: nvidia-nvjitlink-cu12==12.4.127 in /usr/local/lib/python3.11/dist-packages (from torch>=1.11.0->sentence-transformers) (12.4.127)\n",
            "Requirement already satisfied: triton==3.2.0 in /usr/local/lib/python3.11/dist-packages (from torch>=1.11.0->sentence-transformers) (3.2.0)\n",
            "Requirement already satisfied: sympy==1.13.1 in /usr/local/lib/python3.11/dist-packages (from torch>=1.11.0->sentence-transformers) (1.13.1)\n",
            "Requirement already satisfied: mpmath<1.4,>=1.1.0 in /usr/local/lib/python3.11/dist-packages (from sympy==1.13.1->torch>=1.11.0->sentence-transformers) (1.3.0)\n",
            "Requirement already satisfied: numpy>=1.17 in /usr/local/lib/python3.11/dist-packages (from transformers<5.0.0,>=4.41.0->sentence-transformers) (2.0.2)\n",
            "Requirement already satisfied: regex!=2019.12.17 in /usr/local/lib/python3.11/dist-packages (from transformers<5.0.0,>=4.41.0->sentence-transformers) (2024.11.6)\n",
            "Requirement already satisfied: tokenizers<0.22,>=0.21 in /usr/local/lib/python3.11/dist-packages (from transformers<5.0.0,>=4.41.0->sentence-transformers) (0.21.4)\n",
            "Requirement already satisfied: safetensors>=0.4.3 in /usr/local/lib/python3.11/dist-packages (from transformers<5.0.0,>=4.41.0->sentence-transformers) (0.6.1)\n",
            "Requirement already satisfied: joblib>=1.2.0 in /usr/local/lib/python3.11/dist-packages (from scikit-learn->sentence-transformers) (1.5.1)\n",
            "Requirement already satisfied: threadpoolctl>=3.1.0 in /usr/local/lib/python3.11/dist-packages (from scikit-learn->sentence-transformers) (3.6.0)\n",
            "Requirement already satisfied: MarkupSafe>=2.0 in /usr/local/lib/python3.11/dist-packages (from jinja2->torch>=1.11.0->sentence-transformers) (3.0.2)\n",
            "Requirement already satisfied: charset-normalizer<4,>=2 in /usr/local/lib/python3.11/dist-packages (from requests->huggingface-hub>=0.20.0->sentence-transformers) (3.4.2)\n",
            "Requirement already satisfied: idna<4,>=2.5 in /usr/local/lib/python3.11/dist-packages (from requests->huggingface-hub>=0.20.0->sentence-transformers) (3.10)\n",
            "Requirement already satisfied: urllib3<3,>=1.21.1 in /usr/local/lib/python3.11/dist-packages (from requests->huggingface-hub>=0.20.0->sentence-transformers) (2.5.0)\n",
            "Requirement already satisfied: certifi>=2017.4.17 in /usr/local/lib/python3.11/dist-packages (from requests->huggingface-hub>=0.20.0->sentence-transformers) (2025.8.3)\n"
          ]
        }
      ],
      "execution_count": null
    },
    {
      "cell_type": "markdown",
      "source": [
        "### Import Libraries"
      ],
      "metadata": {
        "id": "QAkUh6md6rS-"
      }
    },
    {
      "cell_type": "code",
      "source": [
        "import pandas as pd\n",
        "import numpy as np\n",
        "import spacy\n",
        "import re\n",
        "import os\n",
        "import matplotlib.pyplot as plt\n",
        "import seaborn as sns\n",
        "import kagglehub\n",
        "\n",
        "from sklearn.metrics.pairwise import cosine_similarity\n",
        "from sentence_transformers import SentenceTransformer"
      ],
      "metadata": {
        "trusted": true,
        "execution": {
          "iopub.status.busy": "2025-05-23T19:47:06.610716Z",
          "iopub.execute_input": "2025-05-23T19:47:06.611056Z",
          "iopub.status.idle": "2025-05-23T19:47:06.616872Z",
          "shell.execute_reply.started": "2025-05-23T19:47:06.611023Z",
          "shell.execute_reply": "2025-05-23T19:47:06.61594Z"
        },
        "id": "f3ZJzKGD6rS-"
      },
      "outputs": [],
      "execution_count": null
    },
    {
      "cell_type": "markdown",
      "source": [
        "### Job Postings Data\n",
        "#### Load and Preview the Job Description Dataset"
      ],
      "metadata": {
        "id": "Q7X3fNSs6rS-"
      }
    },
    {
      "cell_type": "code",
      "source": [
        "# Download latest version\n",
        "path = kagglehub.dataset_download(\"snehaanbhawal/resume-dataset\")\n",
        "kagglehub.dataset_download(\"arshkon/linkedin-job-postings\")\n",
        "\n",
        "print(\"Path to dataset files:\", path)\n",
        "\n",
        "postings_path = \"/kaggle/input/linkedin-job-postings/postings.csv\"\n",
        "\n",
        "# Load the Job Postings CSV file into a Pandas DataFrame\n",
        "postings_df = pd.read_csv(postings_path)\n",
        "\n",
        "# Display the first few rows of the dataset to understand its structure\n",
        "postings_df.head()\n"
      ],
      "metadata": {
        "trusted": true,
        "execution": {
          "iopub.status.busy": "2025-05-23T19:47:06.61781Z",
          "iopub.execute_input": "2025-05-23T19:47:06.618051Z",
          "iopub.status.idle": "2025-05-23T19:47:16.506961Z",
          "shell.execute_reply.started": "2025-05-23T19:47:06.618034Z",
          "shell.execute_reply": "2025-05-23T19:47:16.505845Z"
        },
        "colab": {
          "base_uri": "https://localhost:8080/",
          "height": 620
        },
        "id": "Wf5LfvCX6rS-",
        "outputId": "682a1d8c-d392-4633-c60d-9a7c1cfdf541"
      },
      "outputs": [
        {
          "output_type": "stream",
          "name": "stdout",
          "text": [
            "Path to dataset files: /kaggle/input/resume-dataset\n"
          ]
        },
        {
          "output_type": "execute_result",
          "data": {
            "text/plain": [
              "     job_id            company_name  \\\n",
              "0    921716   Corcoran Sawyer Smith   \n",
              "1   1829192                     NaN   \n",
              "2  10998357  The National Exemplar    \n",
              "3  23221523  Abrams Fensterman, LLP   \n",
              "4  35982263                     NaN   \n",
              "\n",
              "                                               title  \\\n",
              "0                              Marketing Coordinator   \n",
              "1                  Mental Health Therapist/Counselor   \n",
              "2                        Assitant Restaurant Manager   \n",
              "3  Senior Elder Law / Trusts and Estates Associat...   \n",
              "4                                 Service Technician   \n",
              "\n",
              "                                         description  max_salary pay_period  \\\n",
              "0  Job descriptionA leading real estate firm in N...        20.0     HOURLY   \n",
              "1  At Aspen Therapy and Wellness , we are committ...        50.0     HOURLY   \n",
              "2  The National Exemplar is accepting application...     65000.0     YEARLY   \n",
              "3  Senior Associate Attorney - Elder Law / Trusts...    175000.0     YEARLY   \n",
              "4  Looking for HVAC service tech with experience ...     80000.0     YEARLY   \n",
              "\n",
              "            location  company_id  views  med_salary  ...  \\\n",
              "0      Princeton, NJ   2774458.0   20.0         NaN  ...   \n",
              "1   Fort Collins, CO         NaN    1.0         NaN  ...   \n",
              "2     Cincinnati, OH  64896719.0    8.0         NaN  ...   \n",
              "3  New Hyde Park, NY    766262.0   16.0         NaN  ...   \n",
              "4     Burlington, IA         NaN    3.0         NaN  ...   \n",
              "\n",
              "                                         skills_desc   listed_time  \\\n",
              "0  Requirements: \\n\\nWe are seeking a College or ...  1.713398e+12   \n",
              "1                                                NaN  1.712858e+12   \n",
              "2  We are currently accepting resumes for FOH - A...  1.713278e+12   \n",
              "3  This position requires a baseline understandin...  1.712896e+12   \n",
              "4                                                NaN  1.713452e+12   \n",
              "\n",
              "   posting_domain  sponsored  work_type currency compensation_type  \\\n",
              "0             NaN          0  FULL_TIME      USD       BASE_SALARY   \n",
              "1             NaN          0  FULL_TIME      USD       BASE_SALARY   \n",
              "2             NaN          0  FULL_TIME      USD       BASE_SALARY   \n",
              "3             NaN          0  FULL_TIME      USD       BASE_SALARY   \n",
              "4             NaN          0  FULL_TIME      USD       BASE_SALARY   \n",
              "\n",
              "  normalized_salary  zip_code     fips  \n",
              "0           38480.0    8540.0  34021.0  \n",
              "1           83200.0   80521.0   8069.0  \n",
              "2           55000.0   45202.0  39061.0  \n",
              "3          157500.0   11040.0  36059.0  \n",
              "4           70000.0   52601.0  19057.0  \n",
              "\n",
              "[5 rows x 31 columns]"
            ],
            "text/html": [
              "\n",
              "  <div id=\"df-7c66ea70-0d41-4100-983b-362071f784b1\" class=\"colab-df-container\">\n",
              "    <div>\n",
              "<style scoped>\n",
              "    .dataframe tbody tr th:only-of-type {\n",
              "        vertical-align: middle;\n",
              "    }\n",
              "\n",
              "    .dataframe tbody tr th {\n",
              "        vertical-align: top;\n",
              "    }\n",
              "\n",
              "    .dataframe thead th {\n",
              "        text-align: right;\n",
              "    }\n",
              "</style>\n",
              "<table border=\"1\" class=\"dataframe\">\n",
              "  <thead>\n",
              "    <tr style=\"text-align: right;\">\n",
              "      <th></th>\n",
              "      <th>job_id</th>\n",
              "      <th>company_name</th>\n",
              "      <th>title</th>\n",
              "      <th>description</th>\n",
              "      <th>max_salary</th>\n",
              "      <th>pay_period</th>\n",
              "      <th>location</th>\n",
              "      <th>company_id</th>\n",
              "      <th>views</th>\n",
              "      <th>med_salary</th>\n",
              "      <th>...</th>\n",
              "      <th>skills_desc</th>\n",
              "      <th>listed_time</th>\n",
              "      <th>posting_domain</th>\n",
              "      <th>sponsored</th>\n",
              "      <th>work_type</th>\n",
              "      <th>currency</th>\n",
              "      <th>compensation_type</th>\n",
              "      <th>normalized_salary</th>\n",
              "      <th>zip_code</th>\n",
              "      <th>fips</th>\n",
              "    </tr>\n",
              "  </thead>\n",
              "  <tbody>\n",
              "    <tr>\n",
              "      <th>0</th>\n",
              "      <td>921716</td>\n",
              "      <td>Corcoran Sawyer Smith</td>\n",
              "      <td>Marketing Coordinator</td>\n",
              "      <td>Job descriptionA leading real estate firm in N...</td>\n",
              "      <td>20.0</td>\n",
              "      <td>HOURLY</td>\n",
              "      <td>Princeton, NJ</td>\n",
              "      <td>2774458.0</td>\n",
              "      <td>20.0</td>\n",
              "      <td>NaN</td>\n",
              "      <td>...</td>\n",
              "      <td>Requirements: \\n\\nWe are seeking a College or ...</td>\n",
              "      <td>1.713398e+12</td>\n",
              "      <td>NaN</td>\n",
              "      <td>0</td>\n",
              "      <td>FULL_TIME</td>\n",
              "      <td>USD</td>\n",
              "      <td>BASE_SALARY</td>\n",
              "      <td>38480.0</td>\n",
              "      <td>8540.0</td>\n",
              "      <td>34021.0</td>\n",
              "    </tr>\n",
              "    <tr>\n",
              "      <th>1</th>\n",
              "      <td>1829192</td>\n",
              "      <td>NaN</td>\n",
              "      <td>Mental Health Therapist/Counselor</td>\n",
              "      <td>At Aspen Therapy and Wellness , we are committ...</td>\n",
              "      <td>50.0</td>\n",
              "      <td>HOURLY</td>\n",
              "      <td>Fort Collins, CO</td>\n",
              "      <td>NaN</td>\n",
              "      <td>1.0</td>\n",
              "      <td>NaN</td>\n",
              "      <td>...</td>\n",
              "      <td>NaN</td>\n",
              "      <td>1.712858e+12</td>\n",
              "      <td>NaN</td>\n",
              "      <td>0</td>\n",
              "      <td>FULL_TIME</td>\n",
              "      <td>USD</td>\n",
              "      <td>BASE_SALARY</td>\n",
              "      <td>83200.0</td>\n",
              "      <td>80521.0</td>\n",
              "      <td>8069.0</td>\n",
              "    </tr>\n",
              "    <tr>\n",
              "      <th>2</th>\n",
              "      <td>10998357</td>\n",
              "      <td>The National Exemplar</td>\n",
              "      <td>Assitant Restaurant Manager</td>\n",
              "      <td>The National Exemplar is accepting application...</td>\n",
              "      <td>65000.0</td>\n",
              "      <td>YEARLY</td>\n",
              "      <td>Cincinnati, OH</td>\n",
              "      <td>64896719.0</td>\n",
              "      <td>8.0</td>\n",
              "      <td>NaN</td>\n",
              "      <td>...</td>\n",
              "      <td>We are currently accepting resumes for FOH - A...</td>\n",
              "      <td>1.713278e+12</td>\n",
              "      <td>NaN</td>\n",
              "      <td>0</td>\n",
              "      <td>FULL_TIME</td>\n",
              "      <td>USD</td>\n",
              "      <td>BASE_SALARY</td>\n",
              "      <td>55000.0</td>\n",
              "      <td>45202.0</td>\n",
              "      <td>39061.0</td>\n",
              "    </tr>\n",
              "    <tr>\n",
              "      <th>3</th>\n",
              "      <td>23221523</td>\n",
              "      <td>Abrams Fensterman, LLP</td>\n",
              "      <td>Senior Elder Law / Trusts and Estates Associat...</td>\n",
              "      <td>Senior Associate Attorney - Elder Law / Trusts...</td>\n",
              "      <td>175000.0</td>\n",
              "      <td>YEARLY</td>\n",
              "      <td>New Hyde Park, NY</td>\n",
              "      <td>766262.0</td>\n",
              "      <td>16.0</td>\n",
              "      <td>NaN</td>\n",
              "      <td>...</td>\n",
              "      <td>This position requires a baseline understandin...</td>\n",
              "      <td>1.712896e+12</td>\n",
              "      <td>NaN</td>\n",
              "      <td>0</td>\n",
              "      <td>FULL_TIME</td>\n",
              "      <td>USD</td>\n",
              "      <td>BASE_SALARY</td>\n",
              "      <td>157500.0</td>\n",
              "      <td>11040.0</td>\n",
              "      <td>36059.0</td>\n",
              "    </tr>\n",
              "    <tr>\n",
              "      <th>4</th>\n",
              "      <td>35982263</td>\n",
              "      <td>NaN</td>\n",
              "      <td>Service Technician</td>\n",
              "      <td>Looking for HVAC service tech with experience ...</td>\n",
              "      <td>80000.0</td>\n",
              "      <td>YEARLY</td>\n",
              "      <td>Burlington, IA</td>\n",
              "      <td>NaN</td>\n",
              "      <td>3.0</td>\n",
              "      <td>NaN</td>\n",
              "      <td>...</td>\n",
              "      <td>NaN</td>\n",
              "      <td>1.713452e+12</td>\n",
              "      <td>NaN</td>\n",
              "      <td>0</td>\n",
              "      <td>FULL_TIME</td>\n",
              "      <td>USD</td>\n",
              "      <td>BASE_SALARY</td>\n",
              "      <td>70000.0</td>\n",
              "      <td>52601.0</td>\n",
              "      <td>19057.0</td>\n",
              "    </tr>\n",
              "  </tbody>\n",
              "</table>\n",
              "<p>5 rows × 31 columns</p>\n",
              "</div>\n",
              "    <div class=\"colab-df-buttons\">\n",
              "\n",
              "  <div class=\"colab-df-container\">\n",
              "    <button class=\"colab-df-convert\" onclick=\"convertToInteractive('df-7c66ea70-0d41-4100-983b-362071f784b1')\"\n",
              "            title=\"Convert this dataframe to an interactive table.\"\n",
              "            style=\"display:none;\">\n",
              "\n",
              "  <svg xmlns=\"http://www.w3.org/2000/svg\" height=\"24px\" viewBox=\"0 -960 960 960\">\n",
              "    <path d=\"M120-120v-720h720v720H120Zm60-500h600v-160H180v160Zm220 220h160v-160H400v160Zm0 220h160v-160H400v160ZM180-400h160v-160H180v160Zm440 0h160v-160H620v160ZM180-180h160v-160H180v160Zm440 0h160v-160H620v160Z\"/>\n",
              "  </svg>\n",
              "    </button>\n",
              "\n",
              "  <style>\n",
              "    .colab-df-container {\n",
              "      display:flex;\n",
              "      gap: 12px;\n",
              "    }\n",
              "\n",
              "    .colab-df-convert {\n",
              "      background-color: #E8F0FE;\n",
              "      border: none;\n",
              "      border-radius: 50%;\n",
              "      cursor: pointer;\n",
              "      display: none;\n",
              "      fill: #1967D2;\n",
              "      height: 32px;\n",
              "      padding: 0 0 0 0;\n",
              "      width: 32px;\n",
              "    }\n",
              "\n",
              "    .colab-df-convert:hover {\n",
              "      background-color: #E2EBFA;\n",
              "      box-shadow: 0px 1px 2px rgba(60, 64, 67, 0.3), 0px 1px 3px 1px rgba(60, 64, 67, 0.15);\n",
              "      fill: #174EA6;\n",
              "    }\n",
              "\n",
              "    .colab-df-buttons div {\n",
              "      margin-bottom: 4px;\n",
              "    }\n",
              "\n",
              "    [theme=dark] .colab-df-convert {\n",
              "      background-color: #3B4455;\n",
              "      fill: #D2E3FC;\n",
              "    }\n",
              "\n",
              "    [theme=dark] .colab-df-convert:hover {\n",
              "      background-color: #434B5C;\n",
              "      box-shadow: 0px 1px 3px 1px rgba(0, 0, 0, 0.15);\n",
              "      filter: drop-shadow(0px 1px 2px rgba(0, 0, 0, 0.3));\n",
              "      fill: #FFFFFF;\n",
              "    }\n",
              "  </style>\n",
              "\n",
              "    <script>\n",
              "      const buttonEl =\n",
              "        document.querySelector('#df-7c66ea70-0d41-4100-983b-362071f784b1 button.colab-df-convert');\n",
              "      buttonEl.style.display =\n",
              "        google.colab.kernel.accessAllowed ? 'block' : 'none';\n",
              "\n",
              "      async function convertToInteractive(key) {\n",
              "        const element = document.querySelector('#df-7c66ea70-0d41-4100-983b-362071f784b1');\n",
              "        const dataTable =\n",
              "          await google.colab.kernel.invokeFunction('convertToInteractive',\n",
              "                                                    [key], {});\n",
              "        if (!dataTable) return;\n",
              "\n",
              "        const docLinkHtml = 'Like what you see? Visit the ' +\n",
              "          '<a target=\"_blank\" href=https://colab.research.google.com/notebooks/data_table.ipynb>data table notebook</a>'\n",
              "          + ' to learn more about interactive tables.';\n",
              "        element.innerHTML = '';\n",
              "        dataTable['output_type'] = 'display_data';\n",
              "        await google.colab.output.renderOutput(dataTable, element);\n",
              "        const docLink = document.createElement('div');\n",
              "        docLink.innerHTML = docLinkHtml;\n",
              "        element.appendChild(docLink);\n",
              "      }\n",
              "    </script>\n",
              "  </div>\n",
              "\n",
              "\n",
              "    <div id=\"df-43531da8-2810-47d2-9394-5988e05f9edf\">\n",
              "      <button class=\"colab-df-quickchart\" onclick=\"quickchart('df-43531da8-2810-47d2-9394-5988e05f9edf')\"\n",
              "                title=\"Suggest charts\"\n",
              "                style=\"display:none;\">\n",
              "\n",
              "<svg xmlns=\"http://www.w3.org/2000/svg\" height=\"24px\"viewBox=\"0 0 24 24\"\n",
              "     width=\"24px\">\n",
              "    <g>\n",
              "        <path d=\"M19 3H5c-1.1 0-2 .9-2 2v14c0 1.1.9 2 2 2h14c1.1 0 2-.9 2-2V5c0-1.1-.9-2-2-2zM9 17H7v-7h2v7zm4 0h-2V7h2v10zm4 0h-2v-4h2v4z\"/>\n",
              "    </g>\n",
              "</svg>\n",
              "      </button>\n",
              "\n",
              "<style>\n",
              "  .colab-df-quickchart {\n",
              "      --bg-color: #E8F0FE;\n",
              "      --fill-color: #1967D2;\n",
              "      --hover-bg-color: #E2EBFA;\n",
              "      --hover-fill-color: #174EA6;\n",
              "      --disabled-fill-color: #AAA;\n",
              "      --disabled-bg-color: #DDD;\n",
              "  }\n",
              "\n",
              "  [theme=dark] .colab-df-quickchart {\n",
              "      --bg-color: #3B4455;\n",
              "      --fill-color: #D2E3FC;\n",
              "      --hover-bg-color: #434B5C;\n",
              "      --hover-fill-color: #FFFFFF;\n",
              "      --disabled-bg-color: #3B4455;\n",
              "      --disabled-fill-color: #666;\n",
              "  }\n",
              "\n",
              "  .colab-df-quickchart {\n",
              "    background-color: var(--bg-color);\n",
              "    border: none;\n",
              "    border-radius: 50%;\n",
              "    cursor: pointer;\n",
              "    display: none;\n",
              "    fill: var(--fill-color);\n",
              "    height: 32px;\n",
              "    padding: 0;\n",
              "    width: 32px;\n",
              "  }\n",
              "\n",
              "  .colab-df-quickchart:hover {\n",
              "    background-color: var(--hover-bg-color);\n",
              "    box-shadow: 0 1px 2px rgba(60, 64, 67, 0.3), 0 1px 3px 1px rgba(60, 64, 67, 0.15);\n",
              "    fill: var(--button-hover-fill-color);\n",
              "  }\n",
              "\n",
              "  .colab-df-quickchart-complete:disabled,\n",
              "  .colab-df-quickchart-complete:disabled:hover {\n",
              "    background-color: var(--disabled-bg-color);\n",
              "    fill: var(--disabled-fill-color);\n",
              "    box-shadow: none;\n",
              "  }\n",
              "\n",
              "  .colab-df-spinner {\n",
              "    border: 2px solid var(--fill-color);\n",
              "    border-color: transparent;\n",
              "    border-bottom-color: var(--fill-color);\n",
              "    animation:\n",
              "      spin 1s steps(1) infinite;\n",
              "  }\n",
              "\n",
              "  @keyframes spin {\n",
              "    0% {\n",
              "      border-color: transparent;\n",
              "      border-bottom-color: var(--fill-color);\n",
              "      border-left-color: var(--fill-color);\n",
              "    }\n",
              "    20% {\n",
              "      border-color: transparent;\n",
              "      border-left-color: var(--fill-color);\n",
              "      border-top-color: var(--fill-color);\n",
              "    }\n",
              "    30% {\n",
              "      border-color: transparent;\n",
              "      border-left-color: var(--fill-color);\n",
              "      border-top-color: var(--fill-color);\n",
              "      border-right-color: var(--fill-color);\n",
              "    }\n",
              "    40% {\n",
              "      border-color: transparent;\n",
              "      border-right-color: var(--fill-color);\n",
              "      border-top-color: var(--fill-color);\n",
              "    }\n",
              "    60% {\n",
              "      border-color: transparent;\n",
              "      border-right-color: var(--fill-color);\n",
              "    }\n",
              "    80% {\n",
              "      border-color: transparent;\n",
              "      border-right-color: var(--fill-color);\n",
              "      border-bottom-color: var(--fill-color);\n",
              "    }\n",
              "    90% {\n",
              "      border-color: transparent;\n",
              "      border-bottom-color: var(--fill-color);\n",
              "    }\n",
              "  }\n",
              "</style>\n",
              "\n",
              "      <script>\n",
              "        async function quickchart(key) {\n",
              "          const quickchartButtonEl =\n",
              "            document.querySelector('#' + key + ' button');\n",
              "          quickchartButtonEl.disabled = true;  // To prevent multiple clicks.\n",
              "          quickchartButtonEl.classList.add('colab-df-spinner');\n",
              "          try {\n",
              "            const charts = await google.colab.kernel.invokeFunction(\n",
              "                'suggestCharts', [key], {});\n",
              "          } catch (error) {\n",
              "            console.error('Error during call to suggestCharts:', error);\n",
              "          }\n",
              "          quickchartButtonEl.classList.remove('colab-df-spinner');\n",
              "          quickchartButtonEl.classList.add('colab-df-quickchart-complete');\n",
              "        }\n",
              "        (() => {\n",
              "          let quickchartButtonEl =\n",
              "            document.querySelector('#df-43531da8-2810-47d2-9394-5988e05f9edf button');\n",
              "          quickchartButtonEl.style.display =\n",
              "            google.colab.kernel.accessAllowed ? 'block' : 'none';\n",
              "        })();\n",
              "      </script>\n",
              "    </div>\n",
              "\n",
              "    </div>\n",
              "  </div>\n"
            ],
            "application/vnd.google.colaboratory.intrinsic+json": {
              "type": "dataframe",
              "variable_name": "postings_df"
            }
          },
          "metadata": {},
          "execution_count": 10
        }
      ],
      "execution_count": null
    },
    {
      "cell_type": "code",
      "source": [
        "# Print number of rows and columns\n",
        "postings_df.shape"
      ],
      "metadata": {
        "trusted": true,
        "execution": {
          "iopub.status.busy": "2025-05-23T19:47:16.509239Z",
          "iopub.execute_input": "2025-05-23T19:47:16.509488Z",
          "iopub.status.idle": "2025-05-23T19:47:16.51515Z",
          "shell.execute_reply.started": "2025-05-23T19:47:16.509469Z",
          "shell.execute_reply": "2025-05-23T19:47:16.514426Z"
        },
        "colab": {
          "base_uri": "https://localhost:8080/"
        },
        "id": "1tep6_2Y6rS_",
        "outputId": "347a5961-0fd8-4d0d-8438-6bb40409e0ff"
      },
      "outputs": [
        {
          "output_type": "execute_result",
          "data": {
            "text/plain": [
              "(123849, 31)"
            ]
          },
          "metadata": {},
          "execution_count": 11
        }
      ],
      "execution_count": null
    },
    {
      "cell_type": "markdown",
      "source": [
        "### Resume Data\n",
        "#### Load and Preview the Resume Dataset"
      ],
      "metadata": {
        "id": "cQXdo8Px6rS_"
      }
    },
    {
      "cell_type": "code",
      "source": [
        "resume_path = '/kaggle/input/resume-dataset/Resume/Resume.csv'\n",
        "\n",
        "# Load the Resume CSV file into a Pandas DataFrame\n",
        "resume_df = pd.read_csv(resume_path)\n",
        "\n",
        "# Display the first few rows of the dataset to understand its structure\n",
        "resume_df.head()"
      ],
      "metadata": {
        "trusted": true,
        "execution": {
          "iopub.status.busy": "2025-05-23T19:47:16.515995Z",
          "iopub.execute_input": "2025-05-23T19:47:16.516277Z",
          "iopub.status.idle": "2025-05-23T19:47:17.405049Z",
          "shell.execute_reply.started": "2025-05-23T19:47:16.516257Z",
          "shell.execute_reply": "2025-05-23T19:47:17.40375Z"
        },
        "colab": {
          "base_uri": "https://localhost:8080/",
          "height": 206
        },
        "id": "OP4nfNoq6rS_",
        "outputId": "fe15b003-d0fb-4027-8ec5-938c3d3f83f9"
      },
      "outputs": [
        {
          "output_type": "execute_result",
          "data": {
            "text/plain": [
              "         ID                                         Resume_str  \\\n",
              "0  16852973           HR ADMINISTRATOR/MARKETING ASSOCIATE\\...   \n",
              "1  22323967           HR SPECIALIST, US HR OPERATIONS      ...   \n",
              "2  33176873           HR DIRECTOR       Summary      Over 2...   \n",
              "3  27018550           HR SPECIALIST       Summary    Dedica...   \n",
              "4  17812897           HR MANAGER         Skill Highlights  ...   \n",
              "\n",
              "                                         Resume_html Category  \n",
              "0  <div class=\"fontsize fontface vmargins hmargin...       HR  \n",
              "1  <div class=\"fontsize fontface vmargins hmargin...       HR  \n",
              "2  <div class=\"fontsize fontface vmargins hmargin...       HR  \n",
              "3  <div class=\"fontsize fontface vmargins hmargin...       HR  \n",
              "4  <div class=\"fontsize fontface vmargins hmargin...       HR  "
            ],
            "text/html": [
              "\n",
              "  <div id=\"df-21f2aed1-d0bc-4a29-83f4-c1c39bdbf1bb\" class=\"colab-df-container\">\n",
              "    <div>\n",
              "<style scoped>\n",
              "    .dataframe tbody tr th:only-of-type {\n",
              "        vertical-align: middle;\n",
              "    }\n",
              "\n",
              "    .dataframe tbody tr th {\n",
              "        vertical-align: top;\n",
              "    }\n",
              "\n",
              "    .dataframe thead th {\n",
              "        text-align: right;\n",
              "    }\n",
              "</style>\n",
              "<table border=\"1\" class=\"dataframe\">\n",
              "  <thead>\n",
              "    <tr style=\"text-align: right;\">\n",
              "      <th></th>\n",
              "      <th>ID</th>\n",
              "      <th>Resume_str</th>\n",
              "      <th>Resume_html</th>\n",
              "      <th>Category</th>\n",
              "    </tr>\n",
              "  </thead>\n",
              "  <tbody>\n",
              "    <tr>\n",
              "      <th>0</th>\n",
              "      <td>16852973</td>\n",
              "      <td>HR ADMINISTRATOR/MARKETING ASSOCIATE\\...</td>\n",
              "      <td>&lt;div class=\"fontsize fontface vmargins hmargin...</td>\n",
              "      <td>HR</td>\n",
              "    </tr>\n",
              "    <tr>\n",
              "      <th>1</th>\n",
              "      <td>22323967</td>\n",
              "      <td>HR SPECIALIST, US HR OPERATIONS      ...</td>\n",
              "      <td>&lt;div class=\"fontsize fontface vmargins hmargin...</td>\n",
              "      <td>HR</td>\n",
              "    </tr>\n",
              "    <tr>\n",
              "      <th>2</th>\n",
              "      <td>33176873</td>\n",
              "      <td>HR DIRECTOR       Summary      Over 2...</td>\n",
              "      <td>&lt;div class=\"fontsize fontface vmargins hmargin...</td>\n",
              "      <td>HR</td>\n",
              "    </tr>\n",
              "    <tr>\n",
              "      <th>3</th>\n",
              "      <td>27018550</td>\n",
              "      <td>HR SPECIALIST       Summary    Dedica...</td>\n",
              "      <td>&lt;div class=\"fontsize fontface vmargins hmargin...</td>\n",
              "      <td>HR</td>\n",
              "    </tr>\n",
              "    <tr>\n",
              "      <th>4</th>\n",
              "      <td>17812897</td>\n",
              "      <td>HR MANAGER         Skill Highlights  ...</td>\n",
              "      <td>&lt;div class=\"fontsize fontface vmargins hmargin...</td>\n",
              "      <td>HR</td>\n",
              "    </tr>\n",
              "  </tbody>\n",
              "</table>\n",
              "</div>\n",
              "    <div class=\"colab-df-buttons\">\n",
              "\n",
              "  <div class=\"colab-df-container\">\n",
              "    <button class=\"colab-df-convert\" onclick=\"convertToInteractive('df-21f2aed1-d0bc-4a29-83f4-c1c39bdbf1bb')\"\n",
              "            title=\"Convert this dataframe to an interactive table.\"\n",
              "            style=\"display:none;\">\n",
              "\n",
              "  <svg xmlns=\"http://www.w3.org/2000/svg\" height=\"24px\" viewBox=\"0 -960 960 960\">\n",
              "    <path d=\"M120-120v-720h720v720H120Zm60-500h600v-160H180v160Zm220 220h160v-160H400v160Zm0 220h160v-160H400v160ZM180-400h160v-160H180v160Zm440 0h160v-160H620v160ZM180-180h160v-160H180v160Zm440 0h160v-160H620v160Z\"/>\n",
              "  </svg>\n",
              "    </button>\n",
              "\n",
              "  <style>\n",
              "    .colab-df-container {\n",
              "      display:flex;\n",
              "      gap: 12px;\n",
              "    }\n",
              "\n",
              "    .colab-df-convert {\n",
              "      background-color: #E8F0FE;\n",
              "      border: none;\n",
              "      border-radius: 50%;\n",
              "      cursor: pointer;\n",
              "      display: none;\n",
              "      fill: #1967D2;\n",
              "      height: 32px;\n",
              "      padding: 0 0 0 0;\n",
              "      width: 32px;\n",
              "    }\n",
              "\n",
              "    .colab-df-convert:hover {\n",
              "      background-color: #E2EBFA;\n",
              "      box-shadow: 0px 1px 2px rgba(60, 64, 67, 0.3), 0px 1px 3px 1px rgba(60, 64, 67, 0.15);\n",
              "      fill: #174EA6;\n",
              "    }\n",
              "\n",
              "    .colab-df-buttons div {\n",
              "      margin-bottom: 4px;\n",
              "    }\n",
              "\n",
              "    [theme=dark] .colab-df-convert {\n",
              "      background-color: #3B4455;\n",
              "      fill: #D2E3FC;\n",
              "    }\n",
              "\n",
              "    [theme=dark] .colab-df-convert:hover {\n",
              "      background-color: #434B5C;\n",
              "      box-shadow: 0px 1px 3px 1px rgba(0, 0, 0, 0.15);\n",
              "      filter: drop-shadow(0px 1px 2px rgba(0, 0, 0, 0.3));\n",
              "      fill: #FFFFFF;\n",
              "    }\n",
              "  </style>\n",
              "\n",
              "    <script>\n",
              "      const buttonEl =\n",
              "        document.querySelector('#df-21f2aed1-d0bc-4a29-83f4-c1c39bdbf1bb button.colab-df-convert');\n",
              "      buttonEl.style.display =\n",
              "        google.colab.kernel.accessAllowed ? 'block' : 'none';\n",
              "\n",
              "      async function convertToInteractive(key) {\n",
              "        const element = document.querySelector('#df-21f2aed1-d0bc-4a29-83f4-c1c39bdbf1bb');\n",
              "        const dataTable =\n",
              "          await google.colab.kernel.invokeFunction('convertToInteractive',\n",
              "                                                    [key], {});\n",
              "        if (!dataTable) return;\n",
              "\n",
              "        const docLinkHtml = 'Like what you see? Visit the ' +\n",
              "          '<a target=\"_blank\" href=https://colab.research.google.com/notebooks/data_table.ipynb>data table notebook</a>'\n",
              "          + ' to learn more about interactive tables.';\n",
              "        element.innerHTML = '';\n",
              "        dataTable['output_type'] = 'display_data';\n",
              "        await google.colab.output.renderOutput(dataTable, element);\n",
              "        const docLink = document.createElement('div');\n",
              "        docLink.innerHTML = docLinkHtml;\n",
              "        element.appendChild(docLink);\n",
              "      }\n",
              "    </script>\n",
              "  </div>\n",
              "\n",
              "\n",
              "    <div id=\"df-771cb65f-c13a-4a2a-95b1-209a1c4957e2\">\n",
              "      <button class=\"colab-df-quickchart\" onclick=\"quickchart('df-771cb65f-c13a-4a2a-95b1-209a1c4957e2')\"\n",
              "                title=\"Suggest charts\"\n",
              "                style=\"display:none;\">\n",
              "\n",
              "<svg xmlns=\"http://www.w3.org/2000/svg\" height=\"24px\"viewBox=\"0 0 24 24\"\n",
              "     width=\"24px\">\n",
              "    <g>\n",
              "        <path d=\"M19 3H5c-1.1 0-2 .9-2 2v14c0 1.1.9 2 2 2h14c1.1 0 2-.9 2-2V5c0-1.1-.9-2-2-2zM9 17H7v-7h2v7zm4 0h-2V7h2v10zm4 0h-2v-4h2v4z\"/>\n",
              "    </g>\n",
              "</svg>\n",
              "      </button>\n",
              "\n",
              "<style>\n",
              "  .colab-df-quickchart {\n",
              "      --bg-color: #E8F0FE;\n",
              "      --fill-color: #1967D2;\n",
              "      --hover-bg-color: #E2EBFA;\n",
              "      --hover-fill-color: #174EA6;\n",
              "      --disabled-fill-color: #AAA;\n",
              "      --disabled-bg-color: #DDD;\n",
              "  }\n",
              "\n",
              "  [theme=dark] .colab-df-quickchart {\n",
              "      --bg-color: #3B4455;\n",
              "      --fill-color: #D2E3FC;\n",
              "      --hover-bg-color: #434B5C;\n",
              "      --hover-fill-color: #FFFFFF;\n",
              "      --disabled-bg-color: #3B4455;\n",
              "      --disabled-fill-color: #666;\n",
              "  }\n",
              "\n",
              "  .colab-df-quickchart {\n",
              "    background-color: var(--bg-color);\n",
              "    border: none;\n",
              "    border-radius: 50%;\n",
              "    cursor: pointer;\n",
              "    display: none;\n",
              "    fill: var(--fill-color);\n",
              "    height: 32px;\n",
              "    padding: 0;\n",
              "    width: 32px;\n",
              "  }\n",
              "\n",
              "  .colab-df-quickchart:hover {\n",
              "    background-color: var(--hover-bg-color);\n",
              "    box-shadow: 0 1px 2px rgba(60, 64, 67, 0.3), 0 1px 3px 1px rgba(60, 64, 67, 0.15);\n",
              "    fill: var(--button-hover-fill-color);\n",
              "  }\n",
              "\n",
              "  .colab-df-quickchart-complete:disabled,\n",
              "  .colab-df-quickchart-complete:disabled:hover {\n",
              "    background-color: var(--disabled-bg-color);\n",
              "    fill: var(--disabled-fill-color);\n",
              "    box-shadow: none;\n",
              "  }\n",
              "\n",
              "  .colab-df-spinner {\n",
              "    border: 2px solid var(--fill-color);\n",
              "    border-color: transparent;\n",
              "    border-bottom-color: var(--fill-color);\n",
              "    animation:\n",
              "      spin 1s steps(1) infinite;\n",
              "  }\n",
              "\n",
              "  @keyframes spin {\n",
              "    0% {\n",
              "      border-color: transparent;\n",
              "      border-bottom-color: var(--fill-color);\n",
              "      border-left-color: var(--fill-color);\n",
              "    }\n",
              "    20% {\n",
              "      border-color: transparent;\n",
              "      border-left-color: var(--fill-color);\n",
              "      border-top-color: var(--fill-color);\n",
              "    }\n",
              "    30% {\n",
              "      border-color: transparent;\n",
              "      border-left-color: var(--fill-color);\n",
              "      border-top-color: var(--fill-color);\n",
              "      border-right-color: var(--fill-color);\n",
              "    }\n",
              "    40% {\n",
              "      border-color: transparent;\n",
              "      border-right-color: var(--fill-color);\n",
              "      border-top-color: var(--fill-color);\n",
              "    }\n",
              "    60% {\n",
              "      border-color: transparent;\n",
              "      border-right-color: var(--fill-color);\n",
              "    }\n",
              "    80% {\n",
              "      border-color: transparent;\n",
              "      border-right-color: var(--fill-color);\n",
              "      border-bottom-color: var(--fill-color);\n",
              "    }\n",
              "    90% {\n",
              "      border-color: transparent;\n",
              "      border-bottom-color: var(--fill-color);\n",
              "    }\n",
              "  }\n",
              "</style>\n",
              "\n",
              "      <script>\n",
              "        async function quickchart(key) {\n",
              "          const quickchartButtonEl =\n",
              "            document.querySelector('#' + key + ' button');\n",
              "          quickchartButtonEl.disabled = true;  // To prevent multiple clicks.\n",
              "          quickchartButtonEl.classList.add('colab-df-spinner');\n",
              "          try {\n",
              "            const charts = await google.colab.kernel.invokeFunction(\n",
              "                'suggestCharts', [key], {});\n",
              "          } catch (error) {\n",
              "            console.error('Error during call to suggestCharts:', error);\n",
              "          }\n",
              "          quickchartButtonEl.classList.remove('colab-df-spinner');\n",
              "          quickchartButtonEl.classList.add('colab-df-quickchart-complete');\n",
              "        }\n",
              "        (() => {\n",
              "          let quickchartButtonEl =\n",
              "            document.querySelector('#df-771cb65f-c13a-4a2a-95b1-209a1c4957e2 button');\n",
              "          quickchartButtonEl.style.display =\n",
              "            google.colab.kernel.accessAllowed ? 'block' : 'none';\n",
              "        })();\n",
              "      </script>\n",
              "    </div>\n",
              "\n",
              "    </div>\n",
              "  </div>\n"
            ],
            "application/vnd.google.colaboratory.intrinsic+json": {
              "type": "dataframe",
              "variable_name": "resume_df",
              "summary": "{\n  \"name\": \"resume_df\",\n  \"rows\": 2484,\n  \"fields\": [\n    {\n      \"column\": \"ID\",\n      \"properties\": {\n        \"dtype\": \"number\",\n        \"std\": 21457345,\n        \"min\": 3547447,\n        \"max\": 99806115,\n        \"num_unique_values\": 2484,\n        \"samples\": [\n          99244405,\n          17562754,\n          30311725\n        ],\n        \"semantic_type\": \"\",\n        \"description\": \"\"\n      }\n    },\n    {\n      \"column\": \"Resume_str\",\n      \"properties\": {\n        \"dtype\": \"string\",\n        \"num_unique_values\": 2482,\n        \"samples\": [\n          \"         INFORMATION TECHNOLOGY SPECIALIST(DISCOUNTPCFIX)       Summary     I am obsessed with technology. It's power to change everything. Technology fuels my passion and commitment to helping organizations do what they set out to. When I engage, I bring fresh ideas that help your team galvanize performance. Refine your strategy. Spark new energy. \\nThe future\\u2014and how we get there\\u2014depends on those who build, connect, create and transform our world.  Accomplished with over 10 years of information technology support experience.  Highly articulate Capable experienced installing and updating hardware and software systems for users. Known for effectively optimizing systems to meet changing demands, enhancing collaboration and improving security.  Experienced Operations Analyst with first-rate skills in organizing, problem solving and project management. Ready to apply experience and abilities to take on new professional challenges.  Passionate and driven professional with remarkable analytical and problem solving skills.  Expert quality assurance tester offering five years of experience in detailed technical and system specifications.  Provides a collaborative style and has well-developed communication skills. Seeking a role in test reporting and defect resolution.  Well-rounded team player with dynamic written and verbal communication skills.  Hardworking and resourceful team player.  History of going above and beyond to achieve notable results.  Offering excellent blend of technical aptitude and creative ability. Inspires design teams with engaging management techniques and innovative thinking. Resourceful Technical Support Engineer polished in restoring system functionality by quickly assessing and resolving diverse hardware and software problems.       Skills          Issue escalation  Reporting and analysis  Quality control  Schematic understanding  Critical thinking  Data management  Network Administration  Experience in leadership  Improvement plan knowledge  Supervision  Hardware repair  Computer configurations  System upgrades  New program installations  Organizational leadership  Troubleshooting and Maintenance  Equipment repair  Power and hand tool use  Troubleshooting and repairs  Preventative maintenance  Telecommunications systems  Component repairs  Multitasking  Part inspections  Friendly, positive attitude  LAN and WAN configurations      Server and System Administration  End-User Training  Program installations  Software testing  Server improvements  Data backups  Project management  Security technologies  Network configuration  Time management  Active Directory knowledge  Cybersecurity analysis  System Administration  Microsoft Office  MS Office  Apple iOS Technician  Help desk assistance  Application software testing  Mechanical abilities  Information Systems Security Professional  Advanced knowledge of Windows OS  Advanced knowledge of Google Chrome OS  Soldering  Database management  Technical knowledge of server system softwares  Servers, storage systems, network equipment, PCs or notebooks of any brands.            Experience      Information Technology Specialist(Discountpcfix)   |   11/2011   -   Current    Company Name    -    City  ,   State       Assisted client with new computer and network equipment purchases.  Updated or installed software for customers to ensure computer efficiency.  Checked in computers and performed diagnostics for repair.  Backed up data each evening, helping alleviate lost information following malware incident.  Updated software versions with patches and new installations to close security loopholes and protect users.  Identified hardware issues caused by component failures using approved diagnostic tools.  Installed over motherboards, processors and graphics cards.  Configured computers to network drivers and connected to printers and other peripheral equipment.  Upgraded laptops/desktops, improving speed and performance.  Fixed All Apple(iphone,imac,ipad,laptop) Products Screen damage.  Fixed any brand,Windows OS,Mac OS,Chrome OS products liquid damage.  Observed system functioning and entered commands to test different areas of operations.  Explained technology-related details in easy-to-understand terms to individuals from all walks of life and in various job positions.  Responded to assistance requests from users and directed individuals through basic troubleshooting tasks.  Reviewed current hardware and software configurations and recommended modifications to increase system speed.  Serviced and repaired equipment according to manufacturer guidelines.  Installed new systems and components according to service orders and manufacturer instructions.  Assessed and identified issues and quickly resolved to restore functionality.  Built and repaired computers according to schedule.  Installed, configured, and setup PCs in all stores for optimal operation and reporting.  Evaluated interfaces between hardware and software, testing performance requirements.  Studied complex technical issues and determined proper resolution methods.  Assisted with post-implementation troubleshooting of new applications and application upgrades.  Determined and alleviated hardware, software and network issues.  Installed and supported hardware and software, including desktops, servers and printers.  Identified operational and performance issues and worked with managers to resolve concerns.  Completed various reports and analyzed each report to decide where improvements could be made.  Recommended process and systems improvements such as changes to operations.  Updated hardware and software upon availability and supervised network to eliminate bottlenecks immediately.  Handled network configurations after hours and on weekends to alleviate downtime and maintain smooth operations.  Assisted customers with various types of technical issues via email, live chat and telephone.  Delivered local and remote Tier 1 IT support for hardware and software to company personnel.  Disassembled computer systems to troubleshoot and resolve hardware issues.  Increased overall company performance through improved IT uptime and cost reductions.         Quality Control Inspector Contractor   |   04/2019   -   Current    Company Name    -    City  ,   State       Conferred with scientific, engineering and technical personnel to resolve design, research and testing problems.  Worked with engineers to facilitate research and development testing, correct mechanical failures and generate technical specifications prior to release.  Developed and implemented best practices for defect prevention and continuous improvement.  Used specialized tools to take precise measurements of various aspects of samples.  Consulted with engineers to resolve quality, production and efficiency problems.  Wrote detailed reports outlining performance, quality and defect rates.  Completed non-destructive tests and visual inspections on a continuous basis.  Inspected quality of finished products, making minor repairs to meet project expectations.  Documented nonconformities immediately and recommended techniques for prompt resolution.  Completed non-destructive tests and visual inspections continuously.  Reviewed drawings and blueprints to determine appropriate level of inspection required.  Adhered to all safety protocols to minimize equipment damage and avoid injuries.  Assessed materials, parts and products for conformance with quality control requirements and production specifications.         Network Analyst   |   06/2016   -   05/2018    Company Name    -    City  ,   State       Identified operational and performance issues and worked with managers to resolve concerns.  Supporting of the following hardware types: servers, storage systems, network equipment, PCs ipad and notebooks of any brands.  Analyzed operational performance to identify pain points and provided actionable solutions to management.  Educated personnel on company policies to foster improved customer retention and increased revenue.  Technical knowledge of standard server system software (Linux, Windows, VMWare)  Drove revenue and customer retention by visiting corporate and franchise centers serving clients to educate staff on company policies and customer styling applications.  Wrote reports outlining results to facilitate management decision making.  Executed and monitored standards for user interfaces, page design and graphics development.  Provided senior technical support to both in-house staff and user departments for all network applications.  Monitored project budget through the careful assessment of resource usage and task management to ensure that costs were kept low.  Supported customers with password resets and account customization.  Recorded complaints, product deficiencies, returned orders and other customer documentation in system.  Supported customers having data connectivity issues, assisting with troubleshooting steps and rebooting of hardware.  Maintained composure and patience in face of difficult customer situations, applying de-escalation techniques and positive customer support.  Performed site evaluations, customer surveys and team audits.  Promoted continuous improvement for IT governance processes.  Spearheaded server infrastructure development, quality control, staging and production operations.         Quality Control Manager   |   07/2013   -   08/2015    Company Name    -    City  ,   State       Stayed well-informed of all company and federal regulations, which bolstered compliance of all corporate processes.  Used creative and professional policy to find solutions to issues while diminishing conflicts.  Handled all scheduling procedures for the department and directed team members in setting and achieving goals.  Observed customer specifications by monitoring the quality control of finished products.         Education and Training      The Federal Polytechnic, Ado-Ekiti    -    City  ,  State      |    Associate of Science    Science Technology  ,   2003          Phoenix East Aviation    -    City  ,  State      |    F.A.A  Aircraft Dispatcher License    Aviation  ,   2014          University Of Colorado At Boulder    -    City        |    Certificate    Cybersecurity Policy For Aviation And Internet   ,   07/2020          GOOGLE I.T SUPPORT    -    City        |    Certificate      03/2021     Completed professional Course in:   IT Security: Defense against the digital dark arts  Operating System and You: Becoming a power user  The Bits and Bytes of Computer Networking  System Administration and IT Infrastructure Service  Technical Support Fundamentals     \",\n          \"         BUSINESS DEVELOPMENT DIRECTOR       Summary     I collaborate with multiple stakeholders to determine audience needs, quickly developing strategic plans that align with my clients business priorities and strategies.       Experience      Business Development Director   05/1997   to   Current     Company Name   City  ,   State      Producing measurable results for my clients by designing unique engagement initiatives for employees, sales channel partners and consumers groups. Sales of performance improvement products, most being intangible services to Fortune 500 clients. Success at discovering and growing my business with customers who have the potential to spend more than $1 million with me each year.   I have designed innovative solutions, customized to each customers various objectives and end result needs.  Managing my internal teams to develop, design and operate complex custom projects ranging in value at least $150,000 to millions.  Titles called on include the entire C suite, CEO, COO, CFO, CMO, President, EVP's of Marketing, Sales, Human Resources & Finance.  Define business issues to improve revenue and penetrating existing accounts and opening new.  Sold 17 new accounts while in current position, managed sales volume and profit margin with long sales cycle.  Managed and hired staff of 4 to work with my major global account travel & meetings business over 8 years.  Total book of business constantly over $2.5 million each year.  Nearly twice the entertainment activity of other BDD's with similar tenure.  Achieved over $6 million in sales twice, becoming a trusted partner to my clients, customers want me to Win!          Account Territory & District Sales Manager / National Account Sales   08/1989   to   04/1997     Company Name   City  ,   State       Responsible for growth of distributor sales volume, product mix and motivation of DSR sales forces.  Developed my own custom local training and marketing materials, which were later adopted by the Nestle corporate.  Distributor and chain accounts accounted for over $11 million in sales.  Increased my chain accounts by over 75% while with national accounts.  Created sales forecasts, developed budgets, strategic plans and managed entire regional office staff. Working with my team we grew business at Nestle largest US account by nearly double.  Surpassed sales, budget goals every year as manager and twice led company nationally in new product introductions.  District sales grew from $16 million to over $22 million as district manager. Hired five salespeople and 4 direct reports were promoted, managed up to eight account managers at a time.  Developed new reports, marketing and promotional strategies for the field. Designed account reviews process, management and field training programs for the entire company.  Sold small business owners and managed distributor sales accounts, using strategic planning, innovative programming and by cultivating strong personal relationships. Took area territory sales from $500,000 to $2.9 million, with a mature company in an industry with an average annual increase of only 3-5%.          Financial Operations Executive and Department Merchandising Manager   04/1988   to   08/1989     Company Name   City  ,   State     Financial Operations Executive for the South Bend store. Volunteered to be merchandise manager for the stores largest department. While in this role the department had the highest per foot sales volume of any department in the entire corporation during the 4th quarter of 1988.        Accomplishments      4 times President Achievement Guild Award winner, award for sales volume and profit.  3 times President Achievement Award winner, award for sales volume and profit.  4 times Achievement Guild winner, for leadership in 3 year running combined volume.  Top travel and meetings sales several times since with BIW.  National sales contest \\\"the 1993 Superbowl\\\".  Twice awarded \\\"The Over Achiever of the Year\\\" by my most profitable direct customer.  Reviewed consistently by management throughout career as \\\"Outstanding or Exceeding Expectations\\\".  College: elected to executive positions with both Finance Club and Resident Housing Association.        Skills     Sales, Business Development, Distributor Sales, Territory Sales, District Sales, Sales of Solutions, Sales Teams, Sales Accounts, National Accounts, Sales Management, Strategic Accounts, Sales Promotions, Travel & Meeting Sales, Technology Application Sales, Clients Management, Marketing, Budget, Budgets, Forecasts, Promotional, Travel & Meeting Operations, Strategic Planning, Training, Training Development, Financial Operations, Merchandising, Corporate Operations, Employee Engagement, Managing Existing Accounts, Forecasting, Human Resources, Finding New Accounts, Relationship Building and Strategic Direction.       Education      Bachelor of Business Administration  :   Finance, General Business   1988       Western Michigan University   City  ,   State  ,   US      Earned over 85% of all educational/living costs. Jobs worked while in college, industrial heavy construction, excelled at several sales roles including at direct sales of home goods. While in direct sales I won a national trip and was ranked in the top 10 in the country in sales.  Started two successful on campus businesses. Member of the varsity division I football team for 4 years.         Organizations     IMEX, Milford Memories Planning Board, Huron Valley Youth Baseball President/Treasurer/Director of Travel Baseball, Lakeland Milford Travel Secretary and Milford High School baseball instructor.    \",\n          \"           ENGINEERING MANAGER         Professional Summary    Experienced product development Engineer and manager able to collaborate with cross functional team as well as customers and sales to bring brand new offerings to new markets. Skilled at managing cross functional team for continuous improvements and meeting project deadlines. Offering 6 years of experience in the field.      Skills          Microsoft Office  Microsoft Project  Product development  Quality  Research  Six Sigma Green Belt  Solid Works  Visio  Prioritization  Personnel management  Critical thinking skills  Team management  Analyst, Visio  Agency  Consulting  Cost analysis  Critical thinking  Designing  Dialysis  Direction      Develop drug  Functional  IIa  ISO  Leadership  Market and development  Microsoft Office  Microsoft Project  Personnel management  Design process  Product development  Product management  Quality  Researching  Research  Sales  Six Sigma  Solid Works  Team management  Validation            Work History      Engineering Manager  ,     03/2018   to   Current       City  ,   State      Create and maintain Technical Files per MDR requirements as well as attaining 510k on legacy products.  Assess testing gaps of legacy products and design creep.  Experienced in working with multiple departments.  Experienced in training and leading engineers in order to investigate field complaints, Gap analysis and building Technical files/DHF.  Experienced in leading team of engineers to lead all aspects of design process, including regulatory needs per market and development per design control.  Tasked to create test plan and analysis of existing Class I, II and III products and Testing per latest applicable requirements.  Trained team in conducting project related cost analysis, test gap analysis and researching ISO/EN ISO/ASTM requirements.  Leading companywide EU MDR product transfer and testing on Infusion products, Dialysis products and standalone products.  Provided technical direction on MDR and 510k related projects and initiatives to other engineers and technicians.         Project Engineer II  ,     03/2017   to   03/2018     Company Name   \\u2013   City  ,   State      Working with product management, Clinical Analyst, sales, and regulatory to determine optimal design inputs for new products.  Completed design transfer and attained 510k on Class IIb device in under year.  Lead cross functional team including consulting agency in order to Develop drug device combination product and research optimal process using DOE in order for mass production.  Leading all aspects of design control from designing on solid works to process validations and V&V Testing.  Analyzing and resolving field failures through investigation and testing.  Experienced in working with international regulatory teams in providing information for foreign registration.  Responsible for gap analysis and test planning in order to create and meet deadline for projects.  Experienced with reviewing and approving validation activities as well as provide support to staff to achieve project milestones.  Experienced working with cross functional teams to complete projects and tasks.         Engineer I  ,     06/2013   to   03/2017     Company Name   \\u2013   City  ,   State      Worked to bring Drug Device Combination product to mass production.  Completed new Class IIa product and completed project in 10 months.  Completing CAPAs and resolving field failures by research and testing.  Developed new testing methods and designed tooling for new testing.  Experienced in using Injection Molding Machine to Create and Test Prototypes.  Found cheaper and more responsible vendor for MRI related testing.         Education      Bachelor of Science  :   Mechanical Engineering  ,   05/2013     Temple University   -   City  ,   State           Certifications\\nManagement Leadership Certification and Six Sigma Greenbelt certification              Work History      Engineering Manager  ,   03/2018   to   Current       City  ,   State      Create and maintain Technical Files per MDR requirements as well as attaining 510k on legacy products.  Assess testing gaps of legacy products and design creep.  Experienced in working with multiple departments.  Experienced in training and leading engineers in order to investigate field complaints, Gap analysis and building Technical files/DHF.  Experienced in leading team of engineers to lead all aspects of design process, including regulatory needs per market and development per design control.  Tasked to create test plan and analysis of existing Class I, II and III products and Testing per latest applicable requirements.  Trained team in conducting project related cost analysis, test gap analysis and researching ISO/EN ISO/ASTM requirements.  Leading companywide EU MDR product transfer and testing on Infusion products, Dialysis products and standalone products.  Provided technical direction on MDR and 510k related projects and initiatives to other engineers and technicians.         Project Engineer II  ,   03/2017   to   03/2018     Company Name   \\u2013   City  ,   State      Working with product management, Clinical Analyst, sales, and regulatory to determine optimal design inputs for new products.  Completed design transfer and attained 510k on Class IIb device in under year.  Lead cross functional team including consulting agency in order to Develop drug device combination product and research optimal process using DOE in order for mass production.  Leading all aspects of design control from designing on solid works to process validations and V&V Testing.  Analyzing and resolving field failures through investigation and testing.  Experienced in working with international regulatory teams in providing information for foreign registration.  Responsible for gap analysis and test planning in order to create and meet deadline for projects.  Experienced with reviewing and approving validation activities as well as provide support to staff to achieve project milestones.  Experienced working with cross functional teams to complete projects and tasks.         Engineer I  ,   06/2013   to   03/2017     Company Name   \\u2013   City  ,   State      Worked to bring Drug Device Combination product to mass production.  Completed new Class IIa product and completed project in 10 months.  Completing CAPAs and resolving field failures by research and testing.  Developed new testing methods and designed tooling for new testing.  Experienced in using Injection Molding Machine to Create and Test Prototypes.  Found cheaper and more responsible vendor for MRI related testing.         Skills     Microsoft Office  Microsoft Project  Product development  Quality  Research  Six Sigma Green Belt  Solid Works  Visio  Prioritization  Personnel management  Critical thinking skills  Team management,  Analyst, agency, consulting, cost analysis, Critical thinking, Designing, Dialysis, direction, Develop drug, functional, IIa, ISO, Leadership, market and development, Microsoft Office, Microsoft Project, Personnel management, design process, Product development, product management, Quality, researching, Research, sales, Six Sigma, Solid Works, Team management, validation, Visio    \"\n        ],\n        \"semantic_type\": \"\",\n        \"description\": \"\"\n      }\n    },\n    {\n      \"column\": \"Resume_html\",\n      \"properties\": {\n        \"dtype\": \"string\",\n        \"num_unique_values\": 2482,\n        \"samples\": [\n          \"<div class=\\\"RNA skn-hdr3 fontsize fontface vmargins hmargins pagesize dynamicbg\\\" id=\\\"document\\\"> <div class=\\\"section nameSec firstsection\\\" id=\\\"SECTION_NAME5550d5fc-bc70-476b-a324-a96a5f8e4c39\\\"> <div class=\\\"paragraph PARAGRAPH_NAME firstparagraph\\\" id=\\\"PARAGRAPH_5550d5fc-bc70-476b-a324-a96a5f8e4c39_1_ac85099c-62cd-4861-9279-8510832b3240\\\"> <div class=\\\"name\\\" itemprop=\\\"name\\\"> <span class=\\\"field\\\" id=\\\"5550d5fc-bc70-476b-a324-a96a5f8e4c39FNAM1\\\"> </span> <span> </span> <span class=\\\"field\\\" id=\\\"5550d5fc-bc70-476b-a324-a96a5f8e4c39LNAM1\\\"> INFORMATION TECHNOLOGY SPECIALIST(DISCOUNTPCFIX)</span> </div> </div> </div> <div class=\\\"section\\\" id=\\\"SECTION_SUMM8fa0a5f9-217d-41cc-b98a-09b71ea76797\\\"> <div class=\\\"heading\\\"> <div class=\\\"sectiontitle\\\" id=\\\"SECTNAME_SUMM8fa0a5f9-217d-41cc-b98a-09b71ea76797\\\"> Summary</div> </div> <div class=\\\"paragraph firstparagraph\\\" id=\\\"PARAGRAPH_8fa0a5f9-217d-41cc-b98a-09b71ea76797_1_b1625863-b3c3-4df6-a204-60ccb0054f3f\\\"> <div class=\\\"field singlecolumn\\\" id=\\\"8fa0a5f9-217d-41cc-b98a-09b71ea76797FRFM1\\\"> <p> I am obsessed with technology. It's power to change everything. Technology fuels my passion and commitment to helping organizations do what they set out to. When I engage, I bring fresh ideas that help your team galvanize performance. Refine your strategy. Spark new energy.<br/> \\nThe future\\u2014and how we get there\\u2014depends on those who build, connect, create and transform our world.</p> <p> Accomplished with over 10 years of information technology support experience.</p> <p> Highly articulate Capable experienced installing and updating hardware and software systems for users. Known for effectively optimizing systems to meet changing demands, enhancing collaboration and improving security.</p> <p> Experienced Operations Analyst with first-rate skills in organizing, problem solving and project management. Ready to apply experience and abilities to take on new professional challenges.</p> <p> Passionate and driven professional with remarkable analytical and problem solving skills.</p> <p> Expert quality assurance tester offering five years of experience in detailed technical and system specifications.</p> <p> Provides a collaborative style and has well-developed communication skills. Seeking a role in test reporting and defect resolution.</p> <p> Well-rounded team player with dynamic written and verbal communication skills.</p> <p> Hardworking and resourceful team player.</p> <p> History of going above and beyond to achieve notable results.</p> <p> Offering excellent blend of technical aptitude and creative ability. Inspires design teams with engaging management techniques and innovative thinking. Resourceful Technical Support Engineer polished in restoring system functionality by quickly assessing and resolving diverse hardware and software problems.</p> </div> </div> </div> <div class=\\\"section\\\" id=\\\"SECTION_HILT5097c9f6-be4d-4c96-87af-1703d29f3ed4\\\"> <div class=\\\"heading\\\"> <div class=\\\"sectiontitle\\\" id=\\\"SECTNAME_HILT5097c9f6-be4d-4c96-87af-1703d29f3ed4\\\"> Skills</div> </div> <div class=\\\"paragraph firstparagraph\\\" id=\\\"PARAGRAPH_5097c9f6-be4d-4c96-87af-1703d29f3ed4_1_9fc9ac29-6c45-ccc1-e402-f68d67a6ce51\\\"> <div class=\\\"singlecolumn maincolumn\\\"> <table class=\\\"twocol\\\"> <tbody> <tr> <td class=\\\"field twocol_1\\\" id=\\\"5097c9f6-be4d-4c96-87af-1703d29f3ed4SKC10\\\"> <ul> <li> Issue escalation</li> <li> Reporting and analysis</li> <li> Quality control</li> <li> Schematic understanding</li> <li> Critical thinking</li> <li> Data management</li> <li> Network Administration</li> <li> Experience in leadership</li> <li> Improvement plan knowledge</li> <li> Supervision</li> <li> Hardware repair</li> <li> Computer configurations</li> <li> System upgrades</li> <li> New program installations</li> <li> Organizational leadership</li> <li> Troubleshooting and Maintenance</li> <li> Equipment repair</li> <li> Power and hand tool use</li> <li> Troubleshooting and repairs</li> <li> Preventative maintenance</li> <li> Telecommunications systems</li> <li> Component repairs</li> <li> Multitasking</li> <li> Part inspections</li> <li> Friendly, positive attitude</li> <li> LAN and WAN configurations</li> </ul> </td> <td class=\\\"field twocol_2\\\" id=\\\"5097c9f6-be4d-4c96-87af-1703d29f3ed4SKC20\\\"> <ul> <li> Server and System Administration</li> <li> End-User Training</li> <li> Program installations</li> <li> Software testing</li> <li> Server improvements</li> <li> Data backups</li> <li> Project management</li> <li> Security technologies</li> <li> Network configuration</li> <li> Time management</li> <li> Active Directory knowledge</li> <li> Cybersecurity analysis</li> <li> System Administration</li> <li> Microsoft Office</li> <li> MS Office</li> <li> Apple iOS Technician</li> <li> Help desk assistance</li> <li> Application software testing</li> <li> Mechanical abilities</li> <li> Information Systems Security Professional</li> <li> Advanced knowledge of Windows OS</li> <li> Advanced knowledge of Google Chrome OS</li> <li> Soldering</li> <li> Database management</li> <li> Technical knowledge of server system softwares</li> <li> Servers, storage systems, network equipment, PCs or notebooks of any brands.</li> </ul> </td> </tr> </tbody> </table> </div> </div> </div> <div class=\\\"section\\\" id=\\\"SECTION_EXPRc16bd516-88f5-4d05-a0b1-689c93d7a610\\\"> <div class=\\\"heading\\\"> <div class=\\\"sectiontitle\\\" id=\\\"SECTNAME_EXPRc16bd516-88f5-4d05-a0b1-689c93d7a610\\\"> Experience</div> </div> <div class=\\\"paragraph firstparagraph\\\" id=\\\"PARAGRAPH_c16bd516-88f5-4d05-a0b1-689c93d7a610_1_c1bf6f2f-bff5-4a86-ae5b-879a7f9c292a\\\" itemscope=\\\"\\\" itemtype=\\\"https://schema.org/Organization\\\"> <div class=\\\"singlecolumn\\\"> <span class=\\\"paddedline\\\"> <span class=\\\"jobtitle\\\" id=\\\"c16bd516-88f5-4d05-a0b1-689c93d7a610JTIT1\\\"> Information Technology Specialist(Discountpcfix)</span> <span>  | </span> <span class=\\\"jobdates\\\" format=\\\"%m/%Y\\\" id=\\\"c16bd516-88f5-4d05-a0b1-689c93d7a610JSTD1\\\"> 11/2011</span> <span>  - </span> <span class=\\\"jobdates\\\" format=\\\"%m/%Y\\\" id=\\\"c16bd516-88f5-4d05-a0b1-689c93d7a610EDDT1\\\"> Current</span> </span> <span class=\\\"paddedline txt-bold\\\" itemscope=\\\"\\\" itemtype=\\\"https://schema.org/postalAddress\\\"> <span class=\\\"companyname\\\" id=\\\"c16bd516-88f5-4d05-a0b1-689c93d7a610COMP1\\\" itemprop=\\\"name\\\"> Company Name</span> <span> <span>  - </span> </span> <span class=\\\"joblocation jobcity\\\" id=\\\"c16bd516-88f5-4d05-a0b1-689c93d7a610JCIT1\\\" itemprop=\\\"addressLocality\\\"> City</span> <span> , </span> <span class=\\\"joblocation jobstate\\\" id=\\\"c16bd516-88f5-4d05-a0b1-689c93d7a610JSTA1\\\" itemprop=\\\"addressRegion\\\"> State</span> <span class=\\\"joblocation jobcountry\\\" id=\\\"c16bd516-88f5-4d05-a0b1-689c93d7a610JCNT1\\\"> </span> </span> <span class=\\\"jobline\\\" id=\\\"c16bd516-88f5-4d05-a0b1-689c93d7a610JDES1\\\" itemprop=\\\"description\\\"> <ul> <li> Assisted client with new computer and network equipment purchases.</li> <li> Updated or installed software for customers to ensure computer efficiency.</li> <li> Checked in computers and performed diagnostics for repair.</li> <li> Backed up data each evening, helping alleviate lost information following malware incident.</li> <li> Updated software versions with patches and new installations to close security loopholes and protect users.</li> <li> Identified hardware issues caused by component failures using approved diagnostic tools.</li> <li> Installed over motherboards, processors and graphics cards.</li> <li> Configured computers to network drivers and connected to printers and other peripheral equipment.</li> <li> Upgraded laptops/desktops, improving speed and performance.</li> <li> Fixed All Apple(iphone,imac,ipad,laptop) Products Screen damage.</li> <li> Fixed any brand,Windows OS,Mac OS,Chrome OS products liquid damage.</li> <li> Observed system functioning and entered commands to test different areas of operations.</li> <li> Explained technology-related details in easy-to-understand terms to individuals from all walks of life and in various job positions.</li> <li> Responded to assistance requests from users and directed individuals through basic troubleshooting tasks.</li> <li> Reviewed current hardware and software configurations and recommended modifications to increase system speed.</li> <li> Serviced and repaired equipment according to manufacturer guidelines.</li> <li> Installed new systems and components according to service orders and manufacturer instructions.</li> <li> Assessed and identified issues and quickly resolved to restore functionality.</li> <li> Built and repaired computers according to schedule.</li> <li> Installed, configured, and setup PCs in all stores for optimal operation and reporting.</li> <li> Evaluated interfaces between hardware and software, testing performance requirements.</li> <li> Studied complex technical issues and determined proper resolution methods.</li> <li> Assisted with post-implementation troubleshooting of new applications and application upgrades.</li> <li> Determined and alleviated hardware, software and network issues.</li> <li> Installed and supported hardware and software, including desktops, servers and printers.</li> <li> Identified operational and performance issues and worked with managers to resolve concerns.</li> <li> Completed various reports and analyzed each report to decide where improvements could be made.</li> <li> Recommended process and systems improvements such as changes to operations.</li> <li> Updated hardware and software upon availability and supervised network to eliminate bottlenecks immediately.</li> <li> Handled network configurations after hours and on weekends to alleviate downtime and maintain smooth operations.</li> <li> Assisted customers with various types of technical issues via email, live chat and telephone.</li> <li> Delivered local and remote Tier 1 IT support for hardware and software to company personnel.</li> <li> Disassembled computer systems to troubleshoot and resolve hardware issues.</li> <li> Increased overall company performance through improved IT uptime and cost reductions.</li> </ul> </span> </div> </div> <div class=\\\"paragraph\\\" id=\\\"PARAGRAPH_c16bd516-88f5-4d05-a0b1-689c93d7a610_2_50ce6831-7e0f-447d-a3fc-61036d2a57d9\\\" itemscope=\\\"\\\" itemtype=\\\"https://schema.org/Organization\\\"> <div class=\\\"singlecolumn\\\"> <span class=\\\"paddedline\\\"> <span class=\\\"jobtitle\\\" id=\\\"c16bd516-88f5-4d05-a0b1-689c93d7a610JTIT2\\\"> Quality Control Inspector Contractor</span> <span>  | </span> <span class=\\\"jobdates\\\" format=\\\"%m/%Y\\\" id=\\\"c16bd516-88f5-4d05-a0b1-689c93d7a610JSTD2\\\"> 04/2019</span> <span>  - </span> <span class=\\\"jobdates\\\" format=\\\"%m/%Y\\\" id=\\\"c16bd516-88f5-4d05-a0b1-689c93d7a610EDDT2\\\"> Current</span> </span> <span class=\\\"paddedline txt-bold\\\" itemscope=\\\"\\\" itemtype=\\\"https://schema.org/postalAddress\\\"> <span class=\\\"companyname\\\" id=\\\"c16bd516-88f5-4d05-a0b1-689c93d7a610COMP2\\\" itemprop=\\\"name\\\"> Company Name</span> <span> <span>  - </span> </span> <span class=\\\"joblocation jobcity\\\" id=\\\"c16bd516-88f5-4d05-a0b1-689c93d7a610JCIT2\\\" itemprop=\\\"addressLocality\\\"> City</span> <span> , </span> <span class=\\\"joblocation jobstate\\\" id=\\\"c16bd516-88f5-4d05-a0b1-689c93d7a610JSTA2\\\" itemprop=\\\"addressRegion\\\"> State</span> <span class=\\\"joblocation jobcountry\\\" id=\\\"c16bd516-88f5-4d05-a0b1-689c93d7a610JCNT2\\\"> </span> </span> <span class=\\\"jobline\\\" id=\\\"c16bd516-88f5-4d05-a0b1-689c93d7a610JDES2\\\" itemprop=\\\"description\\\"> <ul> <li> Conferred with scientific, engineering and technical personnel to resolve design, research and testing problems.</li> <li> Worked with engineers to facilitate research and development testing, correct mechanical failures and generate technical specifications prior to release.</li> <li> Developed and implemented best practices for defect prevention and continuous improvement.</li> <li> Used specialized tools to take precise measurements of various aspects of samples.</li> <li> Consulted with engineers to resolve quality, production and efficiency problems.</li> <li> Wrote detailed reports outlining performance, quality and defect rates.</li> <li> Completed non-destructive tests and visual inspections on a continuous basis.</li> <li> Inspected quality of finished products, making minor repairs to meet project expectations.</li> <li> Documented nonconformities immediately and recommended techniques for prompt resolution.</li> <li> Completed non-destructive tests and visual inspections continuously.</li> <li> Reviewed drawings and blueprints to determine appropriate level of inspection required.</li> <li> Adhered to all safety protocols to minimize equipment damage and avoid injuries.</li> <li> Assessed materials, parts and products for conformance with quality control requirements and production specifications.</li> </ul> </span> </div> </div> <div class=\\\"paragraph\\\" id=\\\"PARAGRAPH_c16bd516-88f5-4d05-a0b1-689c93d7a610_3_f9296837-feb0-4c87-abc1-66dabd9087ac\\\" itemscope=\\\"\\\" itemtype=\\\"https://schema.org/Organization\\\"> <div class=\\\"singlecolumn\\\"> <span class=\\\"paddedline\\\"> <span class=\\\"jobtitle\\\" id=\\\"c16bd516-88f5-4d05-a0b1-689c93d7a610JTIT3\\\"> Network Analyst</span> <span>  | </span> <span class=\\\"jobdates\\\" format=\\\"%m/%Y\\\" id=\\\"c16bd516-88f5-4d05-a0b1-689c93d7a610JSTD3\\\"> 06/2016</span> <span>  - </span> <span class=\\\"jobdates\\\" format=\\\"%m/%Y\\\" id=\\\"c16bd516-88f5-4d05-a0b1-689c93d7a610EDDT3\\\"> 05/2018</span> </span> <span class=\\\"paddedline txt-bold\\\" itemscope=\\\"\\\" itemtype=\\\"https://schema.org/postalAddress\\\"> <span class=\\\"companyname\\\" id=\\\"c16bd516-88f5-4d05-a0b1-689c93d7a610COMP3\\\" itemprop=\\\"name\\\"> Company Name</span> <span> <span>  - </span> </span> <span class=\\\"joblocation jobcity\\\" id=\\\"c16bd516-88f5-4d05-a0b1-689c93d7a610JCIT3\\\" itemprop=\\\"addressLocality\\\"> City</span> <span> , </span> <span class=\\\"joblocation jobstate\\\" id=\\\"c16bd516-88f5-4d05-a0b1-689c93d7a610JSTA3\\\" itemprop=\\\"addressRegion\\\"> State</span> <span class=\\\"joblocation jobcountry\\\" id=\\\"c16bd516-88f5-4d05-a0b1-689c93d7a610JCNT3\\\"> </span> </span> <span class=\\\"jobline\\\" id=\\\"c16bd516-88f5-4d05-a0b1-689c93d7a610JDES3\\\" itemprop=\\\"description\\\"> <ul> <li> Identified operational and performance issues and worked with managers to resolve concerns.</li> <li> Supporting of the following hardware types: servers, storage systems, network equipment, PCs ipad and notebooks of any brands.</li> <li> Analyzed operational performance to identify pain points and provided actionable solutions to management.</li> <li> Educated personnel on company policies to foster improved customer retention and increased revenue.</li> <li> Technical knowledge of standard server system software (Linux, Windows, VMWare)</li> <li> Drove revenue and customer retention by visiting corporate and franchise centers serving clients to educate staff on company policies and customer styling applications.</li> <li> Wrote reports outlining results to facilitate management decision making.</li> <li> Executed and monitored standards for user interfaces, page design and graphics development.</li> <li> Provided senior technical support to both in-house staff and user departments for all network applications.</li> <li> Monitored project budget through the careful assessment of resource usage and task management to ensure that costs were kept low.</li> <li> Supported customers with password resets and account customization.</li> <li> Recorded complaints, product deficiencies, returned orders and other customer documentation in system.</li> <li> Supported customers having data connectivity issues, assisting with troubleshooting steps and rebooting of hardware.</li> <li> Maintained composure and patience in face of difficult customer situations, applying de-escalation techniques and positive customer support.</li> <li> Performed site evaluations, customer surveys and team audits.</li> <li> Promoted continuous improvement for IT governance processes.</li> <li> Spearheaded server infrastructure development, quality control, staging and production operations.</li> </ul> </span> </div> </div> <div class=\\\"paragraph\\\" id=\\\"PARAGRAPH_c16bd516-88f5-4d05-a0b1-689c93d7a610_4_8635d1c3-f58e-4d33-a87b-ad847a7c7337\\\" itemscope=\\\"\\\" itemtype=\\\"https://schema.org/Organization\\\"> <div class=\\\"singlecolumn\\\"> <span class=\\\"paddedline\\\"> <span class=\\\"jobtitle\\\" id=\\\"c16bd516-88f5-4d05-a0b1-689c93d7a610JTIT4\\\"> Quality Control Manager</span> <span>  | </span> <span class=\\\"jobdates\\\" format=\\\"%m/%Y\\\" id=\\\"c16bd516-88f5-4d05-a0b1-689c93d7a610JSTD4\\\"> 07/2013</span> <span>  - </span> <span class=\\\"jobdates\\\" format=\\\"%m/%Y\\\" id=\\\"c16bd516-88f5-4d05-a0b1-689c93d7a610EDDT4\\\"> 08/2015</span> </span> <span class=\\\"paddedline txt-bold\\\" itemscope=\\\"\\\" itemtype=\\\"https://schema.org/postalAddress\\\"> <span class=\\\"companyname\\\" id=\\\"c16bd516-88f5-4d05-a0b1-689c93d7a610COMP4\\\" itemprop=\\\"name\\\"> Company Name</span> <span> <span>  - </span> </span> <span class=\\\"joblocation jobcity\\\" id=\\\"c16bd516-88f5-4d05-a0b1-689c93d7a610JCIT4\\\" itemprop=\\\"addressLocality\\\"> City</span> <span> , </span> <span class=\\\"joblocation jobstate\\\" id=\\\"c16bd516-88f5-4d05-a0b1-689c93d7a610JSTA4\\\" itemprop=\\\"addressRegion\\\"> State</span> <span class=\\\"joblocation jobcountry\\\" id=\\\"c16bd516-88f5-4d05-a0b1-689c93d7a610JCNT4\\\"> </span> </span> <span class=\\\"jobline\\\" id=\\\"c16bd516-88f5-4d05-a0b1-689c93d7a610JDES4\\\" itemprop=\\\"description\\\"> <ul> <li> Stayed well-informed of all company and federal regulations, which bolstered compliance of all corporate processes.</li> <li> Used creative and professional policy to find solutions to issues while diminishing conflicts.</li> <li> Handled all scheduling procedures for the department and directed team members in setting and achieving goals.</li> <li> Observed customer specifications by monitoring the quality control of finished products.</li> </ul> </span> </div> </div> </div> <div class=\\\"section\\\" id=\\\"SECTION_EDUC95e45d01-3d53-473f-b805-14cee808ebae\\\"> <div class=\\\"heading\\\"> <div class=\\\"sectiontitle\\\" id=\\\"SECTNAME_EDUC95e45d01-3d53-473f-b805-14cee808ebae\\\"> Education and Training</div> </div> <div class=\\\"paragraph firstparagraph\\\" id=\\\"PARAGRAPH_95e45d01-3d53-473f-b805-14cee808ebae_1_35f5f03a-98c1-408c-8fe8-23fc8e31363b\\\" itemscope=\\\"\\\" itemtype=\\\"https://schema.org/EducationalOrganization\\\"> <div class=\\\"singlecolumn\\\"> <span class=\\\"paddedline txt-bold\\\" itemprop=\\\"description\\\"> <span class=\\\"companyname companyname_educ\\\" id=\\\"95e45d01-3d53-473f-b805-14cee808ebaeSCHO1\\\" itemprop=\\\"name\\\"> The Federal Polytechnic, Ado-Ekiti</span> <span> <span>  - </span> </span> <span class=\\\"joblocation jobcity\\\" id=\\\"95e45d01-3d53-473f-b805-14cee808ebaeSCIT1\\\"> City</span> <span> ,</span> <span class=\\\"joblocation jobstate\\\" id=\\\"95e45d01-3d53-473f-b805-14cee808ebaeSSTA1\\\"> State</span> <span class=\\\"joblocation jobcountry\\\" id=\\\"95e45d01-3d53-473f-b805-14cee808ebaeSCNT1\\\"> </span> <span> <span>  | </span> </span> <span class=\\\"degree\\\" id=\\\"95e45d01-3d53-473f-b805-14cee808ebaeDGRE1\\\" itemprop=\\\"name\\\"> Associate of Science</span> </span> <span class=\\\"paddedline\\\"> <span class=\\\"programline\\\" id=\\\"95e45d01-3d53-473f-b805-14cee808ebaeSTUY1\\\"> Science Technology</span> <span> , </span> <span format=\\\"%m/%Y\\\" id=\\\"95e45d01-3d53-473f-b805-14cee808ebaeGRYR1\\\"> 2003</span> </span> <span class=\\\"field\\\" id=\\\"95e45d01-3d53-473f-b805-14cee808ebaeFRFM1\\\"> </span> </div> </div> <div class=\\\"paragraph\\\" id=\\\"PARAGRAPH_95e45d01-3d53-473f-b805-14cee808ebae_2_a2729674-384f-4d1c-958a-35b2563e76c4\\\" itemscope=\\\"\\\" itemtype=\\\"https://schema.org/EducationalOrganization\\\"> <div class=\\\"singlecolumn\\\"> <span class=\\\"paddedline txt-bold\\\" itemprop=\\\"description\\\"> <span class=\\\"companyname companyname_educ\\\" id=\\\"95e45d01-3d53-473f-b805-14cee808ebaeSCHO2\\\" itemprop=\\\"name\\\"> Phoenix East Aviation</span> <span> <span>  - </span> </span> <span class=\\\"joblocation jobcity\\\" id=\\\"95e45d01-3d53-473f-b805-14cee808ebaeSCIT2\\\"> City</span> <span> ,</span> <span class=\\\"joblocation jobstate\\\" id=\\\"95e45d01-3d53-473f-b805-14cee808ebaeSSTA2\\\"> State</span> <span class=\\\"joblocation jobcountry\\\" id=\\\"95e45d01-3d53-473f-b805-14cee808ebaeSCNT2\\\"> </span> <span> <span>  | </span> </span> <span class=\\\"degree\\\" id=\\\"95e45d01-3d53-473f-b805-14cee808ebaeDGRE2\\\" itemprop=\\\"name\\\"> F.A.A  Aircraft Dispatcher License</span> </span> <span class=\\\"paddedline\\\"> <span class=\\\"programline\\\" id=\\\"95e45d01-3d53-473f-b805-14cee808ebaeSTUY2\\\"> Aviation</span> <span> , </span> <span format=\\\"%m/%Y\\\" id=\\\"95e45d01-3d53-473f-b805-14cee808ebaeGRYR2\\\"> 2014</span> </span> <span class=\\\"field\\\" id=\\\"95e45d01-3d53-473f-b805-14cee808ebaeFRFM2\\\"> </span> </div> </div> <div class=\\\"paragraph\\\" id=\\\"PARAGRAPH_95e45d01-3d53-473f-b805-14cee808ebae_3_aadb2d22-49ea-47b0-8fe0-86d66a1003c0\\\" itemscope=\\\"\\\" itemtype=\\\"https://schema.org/EducationalOrganization\\\"> <div class=\\\"singlecolumn\\\"> <span class=\\\"paddedline txt-bold\\\" itemprop=\\\"description\\\"> <span class=\\\"companyname companyname_educ\\\" id=\\\"95e45d01-3d53-473f-b805-14cee808ebaeSCHO3\\\" itemprop=\\\"name\\\"> University Of Colorado At Boulder</span> <span> <span>  - </span> </span> <span class=\\\"joblocation jobcity\\\" id=\\\"95e45d01-3d53-473f-b805-14cee808ebaeSCIT3\\\"> City</span> <span class=\\\"joblocation jobstate\\\" id=\\\"95e45d01-3d53-473f-b805-14cee808ebaeSSTA3\\\"> </span> <span class=\\\"joblocation jobcountry\\\" id=\\\"95e45d01-3d53-473f-b805-14cee808ebaeSCNT3\\\"> </span> <span> <span>  | </span> </span> <span class=\\\"degree\\\" id=\\\"95e45d01-3d53-473f-b805-14cee808ebaeDGRE3\\\" itemprop=\\\"name\\\"> Certificate</span> </span> <span class=\\\"paddedline\\\"> <span class=\\\"programline\\\" id=\\\"95e45d01-3d53-473f-b805-14cee808ebaeSTUY3\\\"> Cybersecurity Policy For Aviation And Internet </span> <span> , </span> <span format=\\\"%m/%Y\\\" id=\\\"95e45d01-3d53-473f-b805-14cee808ebaeGRYR3\\\"> 07/2020</span> </span> <span class=\\\"field\\\" id=\\\"95e45d01-3d53-473f-b805-14cee808ebaeFRFM3\\\"> </span> </div> </div> <div class=\\\"paragraph\\\" id=\\\"PARAGRAPH_95e45d01-3d53-473f-b805-14cee808ebae_4_928da07f-2964-852f-d35b-2700b04793b3\\\" itemscope=\\\"\\\" itemtype=\\\"https://schema.org/EducationalOrganization\\\"> <div class=\\\"singlecolumn\\\"> <span class=\\\"paddedline txt-bold\\\" itemprop=\\\"description\\\"> <span class=\\\"companyname companyname_educ\\\" id=\\\"95e45d01-3d53-473f-b805-14cee808ebaeSCHO4\\\" itemprop=\\\"name\\\"> GOOGLE I.T SUPPORT</span> <span> <span>  - </span> </span> <span class=\\\"joblocation jobcity\\\" id=\\\"95e45d01-3d53-473f-b805-14cee808ebaeSCIT4\\\"> City</span> <span class=\\\"joblocation jobstate\\\" id=\\\"95e45d01-3d53-473f-b805-14cee808ebaeSSTA4\\\"> </span> <span class=\\\"joblocation jobcountry\\\" id=\\\"95e45d01-3d53-473f-b805-14cee808ebaeSCNT4\\\"> </span> <span> <span>  | </span> </span> <span class=\\\"degree\\\" id=\\\"95e45d01-3d53-473f-b805-14cee808ebaeDGRE4\\\" itemprop=\\\"name\\\"> Certificate</span> </span> <span class=\\\"paddedline\\\"> <span class=\\\"programline\\\" id=\\\"95e45d01-3d53-473f-b805-14cee808ebaeSTUY4\\\"> </span> <span format=\\\"%m/%Y\\\" id=\\\"95e45d01-3d53-473f-b805-14cee808ebaeGRYR4\\\"> 03/2021</span> </span> <span class=\\\"field\\\" id=\\\"95e45d01-3d53-473f-b805-14cee808ebaeFRFM4\\\"> <p> <strong> Completed professional Course in:</strong> </p> <p> IT Security: Defense against the digital dark arts</p> <p> Operating System and You: Becoming a power user</p> <p> The Bits and Bytes of Computer Networking</p> <p> System Administration and IT Infrastructure Service</p> <p> Technical Support Fundamentals</p> </span> </div> </div> </div> </div>\",\n          \"<div class=\\\"fontsize fontface vmargins hmargins linespacing pagesize\\\" id=\\\"document\\\"> <div class=\\\"section firstsection\\\" id=\\\"SECTION_NAME588215279\\\" style=\\\"\\n      padding-top:0px;\\n    \\\"> <div class=\\\"paragraph PARAGRAPH_NAME firstparagraph\\\" id=\\\"PARAGRAPH_588215279_1_382804811\\\" style=\\\"\\n      padding-top:0px;\\n    \\\"> <div class=\\\"name\\\" itemprop=\\\"name\\\"> <span class=\\\"field\\\" id=\\\"588215279FNAM1\\\"> </span> <span> </span> <span class=\\\"field lName\\\" id=\\\"588215279LNAM1\\\"> BUSINESS DEVELOPMENT DIRECTOR</span> </div> </div> </div> <div class=\\\"section\\\" id=\\\"SECTION_SUMM588215281\\\" style=\\\"\\n      padding-top:0px;\\n    \\\"> <div class=\\\"heading\\\"> <div class=\\\"sectiontitle\\\" id=\\\"SECTNAME_SUMM588215281\\\"> Summary</div> </div> <div class=\\\"paragraph firstparagraph\\\" id=\\\"PARAGRAPH_588215281_1_382804813\\\" style=\\\"\\n      padding-top:0px;\\n    \\\"> <div class=\\\"field singlecolumn\\\" id=\\\"588215281FRFM1\\\"> <p align=\\\"LEFT\\\"> I collaborate with multiple stakeholders to determine audience needs, quickly developing strategic plans that align with my clients business priorities and strategies.</p> </div> </div> </div> <div class=\\\"section\\\" id=\\\"SECTION_EXPR588215283\\\" style=\\\"\\n      padding-top:0px;\\n    \\\"> <div class=\\\"heading\\\"> <div class=\\\"sectiontitle\\\" id=\\\"SECTNAME_EXPR588215283\\\"> Experience</div> </div> <div class=\\\"paragraph firstparagraph\\\" id=\\\"PARAGRAPH_588215283_1_382804816\\\" itemscope=\\\"\\\" itemtype=\\\"https://schema.org/Organization\\\" style=\\\"\\n      padding-top:0px;\\n    \\\"> <div class=\\\"singlecolumn\\\"> <span class=\\\"paddedline\\\"> <span class=\\\"jobtitle\\\" id=\\\"588215283JTIT1\\\"> Business Development Director</span> <span class=\\\"datesWrapper\\\"> <span class=\\\"jobdates\\\" format=\\\"%m/%Y\\\" id=\\\"588215283JSTD1\\\"> 05/1997</span> <span class=\\\"jobdates\\\">  to </span> <span class=\\\"jobdates\\\" format=\\\"%m/%Y\\\" id=\\\"588215283EDDT1\\\"> Current</span> </span> </span> <span class=\\\"paddedline\\\" itemscope=\\\"\\\" itemtype=\\\"https://schema.org/postalAddress\\\"> <span class=\\\"companyname\\\" id=\\\"588215283COMP1\\\" itemprop=\\\"name\\\"> Company Name</span> <span class=\\\"datesWrapper\\\"> <span class=\\\"joblocation jobcity\\\" id=\\\"588215283JCIT1\\\" itemprop=\\\"addressLocality\\\"> City</span> <span class=\\\"joblocation\\\"> , </span> <span class=\\\"joblocation jobstate\\\" id=\\\"588215283JSTA1\\\" itemprop=\\\"addressRegion\\\"> State</span> </span> </span> <span class=\\\"paddedline\\\"> <span class=\\\"jobline\\\" id=\\\"588215283JDES1\\\" itemprop=\\\"description\\\"> <p align=\\\"LEFT\\\"> Producing measurable results for my clients by designing unique engagement initiatives for employees, sales channel partners and consumers groups. Sales of performance improvement products, most being intangible services to Fortune 500 clients. Success at discovering and growing my business with customers who have the potential to spend more than $1 million with me each year.</p> <ul> <li> I have designed innovative solutions, customized to each customers various objectives and end result needs.</li> <li> Managing my internal teams to develop, design and operate complex custom projects ranging in value at least $150,000 to millions.</li> <li> Titles called on include the entire C suite, CEO, COO, CFO, CMO, President, EVP's of Marketing, Sales, Human Resources &amp; Finance.</li> <li> Define business issues to improve revenue and penetrating existing accounts and opening new.</li> <li> Sold 17 new accounts while in current position, managed sales volume and profit margin with long sales cycle.</li> <li> Managed and hired staff of 4 to work with my major global account travel &amp; meetings business over 8 years.</li> <li> Total book of business constantly over $2.5 million each year.</li> <li> Nearly twice the entertainment activity of other BDD's with similar tenure.</li> <li> Achieved over $6 million in sales twice, becoming a trusted partner to my clients, customers want me to Win!</li> </ul> </span> </span> </div> </div> <div class=\\\"paragraph\\\" id=\\\"PARAGRAPH_588215283_2_382804817\\\" itemscope=\\\"\\\" itemtype=\\\"https://schema.org/Organization\\\" style=\\\"\\n      padding-top:0px;\\n    \\\"> <div class=\\\"singlecolumn\\\"> <span class=\\\"paddedline\\\"> <span class=\\\"jobtitle\\\" id=\\\"588215283JTIT2\\\"> Account Territory &amp; District Sales Manager / National Account Sales</span> <span class=\\\"datesWrapper\\\"> <span class=\\\"jobdates\\\" format=\\\"%m/%Y\\\" id=\\\"588215283JSTD2\\\"> 08/1989</span> <span class=\\\"jobdates\\\">  to </span> <span class=\\\"jobdates\\\" format=\\\"%m/%Y\\\" id=\\\"588215283EDDT2\\\"> 04/1997</span> </span> </span> <span class=\\\"paddedline\\\" itemscope=\\\"\\\" itemtype=\\\"https://schema.org/postalAddress\\\"> <span class=\\\"companyname\\\" id=\\\"588215283COMP2\\\" itemprop=\\\"name\\\"> Company Name</span> <span class=\\\"datesWrapper\\\"> <span class=\\\"joblocation jobcity\\\" id=\\\"588215283JCIT2\\\" itemprop=\\\"addressLocality\\\"> City</span> <span class=\\\"joblocation\\\"> , </span> <span class=\\\"joblocation jobstate\\\" id=\\\"588215283JSTA2\\\" itemprop=\\\"addressRegion\\\"> State</span> </span> </span> <span class=\\\"paddedline\\\"> <span class=\\\"jobline\\\" id=\\\"588215283JDES2\\\" itemprop=\\\"description\\\"> <ul> <li> Responsible for growth of distributor sales volume, product mix and motivation of DSR sales forces.</li> <li> Developed my own custom local training and marketing materials, which were later adopted by the Nestle corporate.</li> <li> Distributor and chain accounts accounted for over $11 million in sales.</li> <li> Increased my chain accounts by over 75% while with national accounts.</li> <li> Created sales forecasts, developed budgets, strategic plans and managed entire regional office staff. Working with my team we grew business at Nestle largest US account by nearly double.</li> <li> Surpassed sales, budget goals every year as manager and twice led company nationally in new product introductions.</li> <li> District sales grew from $16 million to over $22 million as district manager. Hired five salespeople and 4 direct reports were promoted, managed up to eight account managers at a time.</li> <li> Developed new reports, marketing and promotional strategies for the field. Designed account reviews process, management and field training programs for the entire company.</li> <li> Sold small business owners and managed distributor sales accounts, using strategic planning, innovative programming and by cultivating strong personal relationships. Took area territory sales from $500,000 to $2.9 million, with a mature company in an industry with an average annual increase of only 3-5%.</li> </ul> </span> </span> </div> </div> <div class=\\\"paragraph\\\" id=\\\"PARAGRAPH_588215283_3_382804818\\\" itemscope=\\\"\\\" itemtype=\\\"https://schema.org/Organization\\\" style=\\\"\\n      padding-top:0px;\\n    \\\"> <div class=\\\"singlecolumn\\\"> <span class=\\\"paddedline\\\"> <span class=\\\"jobtitle\\\" id=\\\"588215283JTIT3\\\"> Financial Operations Executive and Department Merchandising Manager</span> <span class=\\\"datesWrapper\\\"> <span class=\\\"jobdates\\\" format=\\\"%m/%Y\\\" id=\\\"588215283JSTD3\\\"> 04/1988</span> <span class=\\\"jobdates\\\">  to </span> <span class=\\\"jobdates\\\" format=\\\"%m/%Y\\\" id=\\\"588215283EDDT3\\\"> 08/1989</span> </span> </span> <span class=\\\"paddedline\\\" itemscope=\\\"\\\" itemtype=\\\"https://schema.org/postalAddress\\\"> <span class=\\\"companyname\\\" id=\\\"588215283COMP3\\\" itemprop=\\\"name\\\"> Company Name</span> <span class=\\\"datesWrapper\\\"> <span class=\\\"joblocation jobcity\\\" id=\\\"588215283JCIT3\\\" itemprop=\\\"addressLocality\\\"> City</span> <span class=\\\"joblocation\\\"> , </span> <span class=\\\"joblocation jobstate\\\" id=\\\"588215283JSTA3\\\" itemprop=\\\"addressRegion\\\"> State</span> </span> </span> <span class=\\\"paddedline\\\"> <span class=\\\"jobline\\\" id=\\\"588215283JDES3\\\" itemprop=\\\"description\\\"> Financial Operations Executive for the South Bend store. Volunteered to be merchandise manager for the stores largest department. While in this role the department had the highest per foot sales volume of any department in the entire corporation during the 4th quarter of 1988.</span> </span> </div> </div> </div> <div class=\\\"section\\\" id=\\\"SECTION_ACCM588215285\\\" style=\\\"\\n      padding-top:0px;\\n    \\\"> <div class=\\\"heading\\\"> <div class=\\\"sectiontitle\\\" id=\\\"SECTNAME_ACCM588215285\\\"> Accomplishments</div> </div> <div class=\\\"paragraph firstparagraph\\\" id=\\\"PARAGRAPH_588215285_1_382804815\\\" style=\\\"\\n      padding-top:0px;\\n    \\\"> <div class=\\\"field singlecolumn\\\" id=\\\"588215285FRFM1\\\"> <ul> <li> 4 times President Achievement Guild Award winner, award for sales volume and profit.</li> <li> 3 times President Achievement Award winner, award for sales volume and profit.</li> <li> 4 times Achievement Guild winner, for leadership in 3 year running combined volume.</li> <li> Top travel and meetings sales several times since with BIW.</li> <li> National sales contest \\\"the 1993 Superbowl\\\".</li> <li> Twice awarded \\\"The Over Achiever of the Year\\\" by my most profitable direct customer.</li> <li> Reviewed consistently by management throughout career as \\\"Outstanding or Exceeding Expectations\\\".</li> <li> College: elected to executive positions with both Finance Club and Resident Housing Association.</li> </ul> </div> </div> </div> <div class=\\\"section\\\" id=\\\"SECTION_SKLL588215288\\\" style=\\\"\\n      padding-top:0px;\\n    \\\"> <div class=\\\"heading\\\"> <div class=\\\"sectiontitle\\\" id=\\\"SECTNAME_SKLL588215288\\\"> Skills</div> </div> <div class=\\\"paragraph firstparagraph\\\" id=\\\"PARAGRAPH_588215288_1_382804821\\\" style=\\\"\\n      padding-top:0px;\\n    \\\"> <div class=\\\"field singlecolumn\\\" id=\\\"588215288FRFM1\\\"> <p align=\\\"LEFT\\\"> Sales, Business Development, Distributor Sales, Territory Sales, District Sales, Sales of Solutions, Sales Teams, Sales Accounts, National Accounts, Sales Management, Strategic Accounts, Sales Promotions, Travel &amp; Meeting Sales, Technology Application Sales, Clients Management, Marketing, Budget, Budgets, Forecasts, Promotional, Travel &amp; Meeting Operations, Strategic Planning, Training, Training Development, Financial Operations, Merchandising, Corporate Operations, Employee Engagement, Managing Existing Accounts, Forecasting, Human Resources, Finding New Accounts, Relationship Building and Strategic Direction.</p> </div> </div> </div> <div class=\\\"section\\\" id=\\\"SECTION_EDUC588215284\\\" style=\\\"\\n      padding-top:0px;\\n    \\\"> <div class=\\\"heading\\\"> <div class=\\\"sectiontitle\\\" id=\\\"SECTNAME_EDUC588215284\\\"> Education</div> </div> <div class=\\\"paragraph firstparagraph\\\" id=\\\"PARAGRAPH_588215284_1_382804819\\\" itemscope=\\\"\\\" itemtype=\\\"https://schema.org/EducationalOrganization\\\" style=\\\"\\n      padding-top:0px;\\n    \\\"> <div class=\\\"singlecolumn\\\"> <span class=\\\"paddedline\\\" itemprop=\\\"description\\\"> <span class=\\\"degree\\\" id=\\\"588215284DGRE1\\\" itemprop=\\\"name\\\"> Bachelor of Business Administration</span> <span> : </span> <span class=\\\"programline\\\" id=\\\"588215284STUY1\\\"> Finance, General Business</span> <span class=\\\"datesWrapper\\\"> <span class=\\\"jobdates\\\" id=\\\"588215284GRYR1\\\"> 1988</span> <span> </span> </span> </span> <span class=\\\"paddedline\\\"> <span class=\\\"companyname companyname_educ\\\" id=\\\"588215284SCHO1\\\" itemprop=\\\"name\\\"> Western Michigan University</span> <span class=\\\"datesWrapper\\\"> <span class=\\\"joblocation jobcity educity\\\" id=\\\"588215284SCIT1\\\"> City</span> <span> , </span> <span class=\\\"joblocation jobstate edustate\\\" id=\\\"588215284SSTA1\\\"> State</span> <span> , </span> <span class=\\\"joblocation eduCountry\\\" id=\\\"588215284SCNT1\\\"> US</span> </span> </span> <span class=\\\"paddedline\\\"> <span class=\\\"field\\\" id=\\\"588215284FRFM1\\\"> <p align=\\\"LEFT\\\"> Earned over 85% of all educational/living costs. Jobs worked while in college, industrial heavy construction, excelled at several sales roles including at direct sales of home goods. While in direct sales I won a national trip and was ranked in the top 10 in the country in sales.  Started two successful on campus businesses. Member of the varsity division I football team for 4 years.</p> </span> </span> </div> </div> </div> <div class=\\\"section\\\" id=\\\"SECTION_AFIL588215287\\\" style=\\\"\\n      padding-top:0px;\\n    \\\"> <div class=\\\"heading\\\"> <div class=\\\"sectiontitle\\\" id=\\\"SECTNAME_AFIL588215287\\\"> Organizations</div> </div> <div class=\\\"paragraph firstparagraph\\\" id=\\\"PARAGRAPH_588215287_1_382804820\\\" style=\\\"\\n      padding-top:0px;\\n    \\\"> <div class=\\\"field singlecolumn\\\" id=\\\"588215287FRFM1\\\"> <p align=\\\"LEFT\\\"> IMEX, Milford Memories Planning Board, Huron Valley Youth Baseball President/Treasurer/Director of Travel Baseball, Lakeland Milford Travel Secretary and Milford High School baseball instructor.</p> </div> </div> </div> </div>\",\n          \"<div class=\\\"MPR skn-cbg1 fontsize fontface vmargins hmargins pagesize\\\" id=\\\"document\\\"> <div class=\\\"firstsection\\\" id=\\\"SECTION_PICT1c54d90b-f210-4994-a2df-6f797170b266\\\" style=\\\"padding-top:0px;\\\"> </div> <div class=\\\"section\\\" id=\\\"SECTION_NAMEafa5029c-ed20-4905-9618-559ac6326521\\\" style=\\\"padding-top:0px;\\\"> <div class=\\\"paragraph PARAGRAPH_NAME firstparagraph\\\" id=\\\"PARAGRAPH_afa5029c-ed20-4905-9618-559ac6326521_1_b72ebc9d-ef20-449c-9e46-f7af6ed76f8e\\\" style=\\\"padding-top:NaNpx;\\\"> <div class=\\\"name\\\" itemprop=\\\"name\\\"> <span class=\\\"field\\\" id=\\\"afa5029c-ed20-4905-9618-559ac6326521FNAM1\\\"> </span> <span> </span> <span class=\\\"field\\\" id=\\\"afa5029c-ed20-4905-9618-559ac6326521LNAM1\\\"> ENGINEERING MANAGER</span> </div> <div class=\\\"lowerborder\\\"> </div> </div> </div> <div class=\\\"section\\\" id=\\\"SECTION_SUMMa79b81cd-ed26-40a6-a71d-d369a97aaddf\\\" style=\\\"padding-top:0px;\\\"> <div class=\\\"heading\\\"> <div class=\\\"sectiontitle\\\" id=\\\"SECTNAME_SUMMa79b81cd-ed26-40a6-a71d-d369a97aaddf\\\"> Professional Summary</div> </div> <div class=\\\"paragraph firstparagraph\\\" id=\\\"PARAGRAPH_a79b81cd-ed26-40a6-a71d-d369a97aaddf_1_d37148e5-8011-49d3-b6b5-15a08f038d2a\\\" style=\\\"padding-top:NaNpx;\\\"> <div class=\\\"field singlecolumn\\\" id=\\\"a79b81cd-ed26-40a6-a71d-d369a97aaddfFRFM1\\\"> Experienced product development Engineer and manager able to collaborate with cross functional team as well as customers and sales to bring brand new offerings to new markets. Skilled at managing cross functional team for continuous improvements and meeting project deadlines. Offering 6 years of experience in the field.</div> </div> </div> <div class=\\\"section\\\" id=\\\"SECTION_HILT59198e28-8127-4e19-8680-aeff6e4e9111\\\" style=\\\"padding-top:0px;\\\"> <div class=\\\"heading\\\"> <div class=\\\"sectiontitle\\\" id=\\\"SECTNAME_HILT59198e28-8127-4e19-8680-aeff6e4e9111\\\"> Skills</div> </div> <div class=\\\"paragraph firstparagraph\\\" id=\\\"PARAGRAPH_59198e28-8127-4e19-8680-aeff6e4e9111_1_91ac5bb4-454c-4ef4-8ce9-93cfbec48dd8\\\" style=\\\"padding-top:NaNpx;\\\"> <div class=\\\"singlecolumn maincolumn\\\"> <table class=\\\"twocol\\\"> <tbody> <tr> <td class=\\\"field twocol_1\\\" id=\\\"59198e28-8127-4e19-8680-aeff6e4e9111SKC11\\\"> <ul> <li> Microsoft Office</li> <li> Microsoft Project</li> <li> Product development</li> <li> Quality</li> <li> Research</li> <li> Six Sigma Green Belt</li> <li> Solid Works</li> <li> Visio</li> <li> Prioritization</li> <li> Personnel management</li> <li> Critical thinking skills</li> <li> Team management</li> <li> Analyst, Visio</li> <li> Agency</li> <li> Consulting</li> <li> Cost analysis</li> <li> Critical thinking</li> <li> Designing</li> <li> Dialysis</li> <li> Direction</li> </ul> </td> <td class=\\\"field twocol_2\\\" id=\\\"59198e28-8127-4e19-8680-aeff6e4e9111SKC21\\\"> <ul> <li> Develop drug</li> <li> Functional</li> <li> IIa</li> <li> ISO</li> <li> Leadership</li> <li> Market and development</li> <li> Microsoft Office</li> <li> Microsoft Project</li> <li> Personnel management</li> <li> Design process</li> <li> Product development</li> <li> Product management</li> <li> Quality</li> <li> Researching</li> <li> Research</li> <li> Sales</li> <li> Six Sigma</li> <li> Solid Works</li> <li> Team management</li> <li> Validation</li> </ul> </td> </tr> </tbody> </table> </div> </div> </div> <div class=\\\"section\\\" id=\\\"SECTION_EXPR57f7e681-47f6-4b9d-bd84-cbc638b40345\\\" style=\\\"padding-top:0px;\\\"> <div class=\\\"heading\\\"> <div class=\\\"sectiontitle\\\" id=\\\"SECTNAME_EXPR57f7e681-47f6-4b9d-bd84-cbc638b40345\\\"> Work History</div> </div> <div class=\\\"paragraph firstparagraph\\\" id=\\\"PARAGRAPH_57f7e681-47f6-4b9d-bd84-cbc638b40345_1_81f1c5da-b869-42af-94e3-cacd539a1040\\\" itemscope=\\\"\\\" itemtype=\\\"https://schema.org/Organization\\\" style=\\\"padding-top:NaNpx;\\\"> <div class=\\\"singlecolumn\\\"> <span class=\\\"paddedline\\\" style=\\\"display: inline;\\\"> <span class=\\\"jobtitle\\\" id=\\\"57f7e681-47f6-4b9d-bd84-cbc638b40345JTIT1\\\"> Engineering Manager</span> <span> , </span> </span> <span class=\\\"paddedline\\\" style=\\\"display: inline;\\\"> <span class=\\\"jobdates\\\" format=\\\"%m/%Y\\\" id=\\\"57f7e681-47f6-4b9d-bd84-cbc638b40345JSTD1\\\"> 03/2018</span> <span>  to </span> <span class=\\\"jobdates\\\" format=\\\"%m/%Y\\\" id=\\\"57f7e681-47f6-4b9d-bd84-cbc638b40345EDDT1\\\"> Current</span> <br/> </span> <span class=\\\"paddedline\\\" itemscope=\\\"\\\" itemtype=\\\"https://schema.org/postalAddress\\\"> <span class=\\\"companyname\\\" id=\\\"57f7e681-47f6-4b9d-bd84-cbc638b40345COMP1\\\" itemprop=\\\"name\\\"> </span> <span class=\\\"joblocation jobcity\\\" id=\\\"57f7e681-47f6-4b9d-bd84-cbc638b40345JCIT1\\\" itemprop=\\\"addressLocality\\\"> City</span> <span> , </span> <span class=\\\"joblocation jobstate\\\" id=\\\"57f7e681-47f6-4b9d-bd84-cbc638b40345JSTA1\\\" itemprop=\\\"addressRegion\\\"> State</span> <br/> </span> <span class=\\\"jobline\\\" id=\\\"57f7e681-47f6-4b9d-bd84-cbc638b40345JDES1\\\" itemprop=\\\"description\\\"> <ul> <li> Create and maintain Technical Files per MDR requirements as well as attaining 510k on legacy products.</li> <li> Assess testing gaps of legacy products and design creep.</li> <li> Experienced in working with multiple departments.</li> <li> Experienced in training and leading engineers in order to investigate field complaints, Gap analysis and building Technical files/DHF.</li> <li> Experienced in leading team of engineers to lead all aspects of design process, including regulatory needs per market and development per design control.</li> <li> Tasked to create test plan and analysis of existing Class I, II and III products and Testing per latest applicable requirements.</li> <li> Trained team in conducting project related cost analysis, test gap analysis and researching ISO/EN ISO/ASTM requirements.</li> <li> Leading companywide EU MDR product transfer and testing on Infusion products, Dialysis products and standalone products.</li> <li> Provided technical direction on MDR and 510k related projects and initiatives to other engineers and technicians.</li> </ul> </span> </div> </div> <div class=\\\"paragraph\\\" id=\\\"PARAGRAPH_57f7e681-47f6-4b9d-bd84-cbc638b40345_2_c5e121c4-d6fe-4d94-bb47-2d7a992e1427\\\" itemscope=\\\"\\\" itemtype=\\\"https://schema.org/Organization\\\" style=\\\"padding-top:NaNpx;\\\"> <div class=\\\"singlecolumn\\\"> <span class=\\\"paddedline\\\" style=\\\"display: inline;\\\"> <span class=\\\"jobtitle\\\" id=\\\"57f7e681-47f6-4b9d-bd84-cbc638b40345JTIT2\\\"> Project Engineer II</span> <span> , </span> </span> <span class=\\\"paddedline\\\" style=\\\"display: inline;\\\"> <span class=\\\"jobdates\\\" format=\\\"%m/%Y\\\" id=\\\"57f7e681-47f6-4b9d-bd84-cbc638b40345JSTD2\\\"> 03/2017</span> <span>  to </span> <span class=\\\"jobdates\\\" format=\\\"%m/%Y\\\" id=\\\"57f7e681-47f6-4b9d-bd84-cbc638b40345EDDT2\\\"> 03/2018</span> <br/> </span> <span class=\\\"paddedline\\\" itemscope=\\\"\\\" itemtype=\\\"https://schema.org/postalAddress\\\"> <span class=\\\"companyname\\\" id=\\\"57f7e681-47f6-4b9d-bd84-cbc638b40345COMP2\\\" itemprop=\\\"name\\\"> Company Name</span> <span>  \\u2013 </span> <span class=\\\"joblocation jobcity\\\" id=\\\"57f7e681-47f6-4b9d-bd84-cbc638b40345JCIT2\\\" itemprop=\\\"addressLocality\\\"> City</span> <span> , </span> <span class=\\\"joblocation jobstate\\\" id=\\\"57f7e681-47f6-4b9d-bd84-cbc638b40345JSTA2\\\" itemprop=\\\"addressRegion\\\"> State</span> <br/> </span> <span class=\\\"jobline\\\" id=\\\"57f7e681-47f6-4b9d-bd84-cbc638b40345JDES2\\\" itemprop=\\\"description\\\"> <ul> <li> Working with product management, Clinical Analyst, sales, and regulatory to determine optimal design inputs for new products.</li> <li> Completed design transfer and attained 510k on Class IIb device in under year.</li> <li> Lead cross functional team including consulting agency in order to Develop drug device combination product and research optimal process using DOE in order for mass production.</li> <li> Leading all aspects of design control from designing on solid works to process validations and V&amp;V Testing.</li> <li> Analyzing and resolving field failures through investigation and testing.</li> <li> Experienced in working with international regulatory teams in providing information for foreign registration.</li> <li> Responsible for gap analysis and test planning in order to create and meet deadline for projects.</li> <li> Experienced with reviewing and approving validation activities as well as provide support to staff to achieve project milestones.</li> <li> Experienced working with cross functional teams to complete projects and tasks.</li> </ul> </span> </div> </div> <div class=\\\"paragraph\\\" id=\\\"PARAGRAPH_57f7e681-47f6-4b9d-bd84-cbc638b40345_3_491b8c27-b7f3-4db9-a48d-46bfa2dd83ee\\\" itemscope=\\\"\\\" itemtype=\\\"https://schema.org/Organization\\\" style=\\\"padding-top:NaNpx;\\\"> <div class=\\\"singlecolumn\\\"> <span class=\\\"paddedline\\\" style=\\\"display: inline;\\\"> <span class=\\\"jobtitle\\\" id=\\\"57f7e681-47f6-4b9d-bd84-cbc638b40345JTIT3\\\"> Engineer I</span> <span> , </span> </span> <span class=\\\"paddedline\\\" style=\\\"display: inline;\\\"> <span class=\\\"jobdates\\\" format=\\\"%m/%Y\\\" id=\\\"57f7e681-47f6-4b9d-bd84-cbc638b40345JSTD3\\\"> 06/2013</span> <span>  to </span> <span class=\\\"jobdates\\\" format=\\\"%m/%Y\\\" id=\\\"57f7e681-47f6-4b9d-bd84-cbc638b40345EDDT3\\\"> 03/2017</span> <br/> </span> <span class=\\\"paddedline\\\" itemscope=\\\"\\\" itemtype=\\\"https://schema.org/postalAddress\\\"> <span class=\\\"companyname\\\" id=\\\"57f7e681-47f6-4b9d-bd84-cbc638b40345COMP3\\\" itemprop=\\\"name\\\"> Company Name</span> <span>  \\u2013 </span> <span class=\\\"joblocation jobcity\\\" id=\\\"57f7e681-47f6-4b9d-bd84-cbc638b40345JCIT3\\\" itemprop=\\\"addressLocality\\\"> City</span> <span> , </span> <span class=\\\"joblocation jobstate\\\" id=\\\"57f7e681-47f6-4b9d-bd84-cbc638b40345JSTA3\\\" itemprop=\\\"addressRegion\\\"> State</span> <br/> </span> <span class=\\\"jobline\\\" id=\\\"57f7e681-47f6-4b9d-bd84-cbc638b40345JDES3\\\" itemprop=\\\"description\\\"> <ul> <li> Worked to bring Drug Device Combination product to mass production.</li> <li> Completed new Class IIa product and completed project in 10 months.</li> <li> Completing CAPAs and resolving field failures by research and testing.</li> <li> Developed new testing methods and designed tooling for new testing.</li> <li> Experienced in using Injection Molding Machine to Create and Test Prototypes.</li> <li> Found cheaper and more responsible vendor for MRI related testing.</li> </ul> </span> </div> </div> </div> <div class=\\\"section\\\" id=\\\"SECTION_EDUCc3ff1b76-45c2-4256-801f-1d93a6d48a74\\\" style=\\\"padding-top:0px;\\\"> <div class=\\\"heading\\\"> <div class=\\\"sectiontitle\\\" id=\\\"SECTNAME_EDUCc3ff1b76-45c2-4256-801f-1d93a6d48a74\\\"> Education</div> </div> <div class=\\\"paragraph firstparagraph\\\" id=\\\"PARAGRAPH_c3ff1b76-45c2-4256-801f-1d93a6d48a74_1_7d553f36-a7b2-4ee5-ada1-c08888ca8509\\\" itemscope=\\\"\\\" itemtype=\\\"https://schema.org/EducationalOrganization\\\" style=\\\"padding-top:NaNpx;\\\"> <div class=\\\"singlecolumn\\\"> <span class=\\\"paddedline\\\" itemprop=\\\"description\\\"> <span class=\\\"degree\\\" id=\\\"c3ff1b76-45c2-4256-801f-1d93a6d48a74DGRE1\\\" itemprop=\\\"name\\\"> Bachelor of Science</span> <span> : </span> <span class=\\\"programline\\\" id=\\\"c3ff1b76-45c2-4256-801f-1d93a6d48a74STUY1\\\"> Mechanical Engineering</span> <span> , </span> <span format=\\\"%m/%Y\\\" id=\\\"c3ff1b76-45c2-4256-801f-1d93a6d48a74GRYR1\\\"> 05/2013</span> <br/> </span> <span class=\\\"paddedline\\\"> <span class=\\\"companyname companyname_educ\\\" id=\\\"c3ff1b76-45c2-4256-801f-1d93a6d48a74SCHO1\\\" itemprop=\\\"name\\\"> Temple University</span> <span>  - </span> <span class=\\\"joblocation jobcity\\\" id=\\\"c3ff1b76-45c2-4256-801f-1d93a6d48a74SCIT1\\\"> City</span> <span> , </span> <span class=\\\"joblocation jobstate\\\" id=\\\"c3ff1b76-45c2-4256-801f-1d93a6d48a74SSTA1\\\"> State</span> <br/> </span> <span class=\\\"field\\\" id=\\\"c3ff1b76-45c2-4256-801f-1d93a6d48a74FRFM1\\\"> </span> </div> </div> <div class=\\\"paragraph\\\" id=\\\"PARAGRAPH_c3ff1b76-45c2-4256-801f-1d93a6d48a74_2_927d72ba-b039-4a46-970c-25339dd8e216\\\" itemscope=\\\"\\\" itemtype=\\\"https://schema.org/EducationalOrganization\\\" style=\\\"padding-top:NaNpx;\\\"> <div class=\\\"singlecolumn\\\"> <span class=\\\"paddedline\\\" itemprop=\\\"description\\\"> <span class=\\\"degree\\\" id=\\\"c3ff1b76-45c2-4256-801f-1d93a6d48a74DGRE2\\\" itemprop=\\\"name\\\"> Certifications\\nManagement Leadership Certification and Six Sigma Greenbelt certification</span> <span class=\\\"programline\\\" id=\\\"c3ff1b76-45c2-4256-801f-1d93a6d48a74STUY2\\\"> </span> <span format=\\\"%m/%Y\\\" id=\\\"c3ff1b76-45c2-4256-801f-1d93a6d48a74GRYR2\\\"> </span> </span> <span class=\\\"field\\\" id=\\\"c3ff1b76-45c2-4256-801f-1d93a6d48a74FRFM2\\\"> </span> </div> </div> </div> <div class=\\\"section\\\" id=\\\"SECTION_WRKH94eaceaf-fc70-4558-aae7-c02aa39afdaa\\\" style=\\\"padding-top:0px;\\\"> <div class=\\\"heading\\\"> <div class=\\\"sectiontitle\\\" id=\\\"SECTNAME_WRKH94eaceaf-fc70-4558-aae7-c02aa39afdaa\\\"> Work History</div> </div> <div class=\\\"paragraph firstparagraph\\\" id=\\\"PARAGRAPH_94eaceaf-fc70-4558-aae7-c02aa39afdaa_1_683ed507-7415-4bc5-b721-adecaa5a90b4\\\" itemscope=\\\"\\\" itemtype=\\\"https://schema.org/Organization\\\" style=\\\"padding-top:NaNpx;\\\"> <div class=\\\"singlecolumn\\\"> <span class=\\\"paddedline\\\"> <span class=\\\"jobtitle\\\" id=\\\"94eaceaf-fc70-4558-aae7-c02aa39afdaaJTIT1\\\"> Engineering Manager</span> <span> , </span> <span class=\\\"jobdates\\\" format=\\\"%m/%Y\\\" id=\\\"94eaceaf-fc70-4558-aae7-c02aa39afdaaJSTD1\\\"> 03/2018</span> <span>  to </span> <span class=\\\"jobdates\\\" format=\\\"%m/%Y\\\" id=\\\"94eaceaf-fc70-4558-aae7-c02aa39afdaaEDDT1\\\"> Current</span> <br/> </span> <span class=\\\"paddedline\\\" itemscope=\\\"\\\" itemtype=\\\"https://schema.org/postalAddress\\\"> <span class=\\\"companyname\\\" id=\\\"94eaceaf-fc70-4558-aae7-c02aa39afdaaCOMP1\\\" itemprop=\\\"name\\\"> </span> <span class=\\\"joblocation jobcity\\\" id=\\\"94eaceaf-fc70-4558-aae7-c02aa39afdaaJCIT1\\\" itemprop=\\\"addressLocality\\\"> City</span> <span> , </span> <span class=\\\"joblocation jobstate\\\" id=\\\"94eaceaf-fc70-4558-aae7-c02aa39afdaaJSTA1\\\" itemprop=\\\"addressRegion\\\"> State</span> <br/> </span> <span class=\\\"jobline\\\" id=\\\"94eaceaf-fc70-4558-aae7-c02aa39afdaaJDES1\\\" itemprop=\\\"description\\\"> <ul> <li> Create and maintain Technical Files per MDR requirements as well as attaining 510k on legacy products.</li> <li> Assess testing gaps of legacy products and design creep.</li> <li> Experienced in working with multiple departments.</li> <li> Experienced in training and leading engineers in order to investigate field complaints, Gap analysis and building Technical files/DHF.</li> <li> Experienced in leading team of engineers to lead all aspects of design process, including regulatory needs per market and development per design control.</li> <li> Tasked to create test plan and analysis of existing Class I, II and III products and Testing per latest applicable requirements.</li> <li> Trained team in conducting project related cost analysis, test gap analysis and researching ISO/EN ISO/ASTM requirements.</li> <li> Leading companywide EU MDR product transfer and testing on Infusion products, Dialysis products and standalone products.</li> <li> Provided technical direction on MDR and 510k related projects and initiatives to other engineers and technicians.</li> </ul> </span> </div> </div> <div class=\\\"paragraph\\\" id=\\\"PARAGRAPH_94eaceaf-fc70-4558-aae7-c02aa39afdaa_2_ec8a0290-f8d6-49f4-917e-1272dd2fa499\\\" itemscope=\\\"\\\" itemtype=\\\"https://schema.org/Organization\\\" style=\\\"padding-top:NaNpx;\\\"> <div class=\\\"singlecolumn\\\"> <span class=\\\"paddedline\\\"> <span class=\\\"jobtitle\\\" id=\\\"94eaceaf-fc70-4558-aae7-c02aa39afdaaJTIT2\\\"> Project Engineer II</span> <span> , </span> <span class=\\\"jobdates\\\" format=\\\"%m/%Y\\\" id=\\\"94eaceaf-fc70-4558-aae7-c02aa39afdaaJSTD2\\\"> 03/2017</span> <span>  to </span> <span class=\\\"jobdates\\\" format=\\\"%m/%Y\\\" id=\\\"94eaceaf-fc70-4558-aae7-c02aa39afdaaEDDT2\\\"> 03/2018</span> <br/> </span> <span class=\\\"paddedline\\\" itemscope=\\\"\\\" itemtype=\\\"https://schema.org/postalAddress\\\"> <span class=\\\"companyname\\\" id=\\\"94eaceaf-fc70-4558-aae7-c02aa39afdaaCOMP2\\\" itemprop=\\\"name\\\"> Company Name</span> <span>  \\u2013 </span> <span class=\\\"joblocation jobcity\\\" id=\\\"94eaceaf-fc70-4558-aae7-c02aa39afdaaJCIT2\\\" itemprop=\\\"addressLocality\\\"> City</span> <span> , </span> <span class=\\\"joblocation jobstate\\\" id=\\\"94eaceaf-fc70-4558-aae7-c02aa39afdaaJSTA2\\\" itemprop=\\\"addressRegion\\\"> State</span> <br/> </span> <span class=\\\"jobline\\\" id=\\\"94eaceaf-fc70-4558-aae7-c02aa39afdaaJDES2\\\" itemprop=\\\"description\\\"> <ul> <li> Working with product management, Clinical Analyst, sales, and regulatory to determine optimal design inputs for new products.</li> <li> Completed design transfer and attained 510k on Class IIb device in under year.</li> <li> Lead cross functional team including consulting agency in order to Develop drug device combination product and research optimal process using DOE in order for mass production.</li> <li> Leading all aspects of design control from designing on solid works to process validations and V&amp;V Testing.</li> <li> Analyzing and resolving field failures through investigation and testing.</li> <li> Experienced in working with international regulatory teams in providing information for foreign registration.</li> <li> Responsible for gap analysis and test planning in order to create and meet deadline for projects.</li> <li> Experienced with reviewing and approving validation activities as well as provide support to staff to achieve project milestones.</li> <li> Experienced working with cross functional teams to complete projects and tasks.</li> </ul> </span> </div> </div> <div class=\\\"paragraph\\\" id=\\\"PARAGRAPH_94eaceaf-fc70-4558-aae7-c02aa39afdaa_3_95104344-4f04-46e2-9f70-7d9cc463a747\\\" itemscope=\\\"\\\" itemtype=\\\"https://schema.org/Organization\\\" style=\\\"padding-top:NaNpx;\\\"> <div class=\\\"singlecolumn\\\"> <span class=\\\"paddedline\\\"> <span class=\\\"jobtitle\\\" id=\\\"94eaceaf-fc70-4558-aae7-c02aa39afdaaJTIT3\\\"> Engineer I</span> <span> , </span> <span class=\\\"jobdates\\\" format=\\\"%m/%Y\\\" id=\\\"94eaceaf-fc70-4558-aae7-c02aa39afdaaJSTD3\\\"> 06/2013</span> <span>  to </span> <span class=\\\"jobdates\\\" format=\\\"%m/%Y\\\" id=\\\"94eaceaf-fc70-4558-aae7-c02aa39afdaaEDDT3\\\"> 03/2017</span> <br/> </span> <span class=\\\"paddedline\\\" itemscope=\\\"\\\" itemtype=\\\"https://schema.org/postalAddress\\\"> <span class=\\\"companyname\\\" id=\\\"94eaceaf-fc70-4558-aae7-c02aa39afdaaCOMP3\\\" itemprop=\\\"name\\\"> Company Name</span> <span>  \\u2013 </span> <span class=\\\"joblocation jobcity\\\" id=\\\"94eaceaf-fc70-4558-aae7-c02aa39afdaaJCIT3\\\" itemprop=\\\"addressLocality\\\"> City</span> <span> , </span> <span class=\\\"joblocation jobstate\\\" id=\\\"94eaceaf-fc70-4558-aae7-c02aa39afdaaJSTA3\\\" itemprop=\\\"addressRegion\\\"> State</span> <br/> </span> <span class=\\\"jobline\\\" id=\\\"94eaceaf-fc70-4558-aae7-c02aa39afdaaJDES3\\\" itemprop=\\\"description\\\"> <ul> <li> Worked to bring Drug Device Combination product to mass production.</li> <li> Completed new Class IIa product and completed project in 10 months.</li> <li> Completing CAPAs and resolving field failures by research and testing.</li> <li> Developed new testing methods and designed tooling for new testing.</li> <li> Experienced in using Injection Molding Machine to Create and Test Prototypes.</li> <li> Found cheaper and more responsible vendor for MRI related testing.</li> </ul> </span> </div> </div> </div> <div class=\\\"section\\\" id=\\\"SECTION_SKLL76d684b9-d30d-44de-810c-b0f4c84e80c1\\\" style=\\\"padding-top:0px;\\\"> <div class=\\\"heading\\\"> <div class=\\\"sectiontitle\\\" id=\\\"SECTNAME_SKLL76d684b9-d30d-44de-810c-b0f4c84e80c1\\\"> Skills</div> </div> <div class=\\\"paragraph firstparagraph\\\" id=\\\"PARAGRAPH_76d684b9-d30d-44de-810c-b0f4c84e80c1_1_6b2d0ea2-b0fe-4911-af72-588efa1c02a6\\\" style=\\\"padding-top:NaNpx;\\\"> <div class=\\\"field singlecolumn\\\" id=\\\"76d684b9-d30d-44de-810c-b0f4c84e80c1FRFM1\\\"> <li> Microsoft Office</li> <li> Microsoft Project</li> <li> Product development</li> <li> Quality</li> <li> Research</li> <li> Six Sigma Green Belt</li> <li> Solid Works</li> <li> Visio</li> <li> Prioritization</li> <li> Personnel management</li> <li> Critical thinking skills</li> <li> Team management,</li> <li> Analyst, agency, consulting, cost analysis, Critical thinking, Designing, Dialysis, direction, Develop drug, functional, IIa, ISO, Leadership, market and development, Microsoft Office, Microsoft Project, Personnel management, design process, Product development, product management, Quality, researching, Research, sales, Six Sigma, Solid Works, Team management, validation, Visio</li> </div> </div> </div> </div>\"\n        ],\n        \"semantic_type\": \"\",\n        \"description\": \"\"\n      }\n    },\n    {\n      \"column\": \"Category\",\n      \"properties\": {\n        \"dtype\": \"category\",\n        \"num_unique_values\": 24,\n        \"samples\": [\n          \"AGRICULTURE\",\n          \"APPAREL\",\n          \"HR\"\n        ],\n        \"semantic_type\": \"\",\n        \"description\": \"\"\n      }\n    }\n  ]\n}"
            }
          },
          "metadata": {},
          "execution_count": 12
        }
      ],
      "execution_count": null
    },
    {
      "cell_type": "code",
      "source": [
        "resume_df.shape"
      ],
      "metadata": {
        "trusted": true,
        "execution": {
          "iopub.status.busy": "2025-05-23T19:47:17.406069Z",
          "iopub.execute_input": "2025-05-23T19:47:17.406389Z",
          "iopub.status.idle": "2025-05-23T19:47:17.413134Z",
          "shell.execute_reply.started": "2025-05-23T19:47:17.406361Z",
          "shell.execute_reply": "2025-05-23T19:47:17.411977Z"
        },
        "colab": {
          "base_uri": "https://localhost:8080/"
        },
        "id": "uVuuYb8J6rS_",
        "outputId": "914d2513-f860-4910-9556-4c72abf11a12"
      },
      "outputs": [
        {
          "output_type": "execute_result",
          "data": {
            "text/plain": [
              "(2484, 4)"
            ]
          },
          "metadata": {},
          "execution_count": 13
        }
      ],
      "execution_count": null
    },
    {
      "cell_type": "markdown",
      "source": [
        "### Random Sampling\n",
        "The dataframe contains 123,849 rows, embedding all rows will lead to excessive computational cost for this demo. To fit within Kaggle's free tier and timeline (processing in <1 hour), we will select 1000 rows for job postings and 1000 rows for resumes."
      ],
      "metadata": {
        "id": "umc22PaV6rTA"
      }
    },
    {
      "cell_type": "code",
      "source": [
        "# Sample 1000 job postings and 1000 resumes\n",
        "postings_sample_df = postings_df.sample(1000, random_state=42).copy()\n",
        "resume_sample_df = resume_df.sample(1000, random_state=42).copy()"
      ],
      "metadata": {
        "trusted": true,
        "execution": {
          "iopub.status.busy": "2025-05-23T19:47:17.414379Z",
          "iopub.execute_input": "2025-05-23T19:47:17.414679Z",
          "iopub.status.idle": "2025-05-23T19:47:17.465725Z",
          "shell.execute_reply.started": "2025-05-23T19:47:17.414655Z",
          "shell.execute_reply": "2025-05-23T19:47:17.464713Z"
        },
        "id": "O3KkxG2R6rTA"
      },
      "outputs": [],
      "execution_count": null
    },
    {
      "cell_type": "code",
      "source": [
        "print('Job Postings Sample Shape:', postings_sample_df.shape)\n",
        "print('Resume Sample Shape:', resume_sample_df.shape)"
      ],
      "metadata": {
        "trusted": true,
        "execution": {
          "iopub.status.busy": "2025-05-23T19:47:17.46675Z",
          "iopub.execute_input": "2025-05-23T19:47:17.46706Z",
          "iopub.status.idle": "2025-05-23T19:47:17.472493Z",
          "shell.execute_reply.started": "2025-05-23T19:47:17.467029Z",
          "shell.execute_reply": "2025-05-23T19:47:17.471521Z"
        },
        "colab": {
          "base_uri": "https://localhost:8080/"
        },
        "id": "M2ANw5_E6rTA",
        "outputId": "8a0efb27-959a-47bf-8826-0e2c7695ec49"
      },
      "outputs": [
        {
          "output_type": "stream",
          "name": "stdout",
          "text": [
            "Job Postings Sample Shape: (1000, 31)\n",
            "Resume Sample Shape: (1000, 4)\n"
          ]
        }
      ],
      "execution_count": null
    },
    {
      "cell_type": "code",
      "source": [
        "# Placeholder for dynamic resume and JD input\n",
        "uploaded_resume = None\n",
        "uploaded_jd = None"
      ],
      "metadata": {
        "trusted": true,
        "execution": {
          "iopub.status.busy": "2025-05-23T19:47:17.47351Z",
          "iopub.execute_input": "2025-05-23T19:47:17.473859Z",
          "iopub.status.idle": "2025-05-23T19:47:17.478453Z",
          "shell.execute_reply.started": "2025-05-23T19:47:17.473829Z",
          "shell.execute_reply": "2025-05-23T19:47:17.47752Z"
        },
        "id": "ehPgdfiQ6rTA"
      },
      "outputs": [],
      "execution_count": null
    },
    {
      "cell_type": "markdown",
      "source": [
        "#### Preprocess and Extract Features from the Job Description Dataset\n",
        "This process involves:\n",
        "* Handling missing values.\n",
        "* Normalizing text fields (e.g., lemmatizing with spaCy, converting to lowercase).\n",
        "* Extracting structured features (skills, domains) using predefined lists.\n",
        "* Creating a single string representation of each job posting and resume, enhanced with extracted skills."
      ],
      "metadata": {
        "id": "dYkm_Wvw6rTA"
      }
    },
    {
      "cell_type": "code",
      "source": [
        "# Load spaCy model\n",
        "nlp = spacy.load('en_core_web_sm')\n",
        "\n",
        "# Define skill and domain keywords\n",
        "SKILLS = ['javascript', 'node.js', 'aws', 'kubernetes', 'go lang', 'ruby', 'python', 'sql', 'java',\n",
        "          'docker', 'html', 'management', 'engineering', 'marketing', 'design', 'sales', 'software',\n",
        "          'development', 'communication', 'leadership', 'installation', 'technical', 'automation', 'power systems']\n",
        "DOMAINS = ['healthcare', 'finance', 'tech', 'education', 'manufacturing', 'retail', 'sales',\n",
        "           'construction', 'hospitality', 'engineering', 'legal', 'marketing', 'government']"
      ],
      "metadata": {
        "trusted": true,
        "execution": {
          "iopub.status.busy": "2025-05-23T19:47:17.481232Z",
          "iopub.execute_input": "2025-05-23T19:47:17.48153Z",
          "iopub.status.idle": "2025-05-23T19:47:18.263902Z",
          "shell.execute_reply.started": "2025-05-23T19:47:17.481508Z",
          "shell.execute_reply": "2025-05-23T19:47:18.263001Z"
        },
        "id": "Qtb-vuWL6rTA"
      },
      "outputs": [],
      "execution_count": null
    },
    {
      "cell_type": "code",
      "source": [
        "# Preprocess Functions\n",
        "def preprocess_text(text):\n",
        "    if pd.isna(text):\n",
        "        return \"\"\n",
        "    text = text.lower()\n",
        "    doc = nlp(text)\n",
        "    original_terms = [token.text for token in doc]  # Use spaCy tokenization\n",
        "    lemmatized = ' '.join([token.lemma_ for token in doc if not token.is_stop])\n",
        "    return {'original': original_terms, 'lemmatized': lemmatized}\n",
        "\n",
        "def extract_skills(text_data):\n",
        "    if pd.isna(text_data) or not isinstance(text_data, dict):\n",
        "        return []\n",
        "    original_terms = text_data['original']\n",
        "    return [skill for skill in SKILLS if any(skill in term for term in original_terms)]\n",
        "\n",
        "def extract_domains(text_data, skills=None):\n",
        "    if pd.isna(text_data) or not isinstance(text_data, dict):\n",
        "        return []\n",
        "    original_terms = text_data['original']\n",
        "    domains = [domain for domain in DOMAINS if any(domain in term for term in original_terms)]\n",
        "    if skills:\n",
        "        if 'aws' in skills or 'kubernetes' in skills or 'docker' in skills:\n",
        "            domains.append('tech')  # Infer tech domain for cloud-related skills\n",
        "        if 'management' in skills or 'leadership' in skills:\n",
        "            domains.append('business')  # Optional inferred domain\n",
        "    return list(set(domains))  # Remove duplicates"
      ],
      "metadata": {
        "trusted": true,
        "execution": {
          "iopub.status.busy": "2025-05-23T19:47:18.264807Z",
          "iopub.execute_input": "2025-05-23T19:47:18.265071Z",
          "iopub.status.idle": "2025-05-23T19:47:18.274261Z",
          "shell.execute_reply.started": "2025-05-23T19:47:18.26505Z",
          "shell.execute_reply": "2025-05-23T19:47:18.273269Z"
        },
        "id": "LM7c1uIA6rTB"
      },
      "outputs": [],
      "execution_count": null
    },
    {
      "cell_type": "markdown",
      "source": [
        "## 🛠️ Apply Preprocessing & Feature Extraction\n",
        "\n",
        "We'll lemmatize resume and job text, extract skills and domain indicators, and create a combined field for semantic comparison."
      ],
      "metadata": {
        "id": "tBzKLfRF6rTB"
      }
    },
    {
      "cell_type": "code",
      "source": [
        "# Apply preprocessing to job postings\n",
        "postings_sample_df['processed_desc'] = postings_sample_df['description'].apply(preprocess_text)\n",
        "postings_sample_df['job_skills'] = postings_sample_df['processed_desc'].apply(extract_skills)\n",
        "postings_sample_df['job_domain'] = postings_sample_df.apply(lambda x: extract_domains(x['processed_desc'], x['job_skills']), axis=1)\n",
        "\n",
        "# Apply preprocessing to resumes (using Resume_str as the main text field)\n",
        "resume_sample_df['processed_resume'] = resume_sample_df['Resume_str'].apply(preprocess_text)\n",
        "resume_sample_df['cv_skills'] = resume_sample_df['processed_resume'].apply(extract_skills)\n",
        "resume_sample_df['cv_domain'] = resume_sample_df.apply(lambda x: extract_domains(x['processed_resume'], x['cv_skills']), axis=1)\n",
        "\n",
        "# Combine data into a single DataFrame\n",
        "job_data = postings_sample_df[['job_id', 'title', 'processed_desc', 'job_skills', 'job_domain']].copy()\n",
        "resume_data = resume_sample_df[['ID', 'Resume_str', 'processed_resume', 'cv_skills', 'cv_domain']].copy()\n",
        "combined_data = pd.concat([job_data.assign(type='job'), resume_data.assign(type='resume')], ignore_index=True)\n",
        "\n",
        "# Save to CSV\n",
        "combined_data.to_csv('cleaned_data.csv', index=False)\n",
        "\n",
        "# Display sample\n",
        "print(combined_data[['type', 'job_skills', 'job_domain']].head())"
      ],
      "metadata": {
        "trusted": true,
        "execution": {
          "iopub.status.busy": "2025-05-23T19:47:18.27544Z",
          "iopub.execute_input": "2025-05-23T19:47:18.275768Z",
          "iopub.status.idle": "2025-05-23T19:51:45.06341Z",
          "shell.execute_reply.started": "2025-05-23T19:47:18.275744Z",
          "shell.execute_reply": "2025-05-23T19:51:45.062129Z"
        },
        "colab": {
          "base_uri": "https://localhost:8080/"
        },
        "id": "lKyFWvLI6rTB",
        "outputId": "094c8389-fd89-4210-827b-88e2dc833a2e"
      },
      "outputs": [
        {
          "output_type": "stream",
          "name": "stdout",
          "text": [
            "  type                                         job_skills  \\\n",
            "0  job  [engineering, design, development, communicati...   \n",
            "1  job                         [leadership, installation]   \n",
            "2  job                                       [management]   \n",
            "3  job                                  [aws, leadership]   \n",
            "4  job                                              [aws]   \n",
            "\n",
            "                    job_domain  \n",
            "0          [tech, engineering]  \n",
            "1             [tech, business]  \n",
            "2  [tech, business, education]  \n",
            "3             [tech, business]  \n",
            "4                       [tech]  \n"
          ]
        }
      ],
      "execution_count": null
    },
    {
      "cell_type": "markdown",
      "source": [
        "## Step 3: Generate Embeddings\n",
        "In this step, we use the `SentenceTransformer` model (`all-MiniLM-L6-v2`) to generate embeddings for the preprocessed job descriptions and resumes. These embeddings will be used to compute similarity scores for job-resume matching."
      ],
      "metadata": {
        "id": "UNl2_mwH6rTB"
      }
    },
    {
      "cell_type": "code",
      "source": [
        "# Initialize Sentence-BERT model\n",
        "model = SentenceTransformer('all-MiniLM-L6-v2')\n",
        "\n",
        "# Generate embeddings for sampled jobs and resumes\n",
        "job_texts = postings_sample_df['description'].fillna('').astype(str).tolist()\n",
        "resume_texts = resume_sample_df['Resume_str'].fillna('').astype(str).tolist()\n",
        "job_embeddings = model.encode(job_texts, show_progress_bar=True)\n",
        "resume_embeddings = model.encode(resume_texts, show_progress_bar=True)\n",
        "\n",
        "# Save embeddings to files\n",
        "np.save('job_embeddings.npy', job_embeddings)\n",
        "np.save('resume_embeddings.npy', resume_embeddings)\n",
        "\n",
        "# Display shapes to confirm\n",
        "print(\"Embedding generation complete. Shape of job_embeddings:\", job_embeddings.shape)\n",
        "print(\"Shape of resume_embeddings:\", resume_embeddings.shape)"
      ],
      "metadata": {
        "trusted": true,
        "execution": {
          "iopub.status.busy": "2025-05-23T19:51:45.064935Z",
          "iopub.execute_input": "2025-05-23T19:51:45.065378Z",
          "iopub.status.idle": "2025-05-23T19:53:54.225714Z",
          "shell.execute_reply.started": "2025-05-23T19:51:45.065341Z",
          "shell.execute_reply": "2025-05-23T19:53:54.224661Z"
        },
        "colab": {
          "base_uri": "https://localhost:8080/",
          "height": 116,
          "referenced_widgets": [
            "f2394c1396e64ccc8ad1c308edb17259",
            "df901121cb2348589ba968ba73f30f6b",
            "80fad9e757c04ea9b19847e89e9ef727",
            "e2a47d93a4ff451ea95168168c42fa33",
            "fa4319e1cf3845f48122ac1ac9f9d49a",
            "ca9d71cd03754b43a5e294f16b293b8f",
            "abc49755e57c41658c2006d0a2435556",
            "c8f9f11a47be42edb28d4f6b8a9e7200",
            "d44c895c513a4eba8a002426867e98f3",
            "2980ee5448f140a9a97e289720dca6a8",
            "3ee5b70985cd4e2c95b17c61d552bbd9",
            "f808cce6421749dbb4745e145553842f",
            "085389e29ac34ef0ba60ca815073fae2",
            "74676a504b2043fba6edcd7dd668c957",
            "6efce07c822e434b866aafd9d81d9c96",
            "5f57bfd308924e0bbb5f1812cc87e37f",
            "384ffda6bb4e4724b7c0a400158ceed4",
            "1849960013174db19e97a428a717a047",
            "f33bc827157c469bb9a4015402886b43",
            "372c131d8bbe4d3fafa5fe47943c8a33",
            "a4a8384717394847a292347866ebee4d",
            "3bc473460596472b8058239e522478fe"
          ]
        },
        "id": "MHvmfHbR6rTB",
        "outputId": "853df59b-9875-44b2-84e0-4b2c20e95225"
      },
      "outputs": [
        {
          "output_type": "display_data",
          "data": {
            "text/plain": [
              "Batches:   0%|          | 0/32 [00:00<?, ?it/s]"
            ],
            "application/vnd.jupyter.widget-view+json": {
              "version_major": 2,
              "version_minor": 0,
              "model_id": "f2394c1396e64ccc8ad1c308edb17259"
            }
          },
          "metadata": {}
        },
        {
          "output_type": "display_data",
          "data": {
            "text/plain": [
              "Batches:   0%|          | 0/32 [00:00<?, ?it/s]"
            ],
            "application/vnd.jupyter.widget-view+json": {
              "version_major": 2,
              "version_minor": 0,
              "model_id": "f808cce6421749dbb4745e145553842f"
            }
          },
          "metadata": {}
        },
        {
          "output_type": "stream",
          "name": "stdout",
          "text": [
            "Embedding generation complete. Shape of job_embeddings: (1000, 384)\n",
            "Shape of resume_embeddings: (1000, 384)\n"
          ]
        }
      ],
      "execution_count": null
    },
    {
      "cell_type": "code",
      "source": [
        "# Select 3 random job indices for consistent use across cells (using a fixed seed for reproducibility)\n",
        "np.random.seed(42)\n",
        "random_job_indices = np.random.choice(len(job_texts), 3, replace=False)\n",
        "print(\"Randomly selected job indices:\", random_job_indices)"
      ],
      "metadata": {
        "trusted": true,
        "execution": {
          "iopub.status.busy": "2025-05-23T19:53:54.226944Z",
          "iopub.execute_input": "2025-05-23T19:53:54.227292Z",
          "iopub.status.idle": "2025-05-23T19:53:54.234279Z",
          "shell.execute_reply.started": "2025-05-23T19:53:54.227257Z",
          "shell.execute_reply": "2025-05-23T19:53:54.233234Z"
        },
        "colab": {
          "base_uri": "https://localhost:8080/"
        },
        "id": "4qWkjj2n6rTB",
        "outputId": "ad67cc80-c85e-47bf-f142-b8fc803b3475"
      },
      "outputs": [
        {
          "output_type": "stream",
          "name": "stdout",
          "text": [
            "Randomly selected job indices: [521 737 740]\n"
          ]
        }
      ],
      "execution_count": null
    },
    {
      "cell_type": "code",
      "source": [
        "# Handle dynamic resume upload for job recommendations\n",
        "if uploaded_resume is not None:\n",
        "    resume_text = preprocess_text(uploaded_resume)\n",
        "    resume_embedding = model.encode([resume_text['lemmatized']])\n",
        "    similarities = cosine_similarity(resume_embedding, job_embeddings)[0]\n",
        "    top_jobs = np.argsort(similarities)[::-1][:5]\n",
        "    print(\"Top 5 recommended jobs for uploaded resume:\", top_jobs, similarities[top_jobs])\n",
        "\n",
        "# Handle dynamic JD upload or job selection for candidate recommendations\n",
        "if uploaded_jd is not None:\n",
        "    jd_text = preprocess_text(uploaded_jd)\n",
        "    jd_embedding = model.encode([jd_text['lemmatized']])\n",
        "    similarities = cosine_similarity(jd_embedding, resume_embeddings)[0]\n",
        "    top_candidates = np.argsort(similarities)[::-1][:5]\n",
        "    print(\"Top 5 recommended candidates for uploaded JD:\", top_candidates, similarities[top_candidates])\n",
        "else:\n",
        "    # Default matching: jobs to resumes\n",
        "    similarities = cosine_similarity(job_embeddings, resume_embeddings)\n",
        "    top_matches = np.argsort(similarities, axis=1)[:, -5:][:, ::-1]\n",
        "    for idx in random_job_indices:  # Use randomly selected jobs instead of first 3\n",
        "        print(f\"Top 5 resumes for Job {idx}:\", top_matches[idx], similarities[idx, top_matches[idx]])"
      ],
      "metadata": {
        "trusted": true,
        "execution": {
          "iopub.status.busy": "2025-05-23T19:53:54.235058Z",
          "iopub.execute_input": "2025-05-23T19:53:54.235387Z",
          "iopub.status.idle": "2025-05-23T19:53:54.31841Z",
          "shell.execute_reply.started": "2025-05-23T19:53:54.235364Z",
          "shell.execute_reply": "2025-05-23T19:53:54.317411Z"
        },
        "colab": {
          "base_uri": "https://localhost:8080/"
        },
        "id": "r_f6-OAn6rTC",
        "outputId": "8e09bc51-376f-4875-8c4b-9af314d22a05"
      },
      "outputs": [
        {
          "output_type": "stream",
          "name": "stdout",
          "text": [
            "Top 5 resumes for Job 521: [601 801 520 868 720] [0.45809653 0.45604748 0.44415238 0.44322935 0.44068673]\n",
            "Top 5 resumes for Job 737: [672 941 741  42 340] [0.59538037 0.54622376 0.539333   0.5178992  0.5161602 ]\n",
            "Top 5 resumes for Job 740: [931 601 856  90  36] [0.47056913 0.43281907 0.4324118  0.40560344 0.4045332 ]\n"
          ]
        }
      ],
      "execution_count": null
    },
    {
      "cell_type": "code",
      "source": [
        "# Calculate average similarity scores for the randomly selected jobs\n",
        "avg_similarities = np.mean(similarities, axis=1)\n",
        "selected_avg_similarities = avg_similarities[random_job_indices]\n",
        "print(\"Average similarity scores for selected jobs:\", selected_avg_similarities)"
      ],
      "metadata": {
        "trusted": true,
        "execution": {
          "iopub.status.busy": "2025-05-23T19:53:54.319507Z",
          "iopub.execute_input": "2025-05-23T19:53:54.319803Z",
          "iopub.status.idle": "2025-05-23T19:53:54.326926Z",
          "shell.execute_reply.started": "2025-05-23T19:53:54.319779Z",
          "shell.execute_reply": "2025-05-23T19:53:54.325884Z"
        },
        "colab": {
          "base_uri": "https://localhost:8080/"
        },
        "id": "lmpZYLjB6rTC",
        "outputId": "ce46a200-5756-442b-8fb9-3ef8be6d2869"
      },
      "outputs": [
        {
          "output_type": "stream",
          "name": "stdout",
          "text": [
            "Average similarity scores for selected jobs: [0.2187338  0.2592082  0.18194537]\n"
          ]
        }
      ],
      "execution_count": null
    },
    {
      "cell_type": "markdown",
      "source": [
        "## Step 4: Compute Similarity and Generate Recommendations\n",
        "In this step, we compute cosine similarity between job and resume embeddings to recommend the top 5 resume matches for each job posting."
      ],
      "metadata": {
        "id": "5ezeXExd6rTC"
      }
    },
    {
      "cell_type": "code",
      "source": [
        "# Compute cosine similarity between job and resume embeddings\n",
        "similarity_matrix = cosine_similarity(job_embeddings, resume_embeddings)\n",
        "\n",
        "# Get top 5 matches for each job\n",
        "top_k = 5\n",
        "job_recommendations = []\n",
        "for i in range(len(job_texts)):\n",
        "    top_indices = similarity_matrix[i].argsort()[-top_k-1:-1][::-1]  # Top 5 (excluding the highest, often itself)\n",
        "    job_recommendations.append([(combined_data[combined_data['type'] == 'resume'].index[j], similarity_matrix[i][j]) for j in top_indices])\n",
        "\n",
        "# Display sample recommendations for the randomly selected jobs\n",
        "for idx in random_job_indices:\n",
        "    print(f\"Top 5 recommendations for Job {idx} (Job ID: {combined_data[combined_data['type'] == 'job'].iloc[idx]['job_id']}):\")\n",
        "    for rec_idx, score in job_recommendations[idx]:\n",
        "        print(f\"  Resume {combined_data.iloc[rec_idx]['ID']} (Score: {score:.4f})\")"
      ],
      "metadata": {
        "trusted": true,
        "execution": {
          "iopub.status.busy": "2025-05-23T20:14:45.439339Z",
          "iopub.execute_input": "2025-05-23T20:14:45.43977Z",
          "iopub.status.idle": "2025-05-23T20:14:48.96239Z",
          "shell.execute_reply.started": "2025-05-23T20:14:45.439741Z",
          "shell.execute_reply": "2025-05-23T20:14:48.961261Z"
        },
        "colab": {
          "base_uri": "https://localhost:8080/"
        },
        "id": "_9liYPwd6rTC",
        "outputId": "3c581b8a-c997-4690-d8d8-0c95ad1e61b7"
      },
      "outputs": [
        {
          "output_type": "stream",
          "name": "stdout",
          "text": [
            "Top 5 recommendations for Job 521 (Job ID: 3889483400.0):\n",
            "  Resume 96260484.0 (Score: 0.4560)\n",
            "  Resume 16519708.0 (Score: 0.4442)\n",
            "  Resume 25001005.0 (Score: 0.4432)\n",
            "  Resume 21134923.0 (Score: 0.4407)\n",
            "  Resume 13586069.0 (Score: 0.4353)\n",
            "Top 5 recommendations for Job 737 (Job ID: 3904587506.0):\n",
            "  Resume 19612167.0 (Score: 0.5462)\n",
            "  Resume 32773331.0 (Score: 0.5393)\n",
            "  Resume 25930778.0 (Score: 0.5179)\n",
            "  Resume 15858254.0 (Score: 0.5162)\n",
            "  Resume 12695537.0 (Score: 0.5085)\n",
            "Top 5 recommendations for Job 740 (Job ID: 3902736532.0):\n",
            "  Resume 36102323.0 (Score: 0.4328)\n",
            "  Resume 73075521.0 (Score: 0.4324)\n",
            "  Resume 16911115.0 (Score: 0.4056)\n",
            "  Resume 12613221.0 (Score: 0.4045)\n",
            "  Resume 27375577.0 (Score: 0.3972)\n"
          ]
        }
      ],
      "execution_count": null
    },
    {
      "cell_type": "code",
      "source": [
        "# Inspect one of the randomly selected jobs (e.g., first in the random indices) and its top match\n",
        "job_idx = random_job_indices[0]  # Use first randomly selected job\n",
        "resume_idx = job_recommendations[job_idx][0][0]  # Index of top resume for that job\n",
        "\n",
        "print(f\"Job {job_idx} (ID: {combined_data.iloc[job_idx]['job_id']}):\")\n",
        "print(\"Title:\", combined_data.iloc[job_idx]['title'])\n",
        "print(\"Skills:\", combined_data.iloc[job_idx]['job_skills'])\n",
        "print(\"Domain:\", combined_data.iloc[job_idx]['job_domain'])\n",
        "print(\"\\nTop Matching Resume (ID:\", combined_data.iloc[resume_idx]['ID'], \"):\")\n",
        "print(\"Skills:\", combined_data.iloc[resume_idx]['cv_skills'])\n",
        "print(\"Domain:\", combined_data.iloc[resume_idx]['cv_domain'])"
      ],
      "metadata": {
        "trusted": true,
        "execution": {
          "iopub.status.busy": "2025-05-23T20:17:09.038268Z",
          "iopub.execute_input": "2025-05-23T20:17:09.038631Z",
          "iopub.status.idle": "2025-05-23T20:17:09.047248Z",
          "shell.execute_reply.started": "2025-05-23T20:17:09.038609Z",
          "shell.execute_reply": "2025-05-23T20:17:09.046016Z"
        },
        "colab": {
          "base_uri": "https://localhost:8080/"
        },
        "id": "8xIQsaDg6rTC",
        "outputId": "717674c4-639c-4d6b-f537-a0a5c31d6e87"
      },
      "outputs": [
        {
          "output_type": "stream",
          "name": "stdout",
          "text": [
            "Job 521 (ID: 3889483400.0):\n",
            "Title: Division Chief of Training - HSE Fire and Rescue\n",
            "Skills: ['management', 'design', 'leadership', 'technical']\n",
            "Domain: ['healthcare', 'business', 'legal', 'manufacturing', 'tech']\n",
            "\n",
            "Top Matching Resume (ID: 96260484.0 ):\n",
            "Skills: ['management', 'marketing', 'design', 'development', 'leadership']\n",
            "Domain: ['healthcare', 'business', 'education', 'marketing']\n"
          ]
        }
      ],
      "execution_count": null
    },
    {
      "cell_type": "code",
      "source": [
        "# Compute average similarity of top matches for all jobs\n",
        "avg_top_scores = [sum(score for _, score in recs) / len(recs) for recs in job_recommendations]\n",
        "print(\"Average similarity of top matches per job:\", np.mean(avg_top_scores))\n",
        "\n",
        "# For visualization prep, compute averages for the randomly selected jobs\n",
        "selected_avg_scores = [sum(score for _, score in job_recommendations[idx]) / len(job_recommendations[idx]) for idx in random_job_indices]\n",
        "for idx, avg_score in zip(random_job_indices, selected_avg_scores):\n",
        "    print(f\"Average score for Job {idx}:\", avg_score)"
      ],
      "metadata": {
        "trusted": true,
        "execution": {
          "iopub.status.busy": "2025-05-23T20:18:04.956583Z",
          "iopub.execute_input": "2025-05-23T20:18:04.956937Z",
          "iopub.status.idle": "2025-05-23T20:18:04.969667Z",
          "shell.execute_reply.started": "2025-05-23T20:18:04.956914Z",
          "shell.execute_reply": "2025-05-23T20:18:04.968654Z"
        },
        "colab": {
          "base_uri": "https://localhost:8080/"
        },
        "id": "kvxghUSA6rTC",
        "outputId": "37135376-8eb9-4f00-f6cc-2f1b137d5731"
      },
      "outputs": [
        {
          "output_type": "stream",
          "name": "stdout",
          "text": [
            "Average similarity of top matches per job: 0.53187054\n",
            "Average score for Job 521: 0.44388634\n",
            "Average score for Job 737: 0.5256324\n",
            "Average score for Job 740: 0.41452345\n"
          ]
        }
      ],
      "execution_count": null
    },
    {
      "cell_type": "markdown",
      "source": [
        "## Step 5: Evaluation and Visualization\n",
        "\n",
        "We evaluate the quality of recommendations by analyzing similarity scores and visualizing the average scores for the top matches across the 1,000-sample dataset, including dynamic resume and JD inputs.\n",
        "\n",
        "### Visualization\n",
        "A bar chart of average similarity scores for 3 randomly selected jobs (indices 521, 737, 740), reflecting performance with the scaled dataset and new use cases."
      ],
      "metadata": {
        "id": "WpUNFSB76rTD"
      }
    },
    {
      "cell_type": "code",
      "source": [
        "# Data for the chart (using the randomly selected jobs and their average similarities)\n",
        "jobs = [f\"Job {idx}\" for idx in random_job_indices]\n",
        "avg_scores = selected_avg_scores  # From Step 4: [0.4438863217830658, 0.525632381439209, 0.4145234405994415]\n",
        "colors = ['#4CAF50', '#FF9800', '#2196F3']  # Same colors as chartjs\n",
        "\n",
        "# Create the bar chart\n",
        "plt.figure(figsize=(8, 6))\n",
        "plt.bar(jobs, avg_scores, color=colors, edgecolor=['#388E3C', '#F57C00', '#1976D2'], linewidth=1)\n",
        "plt.title('Average Similarity Scores for Top Matches (Randomly Selected Jobs)')\n",
        "plt.xlabel('Jobs')\n",
        "plt.ylabel('Average Similarity Score')\n",
        "plt.ylim(0, 1)  # Set y-axis to start at 0"
      ],
      "metadata": {
        "trusted": true,
        "execution": {
          "iopub.status.busy": "2025-05-23T20:26:20.335736Z",
          "iopub.execute_input": "2025-05-23T20:26:20.336338Z",
          "iopub.status.idle": "2025-05-23T20:26:20.540458Z",
          "shell.execute_reply.started": "2025-05-23T20:26:20.336311Z",
          "shell.execute_reply": "2025-05-23T20:26:20.539463Z"
        },
        "colab": {
          "base_uri": "https://localhost:8080/",
          "height": 581
        },
        "id": "Xkdh7Pwj6rTD",
        "outputId": "13d30aa1-5a23-4e5d-e7d9-d808f7db4649"
      },
      "outputs": [
        {
          "output_type": "execute_result",
          "data": {
            "text/plain": [
              "(0.0, 1.0)"
            ]
          },
          "metadata": {},
          "execution_count": 32
        },
        {
          "output_type": "display_data",
          "data": {
            "text/plain": [
              "<Figure size 800x600 with 1 Axes>"
            ],
            "image/png": "[encoded data removed]"
          },
          "metadata": {}
        }
      ],
      "execution_count": null
    }
  ]
}